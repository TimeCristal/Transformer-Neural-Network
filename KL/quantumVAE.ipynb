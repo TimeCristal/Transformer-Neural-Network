{
 "cells": [
  {
   "metadata": {
    "ExecuteTime": {
     "end_time": "2024-09-14T06:18:22.044806Z",
     "start_time": "2024-09-14T06:18:22.030559Z"
    }
   },
   "cell_type": "code",
   "source": [
    "import pennylane as qml\n",
    "import torch\n",
    "import torch.nn as nn\n",
    "import torch.optim as optim\n",
    "from sklearn.svm import SVC\n",
    "from sklearn.metrics import hinge_loss\n",
    "from kl.utils import load_fx\n",
    "from torch.utils.data import DataLoader, TensorDataset\n",
    "import numpy as np\n",
    "\n",
    "\n",
    "# Define the quantum circuit for 8 qubits (one per feature)\n",
    "def quantum_circuit(params, x):\n",
    "    n_qubits = len(x)  # Ensure we are only working with 8 qubits\n",
    "    for i in range(n_qubits):\n",
    "        qml.RX(x[i], wires=i)  # Apply RX to qubit i with the i-th feature\n",
    "        qml.RY(params[0], wires=i)\n",
    "        qml.RZ(params[1], wires=i)\n",
    "    \n",
    "    # Measure the expectation value of Pauli-Z on all qubits\n",
    "    # Return only a single vector of length 8 (one value per qubit)\n",
    "    return [qml.expval(qml.PauliZ(i)) for i in range(n_qubits)]\n",
    "\n",
    "# Define the quantum encoder\n",
    "class QuantumEncoder(nn.Module):\n",
    "    def __init__(self, n_qubits, n_features):\n",
    "        super(QuantumEncoder, self).__init__()\n",
    "        self.n_qubits = n_qubits\n",
    "        self.n_features = n_features\n",
    "        \n",
    "        # Initialize the device with exactly 8 qubits\n",
    "        self.dev = qml.device(\"default.qubit\", wires=n_qubits)\n",
    "        self.qcircuit = qml.QNode(quantum_circuit, self.dev)\n",
    "\n",
    "    def forward(self, x):\n",
    "        outputs = []\n",
    "        params = torch.randn(2)  # Parameters for the quantum circuit\n",
    "        \n",
    "        # Loop through each sample in the batch\n",
    "        for sample in x:\n",
    "            sample = sample.detach().cpu().numpy()  # Convert sample to NumPy array for PennyLane\n",
    "            sample = sample[:self.n_qubits]  # Ensure we're only passing 8 features for 8 qubits\n",
    "            output = self.qcircuit(params, sample)  # Process the whole sample at once\n",
    "            \n",
    "            # Ensure that the output is a vector of length 8\n",
    "            if np.shape(output) == (8, 8):\n",
    "                output = np.mean(output, axis=1)  # Take the mean if it's a matrix, to reduce to (8,)\n",
    "            \n",
    "            # Debugging: print output shape for each sample\n",
    "            # print(f\"Output shape for sample after correction: {np.shape(output)}\")\n",
    "            \n",
    "            # Ensure output is a NumPy array of consistent shape\n",
    "            outputs.append(np.array(output))  # Each output is a vector of qubit expectation values (length 8)\n",
    "        \n",
    "        # Use np.stack() to ensure the outputs have consistent shape\n",
    "        outputs_np = np.stack(outputs, axis=0)\n",
    "        \n",
    "        # Convert outputs to a tensor\n",
    "        outputs_tensor = torch.tensor(outputs_np, dtype=torch.float32)\n",
    "        return outputs_tensor  # Shape: [batch_size, 8]\n",
    "    \n",
    "# Define the classical decoder\n",
    "class ClassicalDecoder(nn.Module):\n",
    "    def __init__(self, n_features):\n",
    "        super(ClassicalDecoder, self).__init__()\n",
    "        self.fc1 = nn.Linear(8, 128)  # Change input size from 1 to 8 to match latent vector size\n",
    "        self.fc2 = nn.Linear(128, n_features)\n",
    "        self.relu = nn.ReLU()\n",
    "\n",
    "    def forward(self, x):\n",
    "        # Decode the quantum output\n",
    "        x = self.fc1(x)\n",
    "        x = self.relu(x)\n",
    "        x = self.fc2(x)\n",
    "        return x\n",
    "\n",
    "\n",
    "# Define the quantum VAE\n",
    "class QuantumVAE(nn.Module):\n",
    "    def __init__(self, n_qubits, n_features):\n",
    "        super(QuantumVAE, self).__init__()\n",
    "        self.encoder = QuantumEncoder(n_qubits, n_features)\n",
    "        self.decoder = ClassicalDecoder(n_features)\n",
    "\n",
    "    def forward(self, x):\n",
    "        latent = self.encoder(x)\n",
    "        reconstructed_x = self.decoder(latent)\n",
    "        return latent, reconstructed_x\n"
   ],
   "id": "ac61c130e4bbea74",
   "outputs": [],
   "execution_count": 326
  },
  {
   "metadata": {
    "ExecuteTime": {
     "end_time": "2024-09-14T06:18:27.874903Z",
     "start_time": "2024-09-14T06:18:27.868654Z"
    }
   },
   "cell_type": "code",
   "source": [
    "def train_vae_with_svm(vae, dataloader, svm, optimizer, n_epochs=10):\n",
    "    vae.train()\n",
    "    svm_loss_weight = 0.1  # Hyperparameter to weight the SVM loss\n",
    "\n",
    "    for epoch in range(n_epochs):\n",
    "        total_loss = 0\n",
    "        for batch in dataloader:\n",
    "            # Unpack the batch data (features and labels)\n",
    "            x, labels = batch  # Assuming DataLoader returns (X, y)\n",
    "            # Convert 0/1 labels to -1/1 for hinge loss\n",
    "            labels = labels * 2 - 1  # 0 -> -1, 1 -> 1\n",
    "            \n",
    "            # 1. Forward pass through VAE\n",
    "            latent_vectors, reconstructed_x = vae(x)  # Get the latent space representation\n",
    "            \n",
    "            # 2. Train the SVM on the latent space\n",
    "            # Fit the SVM on the latent vectors\n",
    "            svm.fit(latent_vectors.detach().cpu().numpy(), labels.cpu().numpy())\n",
    "            svm_score = svm.score(latent_vectors.detach().cpu().numpy(), labels.cpu().numpy())\n",
    "            \n",
    "            # 3. Calculate reconstruction loss\n",
    "            recon_loss = nn.MSELoss()(reconstructed_x, x)\n",
    "            \n",
    "            # 4. (Optional) Calculate KL divergence (if applicable)\n",
    "            # Calculate KL divergence (assuming Gaussian latent space)\n",
    "            mu = torch.mean(latent_vectors, dim=0)\n",
    "            log_var = torch.var(latent_vectors, dim=0).log()\n",
    "            kl_divergence = -0.5 * torch.sum(1 + log_var - mu.pow(2) - log_var.exp())\n",
    "            \n",
    "            # 5. Calculate the SVM hinge loss\n",
    "            svm_predictions = svm.predict(latent_vectors.detach().cpu().numpy())\n",
    "            svm_loss = hinge_loss(labels.cpu().numpy(), svm_predictions)\n",
    "            \n",
    "            # 6. Combine losses (Reconstruction, KL, and SVM Loss)\n",
    "            # total_batch_loss = recon_loss + kl_divergence + svm_loss_weight * svm_loss\n",
    "            total_batch_loss = recon_loss  + svm_loss_weight * svm_loss # remove KL div because is result that must increase\n",
    "            # print(f'kl_divergence :{kl_divergence.item()}, svm_loss :{svm_loss}')\n",
    "            total_loss += total_batch_loss.item()#1 - svm_score#\n",
    "            \n",
    "            # 7. Backpropagation and optimization\n",
    "            optimizer.zero_grad()\n",
    "            total_batch_loss.backward()\n",
    "            optimizer.step()\n",
    "        print(f'Epoch [{epoch+1}/{n_epochs}], recon_loss : {recon_loss:.4f}, kl_divergence :{kl_divergence.item():.4f}, svm_loss :{svm_loss:.4f}, svm_score :{svm_score:.4f}, total_loss : {total_loss/len(dataloader):.4f}')\n",
    "        # print(f'Epoch [{epoch+1}/{n_epochs}], Loss: {total_loss/len(dataloader)}')\n",
    "\n",
    "    return vae"
   ],
   "id": "669cde89ae7a3ea6",
   "outputs": [],
   "execution_count": 327
  },
  {
   "metadata": {
    "ExecuteTime": {
     "end_time": "2024-09-14T06:18:39.065297Z",
     "start_time": "2024-09-14T06:18:37.326275Z"
    }
   },
   "cell_type": "code",
   "source": [
    "\n",
    "from sklearn.preprocessing import MinMaxScaler\n",
    "\n",
    "X, y = load_fx(data_start=0, data_end=5000, shift=1)\n",
    "scaler = MinMaxScaler(feature_range=(-np.pi / 2, np.pi / 2))\n",
    "X_scaled = scaler.fit_transform (X)"
   ],
   "id": "ff466922ed05a3f8",
   "outputs": [],
   "execution_count": 328
  },
  {
   "metadata": {
    "ExecuteTime": {
     "end_time": "2024-09-14T06:18:50.067330Z",
     "start_time": "2024-09-14T06:18:50.055425Z"
    }
   },
   "cell_type": "code",
   "source": [
    "\n",
    "# Assuming you already have your data loaded as X, y\n",
    "X_tensor = torch.tensor(X_scaled, dtype=torch.float32)\n",
    "y_tensor = torch.tensor(y, dtype=torch.long)\n",
    "\n",
    "# Create a DataLoader for batching\n",
    "batch_size = 64\n",
    "dataset = TensorDataset(X_tensor, y_tensor)\n",
    "dataloader = DataLoader(dataset, batch_size=batch_size, shuffle=True)\n"
   ],
   "id": "9446f4345044514a",
   "outputs": [],
   "execution_count": 329
  },
  {
   "metadata": {
    "ExecuteTime": {
     "end_time": "2024-09-14T06:18:52.463346Z",
     "start_time": "2024-09-14T06:18:52.458966Z"
    }
   },
   "cell_type": "code",
   "source": "print(X_tensor.shape, y.shape)",
   "id": "e9b2adce117414d1",
   "outputs": [
    {
     "name": "stdout",
     "output_type": "stream",
     "text": [
      "torch.Size([4990, 8]) (4990,)\n"
     ]
    }
   ],
   "execution_count": 330
  },
  {
   "metadata": {
    "ExecuteTime": {
     "end_time": "2024-09-14T06:18:54.183642Z",
     "start_time": "2024-09-14T06:18:54.173642Z"
    }
   },
   "cell_type": "code",
   "source": "print(f'X_tensor - > Mean : {X_tensor.mean()}, Std : {X_tensor.std()}, min : {X_tensor.min()}, max : {X_tensor.max()}')",
   "id": "8cfca5fd06d49d03",
   "outputs": [
    {
     "name": "stdout",
     "output_type": "stream",
     "text": [
      "X_tensor - > Mean : -0.013602559454739094, Std : 0.6194427609443665, min : -1.5707963705062866, max : 1.5707963705062866\n"
     ]
    }
   ],
   "execution_count": 331
  },
  {
   "metadata": {
    "jupyter": {
     "is_executing": true
    },
    "ExecuteTime": {
     "start_time": "2024-09-14T06:19:01.955019Z"
    }
   },
   "cell_type": "code",
   "source": [
    "\n",
    "#Assuming a dataloader and optimizer have been set up, and an SVM classifier initialized:\n",
    "vae = QuantumVAE(n_qubits=8, n_features=8)\n",
    "# svm = SVC(kernel='linear')  # Linear SVM\n",
    "# Increase the regularization strength or try different kernels\n",
    "# svm = SVC(C=10, kernel='rbf')\n",
    "# svm = SVC(C=100, kernel='linear')  # Reduce C to avoid overfitting\n",
    "svm = SVC(C=3, kernel='rbf')# my random guest\n",
    "LR = 0.00001#0.0001 -> second  #0.001->initial\n",
    "optimizer = optim.Adam(vae.parameters(), lr=LR)\n",
    "# Train the model\n",
    "train_vae_with_svm(vae, dataloader, svm, optimizer, n_epochs=100)"
   ],
   "id": "e2c596a7285565c6",
   "outputs": [
    {
     "name": "stdout",
     "output_type": "stream",
     "text": [
      "Epoch [1/100], recon_loss : 0.3912, kl_divergence :30.0001, svm_loss :0.1935, svm_score :0.9032, total_loss : 0.4317\n",
      "Epoch [2/100], recon_loss : 0.3929, kl_divergence :16.3769, svm_loss :0.2581, svm_score :0.8710, total_loss : 0.4289\n",
      "Epoch [3/100], recon_loss : 0.3992, kl_divergence :12.1900, svm_loss :0.2581, svm_score :0.8710, total_loss : 0.4252\n",
      "Epoch [4/100], recon_loss : 0.3931, kl_divergence :16.0928, svm_loss :0.2258, svm_score :0.8871, total_loss : 0.4219\n",
      "Epoch [5/100], recon_loss : 0.3912, kl_divergence :13.1304, svm_loss :0.3548, svm_score :0.8226, total_loss : 0.4201\n",
      "Epoch [6/100], recon_loss : 0.3901, kl_divergence :16.6405, svm_loss :0.3226, svm_score :0.8387, total_loss : 0.4186\n",
      "Epoch [7/100], recon_loss : 0.3872, kl_divergence :16.5358, svm_loss :0.1935, svm_score :0.9032, total_loss : 0.4160\n",
      "Epoch [8/100], recon_loss : 0.3899, kl_divergence :13.0682, svm_loss :0.2581, svm_score :0.8710, total_loss : 0.4166\n",
      "Epoch [9/100], recon_loss : 0.3927, kl_divergence :12.6991, svm_loss :0.1935, svm_score :0.9032, total_loss : 0.4139\n",
      "Epoch [10/100], recon_loss : 0.3894, kl_divergence :12.9584, svm_loss :0.1613, svm_score :0.9194, total_loss : 0.4120\n",
      "Epoch [11/100], recon_loss : 0.3878, kl_divergence :20.7229, svm_loss :0.1935, svm_score :0.9032, total_loss : 0.4119\n",
      "Epoch [12/100], recon_loss : 0.3892, kl_divergence :15.6635, svm_loss :0.1935, svm_score :0.9032, total_loss : 0.4142\n",
      "Epoch [13/100], recon_loss : 0.3974, kl_divergence :14.5146, svm_loss :0.2903, svm_score :0.8548, total_loss : 0.4127\n",
      "Epoch [14/100], recon_loss : 0.3857, kl_divergence :14.0872, svm_loss :0.1613, svm_score :0.9194, total_loss : 0.4111\n",
      "Epoch [15/100], recon_loss : 0.3889, kl_divergence :12.4165, svm_loss :0.1613, svm_score :0.9194, total_loss : 0.4105\n",
      "Epoch [16/100], recon_loss : 0.3874, kl_divergence :11.8474, svm_loss :0.2581, svm_score :0.8710, total_loss : 0.4106\n",
      "Epoch [17/100], recon_loss : 0.3851, kl_divergence :15.7057, svm_loss :0.1613, svm_score :0.9194, total_loss : 0.4091\n",
      "Epoch [18/100], recon_loss : 0.3860, kl_divergence :28.5333, svm_loss :0.2258, svm_score :0.8871, total_loss : 0.4103\n",
      "Epoch [19/100], recon_loss : 0.3859, kl_divergence :36.6625, svm_loss :0.3226, svm_score :0.8387, total_loss : 0.4100\n",
      "Epoch [20/100], recon_loss : 0.3881, kl_divergence :12.2131, svm_loss :0.1613, svm_score :0.9194, total_loss : 0.4095\n",
      "Epoch [21/100], recon_loss : 0.3957, kl_divergence :13.6729, svm_loss :0.2581, svm_score :0.8710, total_loss : 0.4106\n",
      "Epoch [22/100], recon_loss : 0.3888, kl_divergence :12.0535, svm_loss :0.2903, svm_score :0.8548, total_loss : 0.4070\n",
      "Epoch [23/100], recon_loss : 0.3849, kl_divergence :20.1253, svm_loss :0.2581, svm_score :0.8710, total_loss : 0.4086\n",
      "Epoch [24/100], recon_loss : 0.3816, kl_divergence :11.8032, svm_loss :0.2581, svm_score :0.8710, total_loss : 0.4106\n",
      "Epoch [25/100], recon_loss : 0.3810, kl_divergence :12.3962, svm_loss :0.1290, svm_score :0.9355, total_loss : 0.4103\n"
     ]
    }
   ],
   "execution_count": null
  },
  {
   "metadata": {
    "ExecuteTime": {
     "end_time": "2024-09-13T12:34:45.457491Z",
     "start_time": "2024-09-13T12:34:45.451947Z"
    }
   },
   "cell_type": "code",
   "source": "# a81c40df80b2f0e4fc44eb019f0c411a0e73a97d915664e57a75c28697c0f4bc3a7d511cf3fcf7dc52131a94b7e94bf950ca8382f1f8b6259157045bbfeb3e97",
   "id": "e637af7250e7286f",
   "outputs": [],
   "execution_count": 286
  },
  {
   "metadata": {
    "ExecuteTime": {
     "end_time": "2024-09-13T12:34:45.462885Z",
     "start_time": "2024-09-13T12:34:45.460580Z"
    }
   },
   "cell_type": "code",
   "source": "# a81c40df80b2f0e4fc44eb019f0c411a0e73a97d915664e57a75c28697c0f4bc3a7d511cf3fcf7dc52131a94b7e94bf950ca8382f1f8b6259157045bbfeb3e97",
   "id": "6929a71b17bdfcf1",
   "outputs": [],
   "execution_count": 287
  },
  {
   "metadata": {},
   "cell_type": "code",
   "outputs": [],
   "execution_count": null,
   "source": [
    "from qiskit_ibm_provider import IBMProvider\n",
    "\n",
    "# Save your credentials on disk.\n",
    "# IBMProvider.save_account(token='<IBM Quantum API key>')\n",
    "\n",
    "provider = IBMProvider(instance='ibm-q/open/main')"
   ],
   "id": "c66f37ad9faea3b0"
  },
  {
   "metadata": {
    "ExecuteTime": {
     "end_time": "2024-09-13T12:40:15.483844Z",
     "start_time": "2024-09-13T12:40:08.483906Z"
    }
   },
   "cell_type": "code",
   "source": [
    "from qiskit_ibm_runtime import QiskitRuntimeService\n",
    "\n",
    "token = 'a81c40df80b2f0e4fc44eb019f0c411a0e73a97d915664e57a75c28697c0f4bc3a7d511cf3fcf7dc52131a94b7e94bf950ca8382f1f8b6259157045bbfeb3e97'\n",
    "service = QiskitRuntimeService(\n",
    "    channel='ibm_quantum',\n",
    "    instance='ibm-q/open/main',\n",
    "    token=token\n",
    ")\n",
    "\n",
    "# Or save your credentials on disk.\n",
    "QiskitRuntimeService.save_account(channel='ibm_quantum', instance='ibm-q/open/main', token=token)"
   ],
   "id": "8ba2aa5287055139",
   "outputs": [],
   "execution_count": 288
  },
  {
   "metadata": {
    "ExecuteTime": {
     "end_time": "2024-09-13T12:42:04.816409Z",
     "start_time": "2024-09-13T12:42:00.245909Z"
    }
   },
   "cell_type": "code",
   "source": [
    "# List available backends\n",
    "backends = service.backends()"
   ],
   "id": "f04315a04eb32183",
   "outputs": [],
   "execution_count": 289
  },
  {
   "metadata": {
    "ExecuteTime": {
     "end_time": "2024-09-13T12:59:16.213414Z",
     "start_time": "2024-09-13T12:59:14.949547Z"
    }
   },
   "cell_type": "code",
   "source": [
    "print(backends)\n",
    "# Print properties of each backend\n",
    "for backend in backends:\n",
    "    print(f\"Backend: {backend.acquire_channel(qubit=8)}, Qubits: {backend.configuration().n_qubits}, status:{backend.status().status_msg}\")"
   ],
   "id": "252cbdd0e62a14d8",
   "outputs": [
    {
     "name": "stdout",
     "output_type": "stream",
     "text": [
      "[<IBMBackend('ibm_sherbrooke')>, <IBMBackend('ibm_kyiv')>, <IBMBackend('ibm_brisbane')>]\n",
      "Backend: AcquireChannel(8), Qubits: 127, status:active\n",
      "Backend: AcquireChannel(8), Qubits: 127, status:active\n",
      "Backend: AcquireChannel(8), Qubits: 127, status:active\n"
     ]
    }
   ],
   "execution_count": 303
  },
  {
   "metadata": {
    "ExecuteTime": {
     "end_time": "2024-09-13T13:10:02.112309Z",
     "start_time": "2024-09-13T13:10:02.093186Z"
    }
   },
   "cell_type": "code",
   "source": "n_qubits = backends[0].configuration().n_qubits",
   "id": "47f11ca90dd229d1",
   "outputs": [],
   "execution_count": 308
  },
  {
   "metadata": {},
   "cell_type": "code",
   "outputs": [],
   "execution_count": 310,
   "source": [
    "# Define a device using PennyLane and the backend you selected from IBM Quantum\n",
    "dev = qml.device('qiskit.remote', wires=n_qubits, backend=backends[0])"
   ],
   "id": "fb15815b759c737e"
  },
  {
   "metadata": {
    "ExecuteTime": {
     "end_time": "2024-09-14T05:21:16.591827Z",
     "start_time": "2024-09-13T13:11:12.798014Z"
    }
   },
   "cell_type": "code",
   "source": [
    "@qml.qnode(dev)\n",
    "def quantum_circuit(params):\n",
    "    for i in range(n_qubits):\n",
    "        qml.RX(params[i], wires=i)\n",
    "    return [qml.expval(qml.PauliZ(i)) for i in range(n_qubits)]\n",
    "\n",
    "# Run the quantum circuit\n",
    "params = [0.1 * i for i in range(n_qubits)]\n",
    "result = quantum_circuit(params)\n",
    "print(result)"
   ],
   "id": "13b4ca388ff49c88",
   "outputs": [
    {
     "ename": "KeyboardInterrupt",
     "evalue": "",
     "output_type": "error",
     "traceback": [
      "\u001B[0;31m---------------------------------------------------------------------------\u001B[0m",
      "\u001B[0;31mKeyboardInterrupt\u001B[0m                         Traceback (most recent call last)",
      "Cell \u001B[0;32mIn[311], line 9\u001B[0m\n\u001B[1;32m      7\u001B[0m \u001B[38;5;66;03m# Run the quantum circuit\u001B[39;00m\n\u001B[1;32m      8\u001B[0m params \u001B[38;5;241m=\u001B[39m [\u001B[38;5;241m0.1\u001B[39m \u001B[38;5;241m*\u001B[39m i \u001B[38;5;28;01mfor\u001B[39;00m i \u001B[38;5;129;01min\u001B[39;00m \u001B[38;5;28mrange\u001B[39m(n_qubits)]\n\u001B[0;32m----> 9\u001B[0m result \u001B[38;5;241m=\u001B[39m \u001B[43mquantum_circuit\u001B[49m\u001B[43m(\u001B[49m\u001B[43mparams\u001B[49m\u001B[43m)\u001B[49m\n\u001B[1;32m     10\u001B[0m \u001B[38;5;28mprint\u001B[39m(result)\n",
      "File \u001B[0;32m~/PycharmProjects/InformerBayes/attentionTransformers/lib/python3.10/site-packages/pennylane/workflow/qnode.py:1020\u001B[0m, in \u001B[0;36mQNode.__call__\u001B[0;34m(self, *args, **kwargs)\u001B[0m\n\u001B[1;32m   1018\u001B[0m \u001B[38;5;28;01mif\u001B[39;00m qml\u001B[38;5;241m.\u001B[39mcapture\u001B[38;5;241m.\u001B[39menabled():\n\u001B[1;32m   1019\u001B[0m     \u001B[38;5;28;01mreturn\u001B[39;00m qml\u001B[38;5;241m.\u001B[39mcapture\u001B[38;5;241m.\u001B[39mqnode_call(\u001B[38;5;28mself\u001B[39m, \u001B[38;5;241m*\u001B[39margs, \u001B[38;5;241m*\u001B[39m\u001B[38;5;241m*\u001B[39mkwargs)\n\u001B[0;32m-> 1020\u001B[0m \u001B[38;5;28;01mreturn\u001B[39;00m \u001B[38;5;28;43mself\u001B[39;49m\u001B[38;5;241;43m.\u001B[39;49m\u001B[43m_impl_call\u001B[49m\u001B[43m(\u001B[49m\u001B[38;5;241;43m*\u001B[39;49m\u001B[43margs\u001B[49m\u001B[43m,\u001B[49m\u001B[43m \u001B[49m\u001B[38;5;241;43m*\u001B[39;49m\u001B[38;5;241;43m*\u001B[39;49m\u001B[43mkwargs\u001B[49m\u001B[43m)\u001B[49m\n",
      "File \u001B[0;32m~/PycharmProjects/InformerBayes/attentionTransformers/lib/python3.10/site-packages/pennylane/workflow/qnode.py:1008\u001B[0m, in \u001B[0;36mQNode._impl_call\u001B[0;34m(self, *args, **kwargs)\u001B[0m\n\u001B[1;32m   1005\u001B[0m \u001B[38;5;28mself\u001B[39m\u001B[38;5;241m.\u001B[39m_update_gradient_fn(shots\u001B[38;5;241m=\u001B[39moverride_shots, tape\u001B[38;5;241m=\u001B[39m\u001B[38;5;28mself\u001B[39m\u001B[38;5;241m.\u001B[39m_tape)\n\u001B[1;32m   1007\u001B[0m \u001B[38;5;28;01mtry\u001B[39;00m:\n\u001B[0;32m-> 1008\u001B[0m     res \u001B[38;5;241m=\u001B[39m \u001B[38;5;28;43mself\u001B[39;49m\u001B[38;5;241;43m.\u001B[39;49m\u001B[43m_execution_component\u001B[49m\u001B[43m(\u001B[49m\u001B[43margs\u001B[49m\u001B[43m,\u001B[49m\u001B[43m \u001B[49m\u001B[43mkwargs\u001B[49m\u001B[43m,\u001B[49m\u001B[43m \u001B[49m\u001B[43moverride_shots\u001B[49m\u001B[38;5;241;43m=\u001B[39;49m\u001B[43moverride_shots\u001B[49m\u001B[43m)\u001B[49m\n\u001B[1;32m   1009\u001B[0m \u001B[38;5;28;01mfinally\u001B[39;00m:\n\u001B[1;32m   1010\u001B[0m     \u001B[38;5;28;01mif\u001B[39;00m old_interface \u001B[38;5;241m==\u001B[39m \u001B[38;5;124m\"\u001B[39m\u001B[38;5;124mauto\u001B[39m\u001B[38;5;124m\"\u001B[39m:\n",
      "File \u001B[0;32m~/PycharmProjects/InformerBayes/attentionTransformers/lib/python3.10/site-packages/pennylane/workflow/qnode.py:957\u001B[0m, in \u001B[0;36mQNode._execution_component\u001B[0;34m(self, args, kwargs, override_shots)\u001B[0m\n\u001B[1;32m    951\u001B[0m     warnings\u001B[38;5;241m.\u001B[39mfilterwarnings(\n\u001B[1;32m    952\u001B[0m         action\u001B[38;5;241m=\u001B[39m\u001B[38;5;124m\"\u001B[39m\u001B[38;5;124mignore\u001B[39m\u001B[38;5;124m\"\u001B[39m,\n\u001B[1;32m    953\u001B[0m         message\u001B[38;5;241m=\u001B[39m\u001B[38;5;124mr\u001B[39m\u001B[38;5;124m\"\u001B[39m\u001B[38;5;124m.*argument is deprecated and will be removed in version 0.39.*\u001B[39m\u001B[38;5;124m\"\u001B[39m,\n\u001B[1;32m    954\u001B[0m         category\u001B[38;5;241m=\u001B[39mqml\u001B[38;5;241m.\u001B[39mPennyLaneDeprecationWarning,\n\u001B[1;32m    955\u001B[0m     )\n\u001B[1;32m    956\u001B[0m     \u001B[38;5;66;03m# pylint: disable=unexpected-keyword-arg\u001B[39;00m\n\u001B[0;32m--> 957\u001B[0m     res \u001B[38;5;241m=\u001B[39m \u001B[43mqml\u001B[49m\u001B[38;5;241;43m.\u001B[39;49m\u001B[43mexecute\u001B[49m\u001B[43m(\u001B[49m\n\u001B[1;32m    958\u001B[0m \u001B[43m        \u001B[49m\u001B[43m(\u001B[49m\u001B[38;5;28;43mself\u001B[39;49m\u001B[38;5;241;43m.\u001B[39;49m\u001B[43m_tape\u001B[49m\u001B[43m,\u001B[49m\u001B[43m)\u001B[49m\u001B[43m,\u001B[49m\n\u001B[1;32m    959\u001B[0m \u001B[43m        \u001B[49m\u001B[43mdevice\u001B[49m\u001B[38;5;241;43m=\u001B[39;49m\u001B[38;5;28;43mself\u001B[39;49m\u001B[38;5;241;43m.\u001B[39;49m\u001B[43mdevice\u001B[49m\u001B[43m,\u001B[49m\n\u001B[1;32m    960\u001B[0m \u001B[43m        \u001B[49m\u001B[43mgradient_fn\u001B[49m\u001B[38;5;241;43m=\u001B[39;49m\u001B[38;5;28;43mself\u001B[39;49m\u001B[38;5;241;43m.\u001B[39;49m\u001B[43mgradient_fn\u001B[49m\u001B[43m,\u001B[49m\n\u001B[1;32m    961\u001B[0m \u001B[43m        \u001B[49m\u001B[43minterface\u001B[49m\u001B[38;5;241;43m=\u001B[39;49m\u001B[38;5;28;43mself\u001B[39;49m\u001B[38;5;241;43m.\u001B[39;49m\u001B[43minterface\u001B[49m\u001B[43m,\u001B[49m\n\u001B[1;32m    962\u001B[0m \u001B[43m        \u001B[49m\u001B[43mtransform_program\u001B[49m\u001B[38;5;241;43m=\u001B[39;49m\u001B[43mfull_transform_program\u001B[49m\u001B[43m,\u001B[49m\n\u001B[1;32m    963\u001B[0m \u001B[43m        \u001B[49m\u001B[43minner_transform\u001B[49m\u001B[38;5;241;43m=\u001B[39;49m\u001B[43minner_transform_program\u001B[49m\u001B[43m,\u001B[49m\n\u001B[1;32m    964\u001B[0m \u001B[43m        \u001B[49m\u001B[43mconfig\u001B[49m\u001B[38;5;241;43m=\u001B[39;49m\u001B[43mconfig\u001B[49m\u001B[43m,\u001B[49m\n\u001B[1;32m    965\u001B[0m \u001B[43m        \u001B[49m\u001B[43mgradient_kwargs\u001B[49m\u001B[38;5;241;43m=\u001B[39;49m\u001B[38;5;28;43mself\u001B[39;49m\u001B[38;5;241;43m.\u001B[39;49m\u001B[43mgradient_kwargs\u001B[49m\u001B[43m,\u001B[49m\n\u001B[1;32m    966\u001B[0m \u001B[43m        \u001B[49m\u001B[43moverride_shots\u001B[49m\u001B[38;5;241;43m=\u001B[39;49m\u001B[43moverride_shots\u001B[49m\u001B[43m,\u001B[49m\n\u001B[1;32m    967\u001B[0m \u001B[43m        \u001B[49m\u001B[38;5;241;43m*\u001B[39;49m\u001B[38;5;241;43m*\u001B[39;49m\u001B[43mexecute_kwargs\u001B[49m\u001B[43m,\u001B[49m\n\u001B[1;32m    968\u001B[0m \u001B[43m    \u001B[49m\u001B[43m)\u001B[49m\n\u001B[1;32m    969\u001B[0m res \u001B[38;5;241m=\u001B[39m res[\u001B[38;5;241m0\u001B[39m]\n\u001B[1;32m    971\u001B[0m \u001B[38;5;66;03m# convert result to the interface in case the qfunc has no parameters\u001B[39;00m\n",
      "File \u001B[0;32m~/PycharmProjects/InformerBayes/attentionTransformers/lib/python3.10/site-packages/pennylane/workflow/execution.py:771\u001B[0m, in \u001B[0;36mexecute\u001B[0;34m(tapes, device, gradient_fn, interface, transform_program, inner_transform, config, grad_on_execution, gradient_kwargs, cache, cachesize, max_diff, override_shots, expand_fn, max_expansion, device_batch_transform, device_vjp, mcm_config)\u001B[0m\n\u001B[1;32m    763\u001B[0m ml_boundary_execute \u001B[38;5;241m=\u001B[39m _get_ml_boundary_execute(\n\u001B[1;32m    764\u001B[0m     interface,\n\u001B[1;32m    765\u001B[0m     config\u001B[38;5;241m.\u001B[39mgrad_on_execution,\n\u001B[1;32m    766\u001B[0m     config\u001B[38;5;241m.\u001B[39muse_device_jacobian_product,\n\u001B[1;32m    767\u001B[0m     differentiable\u001B[38;5;241m=\u001B[39mmax_diff \u001B[38;5;241m>\u001B[39m \u001B[38;5;241m1\u001B[39m,\n\u001B[1;32m    768\u001B[0m )\n\u001B[1;32m    770\u001B[0m \u001B[38;5;28;01mif\u001B[39;00m interface \u001B[38;5;129;01min\u001B[39;00m jpc_interfaces:\n\u001B[0;32m--> 771\u001B[0m     results \u001B[38;5;241m=\u001B[39m \u001B[43mml_boundary_execute\u001B[49m\u001B[43m(\u001B[49m\u001B[43mtapes\u001B[49m\u001B[43m,\u001B[49m\u001B[43m \u001B[49m\u001B[43mexecute_fn\u001B[49m\u001B[43m,\u001B[49m\u001B[43m \u001B[49m\u001B[43mjpc\u001B[49m\u001B[43m,\u001B[49m\u001B[43m \u001B[49m\u001B[43mdevice\u001B[49m\u001B[38;5;241;43m=\u001B[39;49m\u001B[43mdevice\u001B[49m\u001B[43m)\u001B[49m\n\u001B[1;32m    772\u001B[0m \u001B[38;5;28;01melse\u001B[39;00m:\n\u001B[1;32m    773\u001B[0m     results \u001B[38;5;241m=\u001B[39m ml_boundary_execute(\n\u001B[1;32m    774\u001B[0m         tapes, device, execute_fn, gradient_fn, gradient_kwargs, _n\u001B[38;5;241m=\u001B[39m\u001B[38;5;241m1\u001B[39m, max_diff\u001B[38;5;241m=\u001B[39mmax_diff\n\u001B[1;32m    775\u001B[0m     )\n",
      "File \u001B[0;32m~/PycharmProjects/InformerBayes/attentionTransformers/lib/python3.10/site-packages/pennylane/workflow/interfaces/autograd.py:147\u001B[0m, in \u001B[0;36mautograd_execute\u001B[0;34m(tapes, execute_fn, jpc, device)\u001B[0m\n\u001B[1;32m    142\u001B[0m \u001B[38;5;66;03m# pylint misidentifies autograd.builtins as a dict\u001B[39;00m\n\u001B[1;32m    143\u001B[0m \u001B[38;5;66;03m# pylint: disable=no-member\u001B[39;00m\n\u001B[1;32m    144\u001B[0m parameters \u001B[38;5;241m=\u001B[39m autograd\u001B[38;5;241m.\u001B[39mbuiltins\u001B[38;5;241m.\u001B[39mtuple(\n\u001B[1;32m    145\u001B[0m     [autograd\u001B[38;5;241m.\u001B[39mbuiltins\u001B[38;5;241m.\u001B[39mlist(t\u001B[38;5;241m.\u001B[39mget_parameters()) \u001B[38;5;28;01mfor\u001B[39;00m t \u001B[38;5;129;01min\u001B[39;00m tapes]\n\u001B[1;32m    146\u001B[0m )\n\u001B[0;32m--> 147\u001B[0m \u001B[38;5;28;01mreturn\u001B[39;00m \u001B[43m_execute\u001B[49m\u001B[43m(\u001B[49m\u001B[43mparameters\u001B[49m\u001B[43m,\u001B[49m\u001B[43m \u001B[49m\u001B[38;5;28;43mtuple\u001B[39;49m\u001B[43m(\u001B[49m\u001B[43mtapes\u001B[49m\u001B[43m)\u001B[49m\u001B[43m,\u001B[49m\u001B[43m \u001B[49m\u001B[43mexecute_fn\u001B[49m\u001B[43m,\u001B[49m\u001B[43m \u001B[49m\u001B[43mjpc\u001B[49m\u001B[43m)\u001B[49m\n",
      "File \u001B[0;32m~/PycharmProjects/InformerBayes/attentionTransformers/lib/python3.10/site-packages/autograd/tracer.py:48\u001B[0m, in \u001B[0;36mprimitive.<locals>.f_wrapped\u001B[0;34m(*args, **kwargs)\u001B[0m\n\u001B[1;32m     46\u001B[0m     \u001B[38;5;28;01mreturn\u001B[39;00m new_box(ans, trace, node)\n\u001B[1;32m     47\u001B[0m \u001B[38;5;28;01melse\u001B[39;00m:\n\u001B[0;32m---> 48\u001B[0m     \u001B[38;5;28;01mreturn\u001B[39;00m \u001B[43mf_raw\u001B[49m\u001B[43m(\u001B[49m\u001B[38;5;241;43m*\u001B[39;49m\u001B[43margs\u001B[49m\u001B[43m,\u001B[49m\u001B[43m \u001B[49m\u001B[38;5;241;43m*\u001B[39;49m\u001B[38;5;241;43m*\u001B[39;49m\u001B[43mkwargs\u001B[49m\u001B[43m)\u001B[49m\n",
      "File \u001B[0;32m~/PycharmProjects/InformerBayes/attentionTransformers/lib/python3.10/site-packages/pennylane/workflow/interfaces/autograd.py:168\u001B[0m, in \u001B[0;36m_execute\u001B[0;34m(parameters, tapes, execute_fn, jpc)\u001B[0m\n\u001B[1;32m    150\u001B[0m \u001B[38;5;129m@autograd\u001B[39m\u001B[38;5;241m.\u001B[39mextend\u001B[38;5;241m.\u001B[39mprimitive\n\u001B[1;32m    151\u001B[0m \u001B[38;5;28;01mdef\u001B[39;00m \u001B[38;5;21m_execute\u001B[39m(\n\u001B[1;32m    152\u001B[0m     parameters,\n\u001B[0;32m   (...)\u001B[0m\n\u001B[1;32m    155\u001B[0m     jpc,\n\u001B[1;32m    156\u001B[0m ):  \u001B[38;5;66;03m# pylint: disable=unused-argument\u001B[39;00m\n\u001B[1;32m    157\u001B[0m \u001B[38;5;250m    \u001B[39m\u001B[38;5;124;03m\"\"\"Autodifferentiable wrapper around a way of executing tapes.\u001B[39;00m\n\u001B[1;32m    158\u001B[0m \n\u001B[1;32m    159\u001B[0m \u001B[38;5;124;03m    Args:\u001B[39;00m\n\u001B[0;32m   (...)\u001B[0m\n\u001B[1;32m    166\u001B[0m \n\u001B[1;32m    167\u001B[0m \u001B[38;5;124;03m    \"\"\"\u001B[39;00m\n\u001B[0;32m--> 168\u001B[0m     \u001B[38;5;28;01mreturn\u001B[39;00m \u001B[43mexecute_fn\u001B[49m\u001B[43m(\u001B[49m\u001B[43mtapes\u001B[49m\u001B[43m)\u001B[49m\n",
      "File \u001B[0;32m~/PycharmProjects/InformerBayes/attentionTransformers/lib/python3.10/site-packages/pennylane/workflow/execution.py:212\u001B[0m, in \u001B[0;36m_make_inner_execute.<locals>.inner_execute\u001B[0;34m(tapes, **_)\u001B[0m\n\u001B[1;32m    209\u001B[0m transformed_tapes, transform_post_processing \u001B[38;5;241m=\u001B[39m transform_program(tapes)\n\u001B[1;32m    211\u001B[0m \u001B[38;5;28;01mif\u001B[39;00m transformed_tapes:\n\u001B[0;32m--> 212\u001B[0m     results \u001B[38;5;241m=\u001B[39m \u001B[43mdevice\u001B[49m\u001B[38;5;241;43m.\u001B[39;49m\u001B[43mexecute\u001B[49m\u001B[43m(\u001B[49m\u001B[43mtransformed_tapes\u001B[49m\u001B[43m,\u001B[49m\u001B[43m \u001B[49m\u001B[43mexecution_config\u001B[49m\u001B[38;5;241;43m=\u001B[39;49m\u001B[43mexecution_config\u001B[49m\u001B[43m)\u001B[49m\n\u001B[1;32m    213\u001B[0m \u001B[38;5;28;01melse\u001B[39;00m:\n\u001B[1;32m    214\u001B[0m     results \u001B[38;5;241m=\u001B[39m ()\n",
      "File \u001B[0;32m~/PycharmProjects/InformerBayes/attentionTransformers/lib/python3.10/site-packages/pennylane_qiskit/qiskit_device.py:66\u001B[0m, in \u001B[0;36mcustom_simulator_tracking.<locals>.execute\u001B[0;34m(self, circuits, execution_config)\u001B[0m\n\u001B[1;32m     64\u001B[0m \u001B[38;5;129m@wraps\u001B[39m(tracked_execute)\n\u001B[1;32m     65\u001B[0m \u001B[38;5;28;01mdef\u001B[39;00m \u001B[38;5;21mexecute\u001B[39m(\u001B[38;5;28mself\u001B[39m, circuits, execution_config\u001B[38;5;241m=\u001B[39mDefaultExecutionConfig):\n\u001B[0;32m---> 66\u001B[0m     results \u001B[38;5;241m=\u001B[39m \u001B[43mtracked_execute\u001B[49m\u001B[43m(\u001B[49m\u001B[38;5;28;43mself\u001B[39;49m\u001B[43m,\u001B[49m\u001B[43m \u001B[49m\u001B[43mcircuits\u001B[49m\u001B[43m,\u001B[49m\u001B[43m \u001B[49m\u001B[43mexecution_config\u001B[49m\u001B[43m)\u001B[49m\n\u001B[1;32m     67\u001B[0m     \u001B[38;5;28;01mif\u001B[39;00m \u001B[38;5;28mself\u001B[39m\u001B[38;5;241m.\u001B[39mtracker\u001B[38;5;241m.\u001B[39mactive:\n\u001B[1;32m     68\u001B[0m         res \u001B[38;5;241m=\u001B[39m []\n",
      "File \u001B[0;32m~/PycharmProjects/InformerBayes/attentionTransformers/lib/python3.10/site-packages/pennylane/devices/modifiers/simulator_tracking.py:30\u001B[0m, in \u001B[0;36m_track_execute.<locals>.execute\u001B[0;34m(self, circuits, execution_config)\u001B[0m\n\u001B[1;32m     28\u001B[0m \u001B[38;5;129m@wraps\u001B[39m(untracked_execute)\n\u001B[1;32m     29\u001B[0m \u001B[38;5;28;01mdef\u001B[39;00m \u001B[38;5;21mexecute\u001B[39m(\u001B[38;5;28mself\u001B[39m, circuits, execution_config\u001B[38;5;241m=\u001B[39mDefaultExecutionConfig):\n\u001B[0;32m---> 30\u001B[0m     results \u001B[38;5;241m=\u001B[39m \u001B[43muntracked_execute\u001B[49m\u001B[43m(\u001B[49m\u001B[38;5;28;43mself\u001B[39;49m\u001B[43m,\u001B[49m\u001B[43m \u001B[49m\u001B[43mcircuits\u001B[49m\u001B[43m,\u001B[49m\u001B[43m \u001B[49m\u001B[43mexecution_config\u001B[49m\u001B[43m)\u001B[49m\n\u001B[1;32m     31\u001B[0m     \u001B[38;5;28;01mif\u001B[39;00m \u001B[38;5;28misinstance\u001B[39m(circuits, QuantumScript):\n\u001B[1;32m     32\u001B[0m         batch \u001B[38;5;241m=\u001B[39m (circuits,)\n",
      "File \u001B[0;32m~/PycharmProjects/InformerBayes/attentionTransformers/lib/python3.10/site-packages/pennylane_qiskit/qiskit_device.py:590\u001B[0m, in \u001B[0;36mQiskitDevice.execute\u001B[0;34m(self, circuits, execution_config)\u001B[0m\n\u001B[1;32m    587\u001B[0m     \u001B[38;5;28;01mfinally\u001B[39;00m:\n\u001B[1;32m    588\u001B[0m         session\u001B[38;5;241m.\u001B[39mclose()\n\u001B[0;32m--> 590\u001B[0m \u001B[38;5;28;01mwith\u001B[39;00m execute_circuits(session) \u001B[38;5;28;01mas\u001B[39;00m results:\n\u001B[1;32m    591\u001B[0m     \u001B[38;5;28;01mreturn\u001B[39;00m results\n",
      "File \u001B[0;32m/opt/homebrew/Cellar/python@3.10/3.10.14_1/Frameworks/Python.framework/Versions/3.10/lib/python3.10/contextlib.py:135\u001B[0m, in \u001B[0;36m_GeneratorContextManager.__enter__\u001B[0;34m(self)\u001B[0m\n\u001B[1;32m    133\u001B[0m \u001B[38;5;28;01mdel\u001B[39;00m \u001B[38;5;28mself\u001B[39m\u001B[38;5;241m.\u001B[39margs, \u001B[38;5;28mself\u001B[39m\u001B[38;5;241m.\u001B[39mkwds, \u001B[38;5;28mself\u001B[39m\u001B[38;5;241m.\u001B[39mfunc\n\u001B[1;32m    134\u001B[0m \u001B[38;5;28;01mtry\u001B[39;00m:\n\u001B[0;32m--> 135\u001B[0m     \u001B[38;5;28;01mreturn\u001B[39;00m \u001B[38;5;28;43mnext\u001B[39;49m\u001B[43m(\u001B[49m\u001B[38;5;28;43mself\u001B[39;49m\u001B[38;5;241;43m.\u001B[39;49m\u001B[43mgen\u001B[49m\u001B[43m)\u001B[49m\n\u001B[1;32m    136\u001B[0m \u001B[38;5;28;01mexcept\u001B[39;00m \u001B[38;5;167;01mStopIteration\u001B[39;00m:\n\u001B[1;32m    137\u001B[0m     \u001B[38;5;28;01mraise\u001B[39;00m \u001B[38;5;167;01mRuntimeError\u001B[39;00m(\u001B[38;5;124m\"\u001B[39m\u001B[38;5;124mgenerator didn\u001B[39m\u001B[38;5;124m'\u001B[39m\u001B[38;5;124mt yield\u001B[39m\u001B[38;5;124m\"\u001B[39m) \u001B[38;5;28;01mfrom\u001B[39;00m \u001B[38;5;28;01mNone\u001B[39;00m\n",
      "File \u001B[0;32m~/PycharmProjects/InformerBayes/attentionTransformers/lib/python3.10/site-packages/pennylane_qiskit/qiskit_device.py:585\u001B[0m, in \u001B[0;36mQiskitDevice.execute.<locals>.execute_circuits\u001B[0;34m(session)\u001B[0m\n\u001B[1;32m    583\u001B[0m         \u001B[38;5;28;01melse\u001B[39;00m:\n\u001B[1;32m    584\u001B[0m             execute_fn \u001B[38;5;241m=\u001B[39m \u001B[38;5;28mself\u001B[39m\u001B[38;5;241m.\u001B[39m_execute_sampler\n\u001B[0;32m--> 585\u001B[0m         results\u001B[38;5;241m.\u001B[39mappend(\u001B[43mexecute_fn\u001B[49m\u001B[43m(\u001B[49m\u001B[43mcirc\u001B[49m\u001B[43m,\u001B[49m\u001B[43m \u001B[49m\u001B[43msession\u001B[49m\u001B[43m)\u001B[49m)\n\u001B[1;32m    586\u001B[0m     \u001B[38;5;28;01myield\u001B[39;00m results\n\u001B[1;32m    587\u001B[0m \u001B[38;5;28;01mfinally\u001B[39;00m:\n",
      "File \u001B[0;32m~/PycharmProjects/InformerBayes/attentionTransformers/lib/python3.10/site-packages/pennylane_qiskit/qiskit_device.py:659\u001B[0m, in \u001B[0;36mQiskitDevice._execute_estimator\u001B[0;34m(self, circuit, session)\u001B[0m\n\u001B[1;32m    651\u001B[0m \u001B[38;5;66;03m# split into one call per measurement\u001B[39;00m\n\u001B[1;32m    652\u001B[0m \u001B[38;5;66;03m# could technically be more efficient if there are some observables where we ask\u001B[39;00m\n\u001B[1;32m    653\u001B[0m \u001B[38;5;66;03m# for expectation value and variance on the same observable, but spending time on\u001B[39;00m\n\u001B[1;32m    654\u001B[0m \u001B[38;5;66;03m# that right now feels excessive\u001B[39;00m\n\u001B[1;32m    655\u001B[0m circ_and_obs \u001B[38;5;241m=\u001B[39m [(compiled_circuits[\u001B[38;5;241m0\u001B[39m], pauli_observables)]\n\u001B[1;32m    656\u001B[0m result \u001B[38;5;241m=\u001B[39m \u001B[43mestimator\u001B[49m\u001B[38;5;241;43m.\u001B[39;49m\u001B[43mrun\u001B[49m\u001B[43m(\u001B[49m\n\u001B[1;32m    657\u001B[0m \u001B[43m    \u001B[49m\u001B[43mcirc_and_obs\u001B[49m\u001B[43m,\u001B[49m\n\u001B[1;32m    658\u001B[0m \u001B[43m    \u001B[49m\u001B[43mprecision\u001B[49m\u001B[38;5;241;43m=\u001B[39;49m\u001B[43mnp\u001B[49m\u001B[38;5;241;43m.\u001B[39;49m\u001B[43msqrt\u001B[49m\u001B[43m(\u001B[49m\u001B[38;5;241;43m1\u001B[39;49m\u001B[43m \u001B[49m\u001B[38;5;241;43m/\u001B[39;49m\u001B[43m \u001B[49m\u001B[43mcircuit\u001B[49m\u001B[38;5;241;43m.\u001B[39;49m\u001B[43mshots\u001B[49m\u001B[38;5;241;43m.\u001B[39;49m\u001B[43mtotal_shots\u001B[49m\u001B[43m)\u001B[49m\u001B[43m \u001B[49m\u001B[38;5;28;43;01mif\u001B[39;49;00m\u001B[43m \u001B[49m\u001B[43mcircuit\u001B[49m\u001B[38;5;241;43m.\u001B[39;49m\u001B[43mshots\u001B[49m\u001B[43m \u001B[49m\u001B[38;5;28;43;01melse\u001B[39;49;00m\u001B[43m \u001B[49m\u001B[38;5;28;43;01mNone\u001B[39;49;00m\u001B[43m,\u001B[49m\n\u001B[0;32m--> 659\u001B[0m \u001B[43m\u001B[49m\u001B[43m)\u001B[49m\u001B[38;5;241;43m.\u001B[39;49m\u001B[43mresult\u001B[49m\u001B[43m(\u001B[49m\u001B[43m)\u001B[49m\n\u001B[1;32m    660\u001B[0m \u001B[38;5;28mself\u001B[39m\u001B[38;5;241m.\u001B[39m_current_job \u001B[38;5;241m=\u001B[39m result\n\u001B[1;32m    661\u001B[0m result \u001B[38;5;241m=\u001B[39m \u001B[38;5;28mself\u001B[39m\u001B[38;5;241m.\u001B[39m_process_estimator_job(circuit\u001B[38;5;241m.\u001B[39mmeasurements, result)\n",
      "File \u001B[0;32m~/PycharmProjects/InformerBayes/attentionTransformers/lib/python3.10/site-packages/qiskit_ibm_runtime/runtime_job_v2.py:133\u001B[0m, in \u001B[0;36mRuntimeJobV2.result\u001B[0;34m(self, timeout, decoder)\u001B[0m\n\u001B[1;32m    118\u001B[0m \u001B[38;5;250m\u001B[39m\u001B[38;5;124;03m\"\"\"Return the results of the job.\u001B[39;00m\n\u001B[1;32m    119\u001B[0m \n\u001B[1;32m    120\u001B[0m \u001B[38;5;124;03mArgs:\u001B[39;00m\n\u001B[0;32m   (...)\u001B[0m\n\u001B[1;32m    130\u001B[0m \u001B[38;5;124;03m    RuntimeInvalidStateError: If the job was cancelled, and attempting to retrieve result.\u001B[39;00m\n\u001B[1;32m    131\u001B[0m \u001B[38;5;124;03m\"\"\"\u001B[39;00m\n\u001B[1;32m    132\u001B[0m _decoder \u001B[38;5;241m=\u001B[39m decoder \u001B[38;5;129;01mor\u001B[39;00m \u001B[38;5;28mself\u001B[39m\u001B[38;5;241m.\u001B[39m_final_result_decoder\n\u001B[0;32m--> 133\u001B[0m \u001B[38;5;28;43mself\u001B[39;49m\u001B[38;5;241;43m.\u001B[39;49m\u001B[43mwait_for_final_state\u001B[49m\u001B[43m(\u001B[49m\u001B[43mtimeout\u001B[49m\u001B[38;5;241;43m=\u001B[39;49m\u001B[43mtimeout\u001B[49m\u001B[43m)\u001B[49m\n\u001B[1;32m    134\u001B[0m \u001B[38;5;28;01mif\u001B[39;00m \u001B[38;5;28mself\u001B[39m\u001B[38;5;241m.\u001B[39m_status \u001B[38;5;241m==\u001B[39m \u001B[38;5;124m\"\u001B[39m\u001B[38;5;124mERROR\u001B[39m\u001B[38;5;124m\"\u001B[39m:\n\u001B[1;32m    135\u001B[0m     error_message \u001B[38;5;241m=\u001B[39m \u001B[38;5;28mself\u001B[39m\u001B[38;5;241m.\u001B[39m_reason \u001B[38;5;28;01mif\u001B[39;00m \u001B[38;5;28mself\u001B[39m\u001B[38;5;241m.\u001B[39m_reason \u001B[38;5;28;01melse\u001B[39;00m \u001B[38;5;28mself\u001B[39m\u001B[38;5;241m.\u001B[39m_error_message\n",
      "File \u001B[0;32m~/PycharmProjects/InformerBayes/attentionTransformers/lib/python3.10/site-packages/qiskit_ibm_runtime/runtime_job_v2.py:253\u001B[0m, in \u001B[0;36mRuntimeJobV2.wait_for_final_state\u001B[0;34m(self, timeout)\u001B[0m\n\u001B[1;32m    249\u001B[0m             \u001B[38;5;28;01mraise\u001B[39;00m RuntimeJobTimeoutError(\n\u001B[1;32m    250\u001B[0m                 \u001B[38;5;124mf\u001B[39m\u001B[38;5;124m\"\u001B[39m\u001B[38;5;124mTimed out waiting for job to complete after \u001B[39m\u001B[38;5;132;01m{\u001B[39;00mtimeout\u001B[38;5;132;01m}\u001B[39;00m\u001B[38;5;124m secs.\u001B[39m\u001B[38;5;124m\"\u001B[39m\n\u001B[1;32m    251\u001B[0m             )\n\u001B[1;32m    252\u001B[0m         time\u001B[38;5;241m.\u001B[39msleep(\u001B[38;5;241m0.1\u001B[39m)\n\u001B[0;32m--> 253\u001B[0m         status \u001B[38;5;241m=\u001B[39m \u001B[38;5;28;43mself\u001B[39;49m\u001B[38;5;241;43m.\u001B[39;49m\u001B[43mstatus\u001B[49m\u001B[43m(\u001B[49m\u001B[43m)\u001B[49m\n\u001B[1;32m    254\u001B[0m \u001B[38;5;28;01mexcept\u001B[39;00m futures\u001B[38;5;241m.\u001B[39mTimeoutError:\n\u001B[1;32m    255\u001B[0m     \u001B[38;5;28;01mraise\u001B[39;00m RuntimeJobTimeoutError(\n\u001B[1;32m    256\u001B[0m         \u001B[38;5;124mf\u001B[39m\u001B[38;5;124m\"\u001B[39m\u001B[38;5;124mTimed out waiting for job to complete after \u001B[39m\u001B[38;5;132;01m{\u001B[39;00mtimeout\u001B[38;5;132;01m}\u001B[39;00m\u001B[38;5;124m secs.\u001B[39m\u001B[38;5;124m\"\u001B[39m\n\u001B[1;32m    257\u001B[0m     )\n",
      "File \u001B[0;32m~/PycharmProjects/InformerBayes/attentionTransformers/lib/python3.10/site-packages/qiskit_ibm_runtime/runtime_job_v2.py:170\u001B[0m, in \u001B[0;36mRuntimeJobV2.status\u001B[0;34m(self)\u001B[0m\n\u001B[1;32m    164\u001B[0m \u001B[38;5;28;01mdef\u001B[39;00m \u001B[38;5;21mstatus\u001B[39m(\u001B[38;5;28mself\u001B[39m) \u001B[38;5;241m-\u001B[39m\u001B[38;5;241m>\u001B[39m JobStatus:\n\u001B[1;32m    165\u001B[0m \u001B[38;5;250m    \u001B[39m\u001B[38;5;124;03m\"\"\"Return the status of the job.\u001B[39;00m\n\u001B[1;32m    166\u001B[0m \n\u001B[1;32m    167\u001B[0m \u001B[38;5;124;03m    Returns:\u001B[39;00m\n\u001B[1;32m    168\u001B[0m \u001B[38;5;124;03m        Status of this job.\u001B[39;00m\n\u001B[1;32m    169\u001B[0m \u001B[38;5;124;03m    \"\"\"\u001B[39;00m\n\u001B[0;32m--> 170\u001B[0m     \u001B[38;5;28;43mself\u001B[39;49m\u001B[38;5;241;43m.\u001B[39;49m\u001B[43m_set_status_and_error_message\u001B[49m\u001B[43m(\u001B[49m\u001B[43m)\u001B[49m\n\u001B[1;32m    171\u001B[0m     \u001B[38;5;28;01mreturn\u001B[39;00m \u001B[38;5;28mself\u001B[39m\u001B[38;5;241m.\u001B[39m_status\n",
      "File \u001B[0;32m~/PycharmProjects/InformerBayes/attentionTransformers/lib/python3.10/site-packages/qiskit_ibm_runtime/base_runtime_job.py:207\u001B[0m, in \u001B[0;36mBaseRuntimeJob._set_status_and_error_message\u001B[0;34m(self)\u001B[0m\n\u001B[1;32m    205\u001B[0m \u001B[38;5;250m\u001B[39m\u001B[38;5;124;03m\"\"\"Fetch and set status and error message.\"\"\"\u001B[39;00m\n\u001B[1;32m    206\u001B[0m \u001B[38;5;28;01mif\u001B[39;00m \u001B[38;5;28mself\u001B[39m\u001B[38;5;241m.\u001B[39m_status \u001B[38;5;129;01mnot\u001B[39;00m \u001B[38;5;129;01min\u001B[39;00m \u001B[38;5;28mself\u001B[39m\u001B[38;5;241m.\u001B[39mJOB_FINAL_STATES:\n\u001B[0;32m--> 207\u001B[0m     response \u001B[38;5;241m=\u001B[39m \u001B[38;5;28;43mself\u001B[39;49m\u001B[38;5;241;43m.\u001B[39;49m\u001B[43m_api_client\u001B[49m\u001B[38;5;241;43m.\u001B[39;49m\u001B[43mjob_get\u001B[49m\u001B[43m(\u001B[49m\u001B[43mjob_id\u001B[49m\u001B[38;5;241;43m=\u001B[39;49m\u001B[38;5;28;43mself\u001B[39;49m\u001B[38;5;241;43m.\u001B[39;49m\u001B[43mjob_id\u001B[49m\u001B[43m(\u001B[49m\u001B[43m)\u001B[49m\u001B[43m)\u001B[49m\n\u001B[1;32m    208\u001B[0m     \u001B[38;5;28mself\u001B[39m\u001B[38;5;241m.\u001B[39m_set_status(response)\n\u001B[1;32m    209\u001B[0m     \u001B[38;5;28mself\u001B[39m\u001B[38;5;241m.\u001B[39m_set_error_message(response)\n",
      "File \u001B[0;32m~/PycharmProjects/InformerBayes/attentionTransformers/lib/python3.10/site-packages/qiskit_ibm_runtime/api/clients/runtime.py:115\u001B[0m, in \u001B[0;36mRuntimeClient.job_get\u001B[0;34m(self, job_id, exclude_params)\u001B[0m\n\u001B[1;32m    106\u001B[0m \u001B[38;5;28;01mdef\u001B[39;00m \u001B[38;5;21mjob_get\u001B[39m(\u001B[38;5;28mself\u001B[39m, job_id: \u001B[38;5;28mstr\u001B[39m, exclude_params: \u001B[38;5;28mbool\u001B[39m \u001B[38;5;241m=\u001B[39m \u001B[38;5;28;01mTrue\u001B[39;00m) \u001B[38;5;241m-\u001B[39m\u001B[38;5;241m>\u001B[39m Dict:\n\u001B[1;32m    107\u001B[0m \u001B[38;5;250m    \u001B[39m\u001B[38;5;124;03m\"\"\"Get job data.\u001B[39;00m\n\u001B[1;32m    108\u001B[0m \n\u001B[1;32m    109\u001B[0m \u001B[38;5;124;03m    Args:\u001B[39;00m\n\u001B[0;32m   (...)\u001B[0m\n\u001B[1;32m    113\u001B[0m \u001B[38;5;124;03m        JSON response.\u001B[39;00m\n\u001B[1;32m    114\u001B[0m \u001B[38;5;124;03m    \"\"\"\u001B[39;00m\n\u001B[0;32m--> 115\u001B[0m     response \u001B[38;5;241m=\u001B[39m \u001B[38;5;28;43mself\u001B[39;49m\u001B[38;5;241;43m.\u001B[39;49m\u001B[43m_api\u001B[49m\u001B[38;5;241;43m.\u001B[39;49m\u001B[43mprogram_job\u001B[49m\u001B[43m(\u001B[49m\u001B[43mjob_id\u001B[49m\u001B[43m)\u001B[49m\u001B[38;5;241;43m.\u001B[39;49m\u001B[43mget\u001B[49m\u001B[43m(\u001B[49m\u001B[43mexclude_params\u001B[49m\u001B[38;5;241;43m=\u001B[39;49m\u001B[43mexclude_params\u001B[49m\u001B[43m)\u001B[49m\n\u001B[1;32m    116\u001B[0m     logger\u001B[38;5;241m.\u001B[39mdebug(\u001B[38;5;124m\"\u001B[39m\u001B[38;5;124mRuntime job get response: \u001B[39m\u001B[38;5;132;01m%s\u001B[39;00m\u001B[38;5;124m\"\u001B[39m, response)\n\u001B[1;32m    117\u001B[0m     \u001B[38;5;28;01mreturn\u001B[39;00m response\n",
      "File \u001B[0;32m~/PycharmProjects/InformerBayes/attentionTransformers/lib/python3.10/site-packages/qiskit_ibm_runtime/api/rest/program_job.py:59\u001B[0m, in \u001B[0;36mProgramJob.get\u001B[0;34m(self, exclude_params)\u001B[0m\n\u001B[1;32m     57\u001B[0m \u001B[38;5;28;01mif\u001B[39;00m exclude_params:\n\u001B[1;32m     58\u001B[0m     payload[\u001B[38;5;124m\"\u001B[39m\u001B[38;5;124mexclude_params\u001B[39m\u001B[38;5;124m\"\u001B[39m] \u001B[38;5;241m=\u001B[39m \u001B[38;5;124m\"\u001B[39m\u001B[38;5;124mtrue\u001B[39m\u001B[38;5;124m\"\u001B[39m\n\u001B[0;32m---> 59\u001B[0m \u001B[38;5;28;01mreturn\u001B[39;00m \u001B[38;5;28;43mself\u001B[39;49m\u001B[38;5;241;43m.\u001B[39;49m\u001B[43msession\u001B[49m\u001B[38;5;241;43m.\u001B[39;49m\u001B[43mget\u001B[49m\u001B[43m(\u001B[49m\u001B[38;5;28;43mself\u001B[39;49m\u001B[38;5;241;43m.\u001B[39;49m\u001B[43mget_url\u001B[49m\u001B[43m(\u001B[49m\u001B[38;5;124;43m\"\u001B[39;49m\u001B[38;5;124;43mself\u001B[39;49m\u001B[38;5;124;43m\"\u001B[39;49m\u001B[43m)\u001B[49m\u001B[43m,\u001B[49m\u001B[43m \u001B[49m\u001B[43mparams\u001B[49m\u001B[38;5;241;43m=\u001B[39;49m\u001B[43mpayload\u001B[49m\u001B[43m)\u001B[49m\u001B[38;5;241m.\u001B[39mjson(\u001B[38;5;28mcls\u001B[39m\u001B[38;5;241m=\u001B[39mRuntimeDecoder)\n",
      "File \u001B[0;32m~/PycharmProjects/InformerBayes/attentionTransformers/lib/python3.10/site-packages/requests/sessions.py:602\u001B[0m, in \u001B[0;36mSession.get\u001B[0;34m(self, url, **kwargs)\u001B[0m\n\u001B[1;32m    594\u001B[0m \u001B[38;5;250m\u001B[39m\u001B[38;5;124mr\u001B[39m\u001B[38;5;124;03m\"\"\"Sends a GET request. Returns :class:`Response` object.\u001B[39;00m\n\u001B[1;32m    595\u001B[0m \n\u001B[1;32m    596\u001B[0m \u001B[38;5;124;03m:param url: URL for the new :class:`Request` object.\u001B[39;00m\n\u001B[1;32m    597\u001B[0m \u001B[38;5;124;03m:param \\*\\*kwargs: Optional arguments that ``request`` takes.\u001B[39;00m\n\u001B[1;32m    598\u001B[0m \u001B[38;5;124;03m:rtype: requests.Response\u001B[39;00m\n\u001B[1;32m    599\u001B[0m \u001B[38;5;124;03m\"\"\"\u001B[39;00m\n\u001B[1;32m    601\u001B[0m kwargs\u001B[38;5;241m.\u001B[39msetdefault(\u001B[38;5;124m\"\u001B[39m\u001B[38;5;124mallow_redirects\u001B[39m\u001B[38;5;124m\"\u001B[39m, \u001B[38;5;28;01mTrue\u001B[39;00m)\n\u001B[0;32m--> 602\u001B[0m \u001B[38;5;28;01mreturn\u001B[39;00m \u001B[38;5;28;43mself\u001B[39;49m\u001B[38;5;241;43m.\u001B[39;49m\u001B[43mrequest\u001B[49m\u001B[43m(\u001B[49m\u001B[38;5;124;43m\"\u001B[39;49m\u001B[38;5;124;43mGET\u001B[39;49m\u001B[38;5;124;43m\"\u001B[39;49m\u001B[43m,\u001B[49m\u001B[43m \u001B[49m\u001B[43murl\u001B[49m\u001B[43m,\u001B[49m\u001B[43m \u001B[49m\u001B[38;5;241;43m*\u001B[39;49m\u001B[38;5;241;43m*\u001B[39;49m\u001B[43mkwargs\u001B[49m\u001B[43m)\u001B[49m\n",
      "File \u001B[0;32m~/PycharmProjects/InformerBayes/attentionTransformers/lib/python3.10/site-packages/qiskit_ibm_runtime/api/session.py:328\u001B[0m, in \u001B[0;36mRetrySession.request\u001B[0;34m(self, method, url, bare, **kwargs)\u001B[0m\n\u001B[1;32m    326\u001B[0m \u001B[38;5;28;01mtry\u001B[39;00m:\n\u001B[1;32m    327\u001B[0m     \u001B[38;5;28mself\u001B[39m\u001B[38;5;241m.\u001B[39m_log_request_info(final_url, method, kwargs)\n\u001B[0;32m--> 328\u001B[0m     response \u001B[38;5;241m=\u001B[39m \u001B[38;5;28;43msuper\u001B[39;49m\u001B[43m(\u001B[49m\u001B[43m)\u001B[49m\u001B[38;5;241;43m.\u001B[39;49m\u001B[43mrequest\u001B[49m\u001B[43m(\u001B[49m\u001B[43mmethod\u001B[49m\u001B[43m,\u001B[49m\u001B[43m \u001B[49m\u001B[43mfinal_url\u001B[49m\u001B[43m,\u001B[49m\u001B[43m \u001B[49m\u001B[43mheaders\u001B[49m\u001B[38;5;241;43m=\u001B[39;49m\u001B[43mheaders\u001B[49m\u001B[43m,\u001B[49m\u001B[43m \u001B[49m\u001B[38;5;241;43m*\u001B[39;49m\u001B[38;5;241;43m*\u001B[39;49m\u001B[43mkwargs\u001B[49m\u001B[43m)\u001B[49m\n\u001B[1;32m    329\u001B[0m     response\u001B[38;5;241m.\u001B[39mraise_for_status()\n\u001B[1;32m    330\u001B[0m \u001B[38;5;28;01mexcept\u001B[39;00m RequestException \u001B[38;5;28;01mas\u001B[39;00m ex:\n\u001B[1;32m    331\u001B[0m     \u001B[38;5;66;03m# Wrap the requests exceptions into a IBM Q custom one, for\u001B[39;00m\n\u001B[1;32m    332\u001B[0m     \u001B[38;5;66;03m# compatibility.\u001B[39;00m\n",
      "File \u001B[0;32m~/PycharmProjects/InformerBayes/attentionTransformers/lib/python3.10/site-packages/requests/sessions.py:589\u001B[0m, in \u001B[0;36mSession.request\u001B[0;34m(self, method, url, params, data, headers, cookies, files, auth, timeout, allow_redirects, proxies, hooks, stream, verify, cert, json)\u001B[0m\n\u001B[1;32m    584\u001B[0m send_kwargs \u001B[38;5;241m=\u001B[39m {\n\u001B[1;32m    585\u001B[0m     \u001B[38;5;124m\"\u001B[39m\u001B[38;5;124mtimeout\u001B[39m\u001B[38;5;124m\"\u001B[39m: timeout,\n\u001B[1;32m    586\u001B[0m     \u001B[38;5;124m\"\u001B[39m\u001B[38;5;124mallow_redirects\u001B[39m\u001B[38;5;124m\"\u001B[39m: allow_redirects,\n\u001B[1;32m    587\u001B[0m }\n\u001B[1;32m    588\u001B[0m send_kwargs\u001B[38;5;241m.\u001B[39mupdate(settings)\n\u001B[0;32m--> 589\u001B[0m resp \u001B[38;5;241m=\u001B[39m \u001B[38;5;28;43mself\u001B[39;49m\u001B[38;5;241;43m.\u001B[39;49m\u001B[43msend\u001B[49m\u001B[43m(\u001B[49m\u001B[43mprep\u001B[49m\u001B[43m,\u001B[49m\u001B[43m \u001B[49m\u001B[38;5;241;43m*\u001B[39;49m\u001B[38;5;241;43m*\u001B[39;49m\u001B[43msend_kwargs\u001B[49m\u001B[43m)\u001B[49m\n\u001B[1;32m    591\u001B[0m \u001B[38;5;28;01mreturn\u001B[39;00m resp\n",
      "File \u001B[0;32m~/PycharmProjects/InformerBayes/attentionTransformers/lib/python3.10/site-packages/requests/sessions.py:703\u001B[0m, in \u001B[0;36mSession.send\u001B[0;34m(self, request, **kwargs)\u001B[0m\n\u001B[1;32m    700\u001B[0m start \u001B[38;5;241m=\u001B[39m preferred_clock()\n\u001B[1;32m    702\u001B[0m \u001B[38;5;66;03m# Send the request\u001B[39;00m\n\u001B[0;32m--> 703\u001B[0m r \u001B[38;5;241m=\u001B[39m \u001B[43madapter\u001B[49m\u001B[38;5;241;43m.\u001B[39;49m\u001B[43msend\u001B[49m\u001B[43m(\u001B[49m\u001B[43mrequest\u001B[49m\u001B[43m,\u001B[49m\u001B[43m \u001B[49m\u001B[38;5;241;43m*\u001B[39;49m\u001B[38;5;241;43m*\u001B[39;49m\u001B[43mkwargs\u001B[49m\u001B[43m)\u001B[49m\n\u001B[1;32m    705\u001B[0m \u001B[38;5;66;03m# Total elapsed time of the request (approximately)\u001B[39;00m\n\u001B[1;32m    706\u001B[0m elapsed \u001B[38;5;241m=\u001B[39m preferred_clock() \u001B[38;5;241m-\u001B[39m start\n",
      "File \u001B[0;32m~/PycharmProjects/InformerBayes/attentionTransformers/lib/python3.10/site-packages/requests/adapters.py:667\u001B[0m, in \u001B[0;36mHTTPAdapter.send\u001B[0;34m(self, request, stream, timeout, verify, cert, proxies)\u001B[0m\n\u001B[1;32m    664\u001B[0m     timeout \u001B[38;5;241m=\u001B[39m TimeoutSauce(connect\u001B[38;5;241m=\u001B[39mtimeout, read\u001B[38;5;241m=\u001B[39mtimeout)\n\u001B[1;32m    666\u001B[0m \u001B[38;5;28;01mtry\u001B[39;00m:\n\u001B[0;32m--> 667\u001B[0m     resp \u001B[38;5;241m=\u001B[39m \u001B[43mconn\u001B[49m\u001B[38;5;241;43m.\u001B[39;49m\u001B[43murlopen\u001B[49m\u001B[43m(\u001B[49m\n\u001B[1;32m    668\u001B[0m \u001B[43m        \u001B[49m\u001B[43mmethod\u001B[49m\u001B[38;5;241;43m=\u001B[39;49m\u001B[43mrequest\u001B[49m\u001B[38;5;241;43m.\u001B[39;49m\u001B[43mmethod\u001B[49m\u001B[43m,\u001B[49m\n\u001B[1;32m    669\u001B[0m \u001B[43m        \u001B[49m\u001B[43murl\u001B[49m\u001B[38;5;241;43m=\u001B[39;49m\u001B[43murl\u001B[49m\u001B[43m,\u001B[49m\n\u001B[1;32m    670\u001B[0m \u001B[43m        \u001B[49m\u001B[43mbody\u001B[49m\u001B[38;5;241;43m=\u001B[39;49m\u001B[43mrequest\u001B[49m\u001B[38;5;241;43m.\u001B[39;49m\u001B[43mbody\u001B[49m\u001B[43m,\u001B[49m\n\u001B[1;32m    671\u001B[0m \u001B[43m        \u001B[49m\u001B[43mheaders\u001B[49m\u001B[38;5;241;43m=\u001B[39;49m\u001B[43mrequest\u001B[49m\u001B[38;5;241;43m.\u001B[39;49m\u001B[43mheaders\u001B[49m\u001B[43m,\u001B[49m\n\u001B[1;32m    672\u001B[0m \u001B[43m        \u001B[49m\u001B[43mredirect\u001B[49m\u001B[38;5;241;43m=\u001B[39;49m\u001B[38;5;28;43;01mFalse\u001B[39;49;00m\u001B[43m,\u001B[49m\n\u001B[1;32m    673\u001B[0m \u001B[43m        \u001B[49m\u001B[43massert_same_host\u001B[49m\u001B[38;5;241;43m=\u001B[39;49m\u001B[38;5;28;43;01mFalse\u001B[39;49;00m\u001B[43m,\u001B[49m\n\u001B[1;32m    674\u001B[0m \u001B[43m        \u001B[49m\u001B[43mpreload_content\u001B[49m\u001B[38;5;241;43m=\u001B[39;49m\u001B[38;5;28;43;01mFalse\u001B[39;49;00m\u001B[43m,\u001B[49m\n\u001B[1;32m    675\u001B[0m \u001B[43m        \u001B[49m\u001B[43mdecode_content\u001B[49m\u001B[38;5;241;43m=\u001B[39;49m\u001B[38;5;28;43;01mFalse\u001B[39;49;00m\u001B[43m,\u001B[49m\n\u001B[1;32m    676\u001B[0m \u001B[43m        \u001B[49m\u001B[43mretries\u001B[49m\u001B[38;5;241;43m=\u001B[39;49m\u001B[38;5;28;43mself\u001B[39;49m\u001B[38;5;241;43m.\u001B[39;49m\u001B[43mmax_retries\u001B[49m\u001B[43m,\u001B[49m\n\u001B[1;32m    677\u001B[0m \u001B[43m        \u001B[49m\u001B[43mtimeout\u001B[49m\u001B[38;5;241;43m=\u001B[39;49m\u001B[43mtimeout\u001B[49m\u001B[43m,\u001B[49m\n\u001B[1;32m    678\u001B[0m \u001B[43m        \u001B[49m\u001B[43mchunked\u001B[49m\u001B[38;5;241;43m=\u001B[39;49m\u001B[43mchunked\u001B[49m\u001B[43m,\u001B[49m\n\u001B[1;32m    679\u001B[0m \u001B[43m    \u001B[49m\u001B[43m)\u001B[49m\n\u001B[1;32m    681\u001B[0m \u001B[38;5;28;01mexcept\u001B[39;00m (ProtocolError, \u001B[38;5;167;01mOSError\u001B[39;00m) \u001B[38;5;28;01mas\u001B[39;00m err:\n\u001B[1;32m    682\u001B[0m     \u001B[38;5;28;01mraise\u001B[39;00m \u001B[38;5;167;01mConnectionError\u001B[39;00m(err, request\u001B[38;5;241m=\u001B[39mrequest)\n",
      "File \u001B[0;32m~/PycharmProjects/InformerBayes/attentionTransformers/lib/python3.10/site-packages/urllib3/connectionpool.py:789\u001B[0m, in \u001B[0;36mHTTPConnectionPool.urlopen\u001B[0;34m(self, method, url, body, headers, retries, redirect, assert_same_host, timeout, pool_timeout, release_conn, chunked, body_pos, preload_content, decode_content, **response_kw)\u001B[0m\n\u001B[1;32m    786\u001B[0m response_conn \u001B[38;5;241m=\u001B[39m conn \u001B[38;5;28;01mif\u001B[39;00m \u001B[38;5;129;01mnot\u001B[39;00m release_conn \u001B[38;5;28;01melse\u001B[39;00m \u001B[38;5;28;01mNone\u001B[39;00m\n\u001B[1;32m    788\u001B[0m \u001B[38;5;66;03m# Make the request on the HTTPConnection object\u001B[39;00m\n\u001B[0;32m--> 789\u001B[0m response \u001B[38;5;241m=\u001B[39m \u001B[38;5;28;43mself\u001B[39;49m\u001B[38;5;241;43m.\u001B[39;49m\u001B[43m_make_request\u001B[49m\u001B[43m(\u001B[49m\n\u001B[1;32m    790\u001B[0m \u001B[43m    \u001B[49m\u001B[43mconn\u001B[49m\u001B[43m,\u001B[49m\n\u001B[1;32m    791\u001B[0m \u001B[43m    \u001B[49m\u001B[43mmethod\u001B[49m\u001B[43m,\u001B[49m\n\u001B[1;32m    792\u001B[0m \u001B[43m    \u001B[49m\u001B[43murl\u001B[49m\u001B[43m,\u001B[49m\n\u001B[1;32m    793\u001B[0m \u001B[43m    \u001B[49m\u001B[43mtimeout\u001B[49m\u001B[38;5;241;43m=\u001B[39;49m\u001B[43mtimeout_obj\u001B[49m\u001B[43m,\u001B[49m\n\u001B[1;32m    794\u001B[0m \u001B[43m    \u001B[49m\u001B[43mbody\u001B[49m\u001B[38;5;241;43m=\u001B[39;49m\u001B[43mbody\u001B[49m\u001B[43m,\u001B[49m\n\u001B[1;32m    795\u001B[0m \u001B[43m    \u001B[49m\u001B[43mheaders\u001B[49m\u001B[38;5;241;43m=\u001B[39;49m\u001B[43mheaders\u001B[49m\u001B[43m,\u001B[49m\n\u001B[1;32m    796\u001B[0m \u001B[43m    \u001B[49m\u001B[43mchunked\u001B[49m\u001B[38;5;241;43m=\u001B[39;49m\u001B[43mchunked\u001B[49m\u001B[43m,\u001B[49m\n\u001B[1;32m    797\u001B[0m \u001B[43m    \u001B[49m\u001B[43mretries\u001B[49m\u001B[38;5;241;43m=\u001B[39;49m\u001B[43mretries\u001B[49m\u001B[43m,\u001B[49m\n\u001B[1;32m    798\u001B[0m \u001B[43m    \u001B[49m\u001B[43mresponse_conn\u001B[49m\u001B[38;5;241;43m=\u001B[39;49m\u001B[43mresponse_conn\u001B[49m\u001B[43m,\u001B[49m\n\u001B[1;32m    799\u001B[0m \u001B[43m    \u001B[49m\u001B[43mpreload_content\u001B[49m\u001B[38;5;241;43m=\u001B[39;49m\u001B[43mpreload_content\u001B[49m\u001B[43m,\u001B[49m\n\u001B[1;32m    800\u001B[0m \u001B[43m    \u001B[49m\u001B[43mdecode_content\u001B[49m\u001B[38;5;241;43m=\u001B[39;49m\u001B[43mdecode_content\u001B[49m\u001B[43m,\u001B[49m\n\u001B[1;32m    801\u001B[0m \u001B[43m    \u001B[49m\u001B[38;5;241;43m*\u001B[39;49m\u001B[38;5;241;43m*\u001B[39;49m\u001B[43mresponse_kw\u001B[49m\u001B[43m,\u001B[49m\n\u001B[1;32m    802\u001B[0m \u001B[43m\u001B[49m\u001B[43m)\u001B[49m\n\u001B[1;32m    804\u001B[0m \u001B[38;5;66;03m# Everything went great!\u001B[39;00m\n\u001B[1;32m    805\u001B[0m clean_exit \u001B[38;5;241m=\u001B[39m \u001B[38;5;28;01mTrue\u001B[39;00m\n",
      "File \u001B[0;32m~/PycharmProjects/InformerBayes/attentionTransformers/lib/python3.10/site-packages/urllib3/connectionpool.py:536\u001B[0m, in \u001B[0;36mHTTPConnectionPool._make_request\u001B[0;34m(self, conn, method, url, body, headers, retries, timeout, chunked, response_conn, preload_content, decode_content, enforce_content_length)\u001B[0m\n\u001B[1;32m    534\u001B[0m \u001B[38;5;66;03m# Receive the response from the server\u001B[39;00m\n\u001B[1;32m    535\u001B[0m \u001B[38;5;28;01mtry\u001B[39;00m:\n\u001B[0;32m--> 536\u001B[0m     response \u001B[38;5;241m=\u001B[39m \u001B[43mconn\u001B[49m\u001B[38;5;241;43m.\u001B[39;49m\u001B[43mgetresponse\u001B[49m\u001B[43m(\u001B[49m\u001B[43m)\u001B[49m\n\u001B[1;32m    537\u001B[0m \u001B[38;5;28;01mexcept\u001B[39;00m (BaseSSLError, \u001B[38;5;167;01mOSError\u001B[39;00m) \u001B[38;5;28;01mas\u001B[39;00m e:\n\u001B[1;32m    538\u001B[0m     \u001B[38;5;28mself\u001B[39m\u001B[38;5;241m.\u001B[39m_raise_timeout(err\u001B[38;5;241m=\u001B[39me, url\u001B[38;5;241m=\u001B[39murl, timeout_value\u001B[38;5;241m=\u001B[39mread_timeout)\n",
      "File \u001B[0;32m~/PycharmProjects/InformerBayes/attentionTransformers/lib/python3.10/site-packages/urllib3/connection.py:464\u001B[0m, in \u001B[0;36mHTTPConnection.getresponse\u001B[0;34m(self)\u001B[0m\n\u001B[1;32m    461\u001B[0m \u001B[38;5;28;01mfrom\u001B[39;00m \u001B[38;5;21;01m.\u001B[39;00m\u001B[38;5;21;01mresponse\u001B[39;00m \u001B[38;5;28;01mimport\u001B[39;00m HTTPResponse\n\u001B[1;32m    463\u001B[0m \u001B[38;5;66;03m# Get the response from http.client.HTTPConnection\u001B[39;00m\n\u001B[0;32m--> 464\u001B[0m httplib_response \u001B[38;5;241m=\u001B[39m \u001B[38;5;28;43msuper\u001B[39;49m\u001B[43m(\u001B[49m\u001B[43m)\u001B[49m\u001B[38;5;241;43m.\u001B[39;49m\u001B[43mgetresponse\u001B[49m\u001B[43m(\u001B[49m\u001B[43m)\u001B[49m\n\u001B[1;32m    466\u001B[0m \u001B[38;5;28;01mtry\u001B[39;00m:\n\u001B[1;32m    467\u001B[0m     assert_header_parsing(httplib_response\u001B[38;5;241m.\u001B[39mmsg)\n",
      "File \u001B[0;32m/opt/homebrew/Cellar/python@3.10/3.10.14_1/Frameworks/Python.framework/Versions/3.10/lib/python3.10/http/client.py:1375\u001B[0m, in \u001B[0;36mHTTPConnection.getresponse\u001B[0;34m(self)\u001B[0m\n\u001B[1;32m   1373\u001B[0m \u001B[38;5;28;01mtry\u001B[39;00m:\n\u001B[1;32m   1374\u001B[0m     \u001B[38;5;28;01mtry\u001B[39;00m:\n\u001B[0;32m-> 1375\u001B[0m         \u001B[43mresponse\u001B[49m\u001B[38;5;241;43m.\u001B[39;49m\u001B[43mbegin\u001B[49m\u001B[43m(\u001B[49m\u001B[43m)\u001B[49m\n\u001B[1;32m   1376\u001B[0m     \u001B[38;5;28;01mexcept\u001B[39;00m \u001B[38;5;167;01mConnectionError\u001B[39;00m:\n\u001B[1;32m   1377\u001B[0m         \u001B[38;5;28mself\u001B[39m\u001B[38;5;241m.\u001B[39mclose()\n",
      "File \u001B[0;32m/opt/homebrew/Cellar/python@3.10/3.10.14_1/Frameworks/Python.framework/Versions/3.10/lib/python3.10/http/client.py:318\u001B[0m, in \u001B[0;36mHTTPResponse.begin\u001B[0;34m(self)\u001B[0m\n\u001B[1;32m    316\u001B[0m \u001B[38;5;66;03m# read until we get a non-100 response\u001B[39;00m\n\u001B[1;32m    317\u001B[0m \u001B[38;5;28;01mwhile\u001B[39;00m \u001B[38;5;28;01mTrue\u001B[39;00m:\n\u001B[0;32m--> 318\u001B[0m     version, status, reason \u001B[38;5;241m=\u001B[39m \u001B[38;5;28;43mself\u001B[39;49m\u001B[38;5;241;43m.\u001B[39;49m\u001B[43m_read_status\u001B[49m\u001B[43m(\u001B[49m\u001B[43m)\u001B[49m\n\u001B[1;32m    319\u001B[0m     \u001B[38;5;28;01mif\u001B[39;00m status \u001B[38;5;241m!=\u001B[39m CONTINUE:\n\u001B[1;32m    320\u001B[0m         \u001B[38;5;28;01mbreak\u001B[39;00m\n",
      "File \u001B[0;32m/opt/homebrew/Cellar/python@3.10/3.10.14_1/Frameworks/Python.framework/Versions/3.10/lib/python3.10/http/client.py:279\u001B[0m, in \u001B[0;36mHTTPResponse._read_status\u001B[0;34m(self)\u001B[0m\n\u001B[1;32m    278\u001B[0m \u001B[38;5;28;01mdef\u001B[39;00m \u001B[38;5;21m_read_status\u001B[39m(\u001B[38;5;28mself\u001B[39m):\n\u001B[0;32m--> 279\u001B[0m     line \u001B[38;5;241m=\u001B[39m \u001B[38;5;28mstr\u001B[39m(\u001B[38;5;28;43mself\u001B[39;49m\u001B[38;5;241;43m.\u001B[39;49m\u001B[43mfp\u001B[49m\u001B[38;5;241;43m.\u001B[39;49m\u001B[43mreadline\u001B[49m\u001B[43m(\u001B[49m\u001B[43m_MAXLINE\u001B[49m\u001B[43m \u001B[49m\u001B[38;5;241;43m+\u001B[39;49m\u001B[43m \u001B[49m\u001B[38;5;241;43m1\u001B[39;49m\u001B[43m)\u001B[49m, \u001B[38;5;124m\"\u001B[39m\u001B[38;5;124miso-8859-1\u001B[39m\u001B[38;5;124m\"\u001B[39m)\n\u001B[1;32m    280\u001B[0m     \u001B[38;5;28;01mif\u001B[39;00m \u001B[38;5;28mlen\u001B[39m(line) \u001B[38;5;241m>\u001B[39m _MAXLINE:\n\u001B[1;32m    281\u001B[0m         \u001B[38;5;28;01mraise\u001B[39;00m LineTooLong(\u001B[38;5;124m\"\u001B[39m\u001B[38;5;124mstatus line\u001B[39m\u001B[38;5;124m\"\u001B[39m)\n",
      "File \u001B[0;32m/opt/homebrew/Cellar/python@3.10/3.10.14_1/Frameworks/Python.framework/Versions/3.10/lib/python3.10/socket.py:705\u001B[0m, in \u001B[0;36mSocketIO.readinto\u001B[0;34m(self, b)\u001B[0m\n\u001B[1;32m    703\u001B[0m \u001B[38;5;28;01mwhile\u001B[39;00m \u001B[38;5;28;01mTrue\u001B[39;00m:\n\u001B[1;32m    704\u001B[0m     \u001B[38;5;28;01mtry\u001B[39;00m:\n\u001B[0;32m--> 705\u001B[0m         \u001B[38;5;28;01mreturn\u001B[39;00m \u001B[38;5;28;43mself\u001B[39;49m\u001B[38;5;241;43m.\u001B[39;49m\u001B[43m_sock\u001B[49m\u001B[38;5;241;43m.\u001B[39;49m\u001B[43mrecv_into\u001B[49m\u001B[43m(\u001B[49m\u001B[43mb\u001B[49m\u001B[43m)\u001B[49m\n\u001B[1;32m    706\u001B[0m     \u001B[38;5;28;01mexcept\u001B[39;00m timeout:\n\u001B[1;32m    707\u001B[0m         \u001B[38;5;28mself\u001B[39m\u001B[38;5;241m.\u001B[39m_timeout_occurred \u001B[38;5;241m=\u001B[39m \u001B[38;5;28;01mTrue\u001B[39;00m\n",
      "File \u001B[0;32m/opt/homebrew/Cellar/python@3.10/3.10.14_1/Frameworks/Python.framework/Versions/3.10/lib/python3.10/ssl.py:1307\u001B[0m, in \u001B[0;36mSSLSocket.recv_into\u001B[0;34m(self, buffer, nbytes, flags)\u001B[0m\n\u001B[1;32m   1303\u001B[0m     \u001B[38;5;28;01mif\u001B[39;00m flags \u001B[38;5;241m!=\u001B[39m \u001B[38;5;241m0\u001B[39m:\n\u001B[1;32m   1304\u001B[0m         \u001B[38;5;28;01mraise\u001B[39;00m \u001B[38;5;167;01mValueError\u001B[39;00m(\n\u001B[1;32m   1305\u001B[0m           \u001B[38;5;124m\"\u001B[39m\u001B[38;5;124mnon-zero flags not allowed in calls to recv_into() on \u001B[39m\u001B[38;5;132;01m%s\u001B[39;00m\u001B[38;5;124m\"\u001B[39m \u001B[38;5;241m%\u001B[39m\n\u001B[1;32m   1306\u001B[0m           \u001B[38;5;28mself\u001B[39m\u001B[38;5;241m.\u001B[39m\u001B[38;5;18m__class__\u001B[39m)\n\u001B[0;32m-> 1307\u001B[0m     \u001B[38;5;28;01mreturn\u001B[39;00m \u001B[38;5;28;43mself\u001B[39;49m\u001B[38;5;241;43m.\u001B[39;49m\u001B[43mread\u001B[49m\u001B[43m(\u001B[49m\u001B[43mnbytes\u001B[49m\u001B[43m,\u001B[49m\u001B[43m \u001B[49m\u001B[43mbuffer\u001B[49m\u001B[43m)\u001B[49m\n\u001B[1;32m   1308\u001B[0m \u001B[38;5;28;01melse\u001B[39;00m:\n\u001B[1;32m   1309\u001B[0m     \u001B[38;5;28;01mreturn\u001B[39;00m \u001B[38;5;28msuper\u001B[39m()\u001B[38;5;241m.\u001B[39mrecv_into(buffer, nbytes, flags)\n",
      "File \u001B[0;32m/opt/homebrew/Cellar/python@3.10/3.10.14_1/Frameworks/Python.framework/Versions/3.10/lib/python3.10/ssl.py:1163\u001B[0m, in \u001B[0;36mSSLSocket.read\u001B[0;34m(self, len, buffer)\u001B[0m\n\u001B[1;32m   1161\u001B[0m \u001B[38;5;28;01mtry\u001B[39;00m:\n\u001B[1;32m   1162\u001B[0m     \u001B[38;5;28;01mif\u001B[39;00m buffer \u001B[38;5;129;01mis\u001B[39;00m \u001B[38;5;129;01mnot\u001B[39;00m \u001B[38;5;28;01mNone\u001B[39;00m:\n\u001B[0;32m-> 1163\u001B[0m         \u001B[38;5;28;01mreturn\u001B[39;00m \u001B[38;5;28;43mself\u001B[39;49m\u001B[38;5;241;43m.\u001B[39;49m\u001B[43m_sslobj\u001B[49m\u001B[38;5;241;43m.\u001B[39;49m\u001B[43mread\u001B[49m\u001B[43m(\u001B[49m\u001B[38;5;28;43mlen\u001B[39;49m\u001B[43m,\u001B[49m\u001B[43m \u001B[49m\u001B[43mbuffer\u001B[49m\u001B[43m)\u001B[49m\n\u001B[1;32m   1164\u001B[0m     \u001B[38;5;28;01melse\u001B[39;00m:\n\u001B[1;32m   1165\u001B[0m         \u001B[38;5;28;01mreturn\u001B[39;00m \u001B[38;5;28mself\u001B[39m\u001B[38;5;241m.\u001B[39m_sslobj\u001B[38;5;241m.\u001B[39mread(\u001B[38;5;28mlen\u001B[39m)\n",
      "\u001B[0;31mKeyboardInterrupt\u001B[0m: "
     ]
    }
   ],
   "execution_count": 311
  },
  {
   "metadata": {
    "ExecuteTime": {
     "end_time": "2024-09-14T05:21:43.859883Z",
     "start_time": "2024-09-14T05:21:33.716489Z"
    }
   },
   "cell_type": "code",
   "source": [
    "from qiskit_ibm_runtime import QiskitRuntimeService\n",
    "\n",
    "service = QiskitRuntimeService(\n",
    "    channel='ibm_quantum',\n",
    "    instance='ibm-q/open/main',\n",
    "    token='a81c40df80b2f0e4fc44eb019f0c411a0e73a97d915664e57a75c28697c0f4bc3a7d511cf3fcf7dc52131a94b7e94bf950ca8382f1f8b6259157045bbfeb3e97'\n",
    ")\n",
    "job = service.job('cvj3kx7z17rg008djnt0')\n",
    "job_result = job.result()\n",
    "\n",
    "for idx, pub_result in enumerate(job_result):\n",
    "    print(f\"Expectation values for pub {idx}: {pub_result.data.evs}\")"
   ],
   "id": "31213a0bf1ed3fa5",
   "outputs": [
    {
     "name": "stdout",
     "output_type": "stream",
     "text": [
      "Expectation values for pub 0: [ 1.08131868  1.08211474  1.10526316  1.28082192  0.41975309  0.97752809\n",
      "  0.99261448  1.62820513  0.77736777  0.83573487  0.57572254  0.51487414\n",
      "  0.37209302  0.26229508  0.20899149  0.11634349 -0.07724138 -0.18472064\n",
      " -0.19524406 -0.34792123 -0.52150538 -0.60482846 -0.56804734 -0.65224111\n",
      " -0.91696751 -0.9165659  -0.98983051 -1.02488688 -1.01095462 -1.19852941\n",
      " -1.31216931 -1.06540084 -1.07142857 -1.08924485 -1.09752547 -1.0678733\n",
      " -0.97727273 -0.97001304 -0.87710843 -0.85390428 -0.74002418 -0.64969697\n",
      " -0.6624     -0.52080537 -0.31236897 -0.19617834 -0.08323133  0.00461361\n",
      "  0.16752577  0.24145786  0.44084682  0.38023631  0.55222089  0.64644107\n",
      "  0.76222981  0.75951904  0.84908789  0.79382889  1.02054795  1.00109051\n",
      "  1.10336818  1.12430011  1.26126126  1.02177068  1.14649682  1.02260495\n",
      "  1.15479115  0.37944664  1.02030457  0.84680851  0.90754258  0.82396088\n",
      "  0.60252366  0.61468927  0.47231638  0.38881119  0.24186047  0.15519399\n",
      "  0.0158371  -0.11702128 -0.25200458 -0.42542787 -0.44309927 -0.57879656\n",
      " -0.67980296 -0.72794118 -0.74175199 -0.82795699 -1.13751669 -1.01162791\n",
      " -0.9261477  -1.17618469 -0.9762931  -1.07066381 -1.13063063 -1.14156285\n",
      " -1.02320675 -1.14606742 -1.1468005  -1.13432836 -1.0086741  -0.78398314\n",
      " -0.85939553 -0.72706682 -0.66666667 -0.53239105 -0.39370079 -0.26359833\n",
      " -0.25797872 -0.06025492  0.08870116  0.1833509   0.24008574  0.42513369\n",
      "  0.52013809  0.60194175  0.70904645  0.88149134  0.76099881  0.92045455\n",
      "  0.98719441  1.13705584  1.02439024  1.09714286  1.07807487  1.3543956\n",
      "  1.14869467]\n"
     ]
    }
   ],
   "execution_count": 312
  },
  {
   "metadata": {
    "ExecuteTime": {
     "end_time": "2024-09-14T06:15:58.416180Z",
     "start_time": "2024-09-14T06:15:58.165741Z"
    }
   },
   "cell_type": "code",
   "source": [
    "quantum_result =  job_result[0].data.evs\n",
    "import matplotlib.pyplot as plt\n",
    "import numpy as np\n",
    "\n",
    "#e histogram\n",
    "plt.hist(quantum_result, bins=20, edgecolor='black', alpha=0.7)\n",
    "plt.title('Histogram of Quantum Results')\n",
    "plt.xlabel('Measurement Value')\n",
    "plt.ylabel('Frequency')\n",
    "plt.grid(True)\n",
    "plt.show()"
   ],
   "id": "ca6df841bce5e8b5",
   "outputs": [
    {
     "data": {
      "text/plain": [
       "<Figure size 640x480 with 1 Axes>"
      ],
      "image/png": "[encoded data removed]"
     },
     "metadata": {},
     "output_type": "display_data"
    }
   ],
   "execution_count": 324
  },
  {
   "metadata": {
    "ExecuteTime": {
     "end_time": "2024-09-14T06:05:44.884284Z",
     "start_time": "2024-09-14T06:05:44.863519Z"
    }
   },
   "cell_type": "code",
   "source": "print(f'Quantum result: min: {np.min(quantum_result)}, max: {np.max(quantum_result)}, mean: {np.mean(quantum_result)}, std: {np.std(quantum_result)}, shape: {quantum_result.shape}')",
   "id": "5c5d5f65f2fa4bf0",
   "outputs": [
    {
     "name": "stdout",
     "output_type": "stream",
     "text": [
      "Quantum result: min: -1.312169312169312, max: 1.6282051282051282, mean: 0.009355857417975122, std: 0.8197414126847847, shape: (127,)\n"
     ]
    }
   ],
   "execution_count": 319
  },
  {
   "metadata": {
    "ExecuteTime": {
     "end_time": "2024-09-14T06:08:31.155671Z",
     "start_time": "2024-09-14T06:08:31.149465Z"
    }
   },
   "cell_type": "code",
   "source": "params_array = np.array(params)",
   "id": "7f2b62f8f4c25890",
   "outputs": [],
   "execution_count": 320
  },
  {
   "metadata": {
    "ExecuteTime": {
     "end_time": "2024-09-14T06:08:51.308735Z",
     "start_time": "2024-09-14T06:08:51.299208Z"
    }
   },
   "cell_type": "code",
   "source": "params_array",
   "id": "7e5e602579457f94",
   "outputs": [
    {
     "data": {
      "text/plain": [
       "array([ 0. ,  0.1,  0.2,  0.3,  0.4,  0.5,  0.6,  0.7,  0.8,  0.9,  1. ,\n",
       "        1.1,  1.2,  1.3,  1.4,  1.5,  1.6,  1.7,  1.8,  1.9,  2. ,  2.1,\n",
       "        2.2,  2.3,  2.4,  2.5,  2.6,  2.7,  2.8,  2.9,  3. ,  3.1,  3.2,\n",
       "        3.3,  3.4,  3.5,  3.6,  3.7,  3.8,  3.9,  4. ,  4.1,  4.2,  4.3,\n",
       "        4.4,  4.5,  4.6,  4.7,  4.8,  4.9,  5. ,  5.1,  5.2,  5.3,  5.4,\n",
       "        5.5,  5.6,  5.7,  5.8,  5.9,  6. ,  6.1,  6.2,  6.3,  6.4,  6.5,\n",
       "        6.6,  6.7,  6.8,  6.9,  7. ,  7.1,  7.2,  7.3,  7.4,  7.5,  7.6,\n",
       "        7.7,  7.8,  7.9,  8. ,  8.1,  8.2,  8.3,  8.4,  8.5,  8.6,  8.7,\n",
       "        8.8,  8.9,  9. ,  9.1,  9.2,  9.3,  9.4,  9.5,  9.6,  9.7,  9.8,\n",
       "        9.9, 10. , 10.1, 10.2, 10.3, 10.4, 10.5, 10.6, 10.7, 10.8, 10.9,\n",
       "       11. , 11.1, 11.2, 11.3, 11.4, 11.5, 11.6, 11.7, 11.8, 11.9, 12. ,\n",
       "       12.1, 12.2, 12.3, 12.4, 12.5, 12.6])"
      ]
     },
     "execution_count": 321,
     "metadata": {},
     "output_type": "execute_result"
    }
   ],
   "execution_count": 321
  },
  {
   "metadata": {
    "ExecuteTime": {
     "end_time": "2024-09-14T06:12:33.410885Z",
     "start_time": "2024-09-14T06:12:33.391063Z"
    }
   },
   "cell_type": "code",
   "source": "print(f'params_array: min: {np.min(params_array)}, max: {np.max(params_array)}, mean: {np.mean(params_array)}, std: {np.std(params_array)}, shape: {params_array.shape}')",
   "id": "fdff2b1e98fb6562",
   "outputs": [
    {
     "name": "stdout",
     "output_type": "stream",
     "text": [
      "params_array: min: 0.0, max: 12.600000000000001, mean: 6.3, std: 3.6660605559646724, shape: (127,)\n"
     ]
    }
   ],
   "execution_count": 323
  },
  {
   "metadata": {},
   "cell_type": "code",
   "outputs": [],
   "execution_count": null,
   "source": "",
   "id": "82f4c1c1a2f98a9"
  }
 ],
 "metadata": {
  "kernelspec": {
   "display_name": "Python 3",
   "language": "python",
   "name": "python3"
  },
  "language_info": {
   "codemirror_mode": {
    "name": "ipython",
    "version": 2
   },
   "file_extension": ".py",
   "mimetype": "text/x-python",
   "name": "python",
   "nbconvert_exporter": "python",
   "pygments_lexer": "ipython2",
   "version": "2.7.6"
  }
 },
 "nbformat": 4,
 "nbformat_minor": 5
}
