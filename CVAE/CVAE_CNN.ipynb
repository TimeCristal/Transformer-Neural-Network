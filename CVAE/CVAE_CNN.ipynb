{
 "cells": [
  {
   "metadata": {
    "ExecuteTime": {
     "end_time": "2024-09-27T20:46:41.822382Z",
     "start_time": "2024-09-27T20:46:40.587855Z"
    }
   },
   "cell_type": "code",
   "source": [
    "# Create a custom dataset with transformations applied\n",
    "from torch.utils.data import DataLoader, Dataset\n",
    "class CustomDataset(Dataset):\n",
    "    def __init__(self, X, y, transform=None):\n",
    "        self.X = X\n",
    "        self.y = y\n",
    "        self.transform = transform\n",
    "\n",
    "    def __len__(self):\n",
    "        return len(self.X)\n",
    "\n",
    "    def __getitem__(self, idx):\n",
    "        image = self.X[idx]\n",
    "        label = self.y[idx]\n",
    "        \n",
    "        # Apply transform if available\n",
    "        if self.transform:\n",
    "            image = self.transform(image)\n",
    "        \n",
    "        return image, label"
   ],
   "id": "4193909e8a45dcf4",
   "outputs": [],
   "execution_count": 1
  },
  {
   "metadata": {
    "ExecuteTime": {
     "end_time": "2024-09-27T20:46:42.610461Z",
     "start_time": "2024-09-27T20:46:41.823377Z"
    }
   },
   "cell_type": "code",
   "source": [
    "import torch\n",
    "import torch.nn as nn\n",
    "from torch.utils.data import random_split\n",
    "from torchvision import transforms\n",
    "from torch.optim import Adam\n",
    "import matplotlib.pyplot as plt\n",
    "\n",
    "# Define the Encoder\n",
    "class ConvCVAEEncoder(nn.Module):\n",
    "    def __init__(self, latent_dim, label_dim):\n",
    "        super(ConvCVAEEncoder, self).__init__()\n",
    "        self.label_embedding = nn.Linear(label_dim, 28 * 28)\n",
    "        self.conv1 = nn.Conv2d(2, 28, kernel_size=2, stride=1, padding=1)\n",
    "        self.pool1 = nn.MaxPool2d(2, stride=2, padding=1)\n",
    "        self.conv2 = nn.Conv2d(28, 56, kernel_size=2, stride=1, padding=1)\n",
    "        self.pool2 = nn.MaxPool2d(2, stride=2, padding=1)\n",
    "        self.conv3 = nn.Conv2d(56, 112, kernel_size=2, stride=1, padding=1)\n",
    "        self.fc1 = nn.Linear(11200, 224)\n",
    "        self.fc_z_mean = nn.Linear(224, latent_dim)\n",
    "        self.fc_z_log_var = nn.Linear(224, latent_dim)\n",
    "\n",
    "    def forward(self, x, labels):\n",
    "        label_embedding = self.label_embedding(labels).view(-1, 1, 28, 28)  # Reshape to match image channel dimension\n",
    "        x = torch.cat([x, label_embedding], dim=1)  # Concatenate along the channel dimension\n",
    "        x = torch.relu(self.conv1(x))\n",
    "        x = self.pool1(x)\n",
    "        x = torch.relu(self.conv2(x))\n",
    "        x = self.pool2(x)\n",
    "        x = torch.relu(self.conv3(x))\n",
    "        \n",
    "        # print(x.shape)  # Add this to check the shape before the fully connected layer\n",
    "    \n",
    "        x = x.view(x.size(0), -1)\n",
    "        x = torch.relu(self.fc1(x))\n",
    "        z_mean = self.fc_z_mean(x)\n",
    "        z_log_var = self.fc_z_log_var(x)\n",
    "        return z_mean, z_log_var\n",
    "\n",
    "class ConvCVAEDecoder(nn.Module):\n",
    "    def __init__(self, latent_dim, label_dim):\n",
    "        super(ConvCVAEDecoder, self).__init__()\n",
    "        self.fc = nn.Linear(latent_dim + label_dim, 7 * 7 * 64)\n",
    "        self.conv1 = nn.ConvTranspose2d(64, 112, kernel_size=3, stride=1, padding=1)\n",
    "        self.upsample1 = nn.Upsample(scale_factor=2)\n",
    "        self.conv2 = nn.ConvTranspose2d(112, 56, kernel_size=3, stride=1, padding=1)\n",
    "        self.upsample2 = nn.Upsample(scale_factor=2)\n",
    "        self.conv3 = nn.ConvTranspose2d(56, 28, kernel_size=3, stride=1, padding=1)\n",
    "        self.conv4 = nn.ConvTranspose2d(28, 1, kernel_size=3, stride=1, padding=1)\n",
    "\n",
    "    def forward(self, z, labels):\n",
    "        x = torch.cat([z, labels], dim=1)\n",
    "        x = torch.relu(self.fc(x))\n",
    "        x = x.view(-1, 64, 7, 7)  # Reshape for convolution\n",
    "        x = torch.relu(self.conv1(x))\n",
    "        x = self.upsample1(x)\n",
    "        x = torch.relu(self.conv2(x))\n",
    "        x = self.upsample2(x)\n",
    "        x = torch.relu(self.conv3(x))\n",
    "        x = torch.sigmoid(self.conv4(x))  # Apply sigmoid to ensure output is between 0 and 1\n",
    "        return x\n",
    "    \n",
    "# Full CVAE Model\n",
    "class ConvCVAE(nn.Module):\n",
    "    def __init__(self, latent_dim, label_dim):\n",
    "        super(ConvCVAE, self).__init__()\n",
    "        self.encoder = ConvCVAEEncoder(latent_dim, label_dim)\n",
    "        self.decoder = ConvCVAEDecoder(latent_dim, label_dim)\n",
    "    \n",
    "    def reparameterize(self, z_mean, z_log_var):\n",
    "        std = torch.exp(0.5 * z_log_var)\n",
    "        eps = torch.randn_like(std)\n",
    "        return z_mean + eps * std\n",
    "\n",
    "    def forward(self, x, labels):\n",
    "        z_mean, z_log_var = self.encoder(x, labels)\n",
    "        z = self.reparameterize(z_mean, z_log_var)\n",
    "        return self.decoder(z, labels), z_mean, z_log_var\n",
    "\n",
    "# Loss Function\n",
    "def loss_function(reconstructed_x, x, z_mean, z_log_var):\n",
    "    reconstruction_loss = nn.functional.binary_cross_entropy(reconstructed_x, x, reduction='sum')\n",
    "    kl_loss = -0.5 * torch.sum(1 + z_log_var - z_mean.pow(2) - z_log_var.exp())\n",
    "    return reconstruction_loss + kl_loss\n",
    "\n",
    "# Early Stopping\n",
    "class EarlyStopping:\n",
    "    def __init__(self, patience=5, delta=0):\n",
    "        self.patience = patience\n",
    "        self.counter = 0\n",
    "        self.best_loss = None\n",
    "        self.early_stop = False\n",
    "        self.delta = delta\n",
    "\n",
    "    def __call__(self, val_loss):\n",
    "        if self.best_loss is None:\n",
    "            self.best_loss = val_loss\n",
    "        elif val_loss > self.best_loss + self.delta:\n",
    "            self.counter += 1\n",
    "            if self.counter >= self.patience:\n",
    "                self.early_stop = True\n",
    "        else:\n",
    "            self.best_loss = val_loss\n",
    "            self.counter = 0\n",
    "\n",
    "# Training and Validation Loop\n",
    "def train_cvae(model, train_loader, val_loader, optimizer, epochs, device, num_classes):\n",
    "    early_stopping = EarlyStopping(patience=10, delta=0.001)\n",
    "    for epoch in range(epochs):\n",
    "        model.train()\n",
    "        train_loss = 0\n",
    "        for data, target in train_loader:\n",
    "            data = data.to(device)\n",
    "            target = torch.nn.functional.one_hot(target, num_classes=num_classes).float().to(device)\n",
    "            optimizer.zero_grad()\n",
    "            reconstructed_x, z_mean, z_log_var = model(data, target)\n",
    "            loss = loss_function(reconstructed_x, data, z_mean, z_log_var)\n",
    "            loss.backward()\n",
    "            train_loss += loss.item()\n",
    "            optimizer.step()\n",
    "\n",
    "        val_loss = validate_cvae(model, val_loader, device, num_classes=2)\n",
    "        print(f\"Epoch {epoch + 1}, Train Loss: {train_loss / len(train_loader.dataset):.4f}, Val Loss: {val_loss / len(val_loader.dataset):.4f}\")\n",
    "        \n",
    "\n",
    "        early_stopping(val_loss)\n",
    "        if early_stopping.early_stop:\n",
    "            print(\"Early stopping\")\n",
    "            break\n",
    "\n",
    "def validate_cvae(model, val_loader, device, num_classes):\n",
    "    model.eval()\n",
    "    val_loss = 0\n",
    "    with torch.no_grad():\n",
    "        for data, target in val_loader:\n",
    "            data = data.to(device)\n",
    "            target = torch.nn.functional.one_hot(target, num_classes=num_classes).float().to(device)\n",
    "            reconstructed_x, z_mean, z_log_var = model(data, target)\n",
    "            val_loss += loss_function(reconstructed_x, data, z_mean, z_log_var).item()\n",
    "    return val_loss\n",
    "\n",
    "# Inference and Image Generation\n",
    "def generate_images(model, label, latent_dim, num_classes, num_images=5, device='cpu'):\n",
    "    model.eval()\n",
    "    with torch.no_grad():\n",
    "        label_tensor = torch.eye(num_classes)[[label] * num_images].to(device)\n",
    "        z = torch.randn(num_images, latent_dim).to(device)\n",
    "        generated_images = model.decoder(z, label_tensor).cpu()\n",
    "        generated_images = generated_images.view(num_images, 28, 28)\n",
    "\n",
    "        plt.figure(figsize=(10, 5))\n",
    "        for i in range(num_images):\n",
    "            plt.subplot(1, num_images, i + 1)\n",
    "            plt.imshow(generated_images[i], cmap='gray')\n",
    "            plt.axis('off')\n",
    "        plt.show()\n",
    "\n",
    "# # Data Preparation\n",
    "# transform = transforms.Compose([transforms.ToTensor()])\n",
    "# # transform = transforms.Compose([transforms.ToTensor(), transforms.Normalize((0.5,), (0.5,))])\n",
    "# \n",
    "# dataset = datasets.MNIST(root='./data', train=True, download=True, transform=transform)\n",
    "# train_size = int(0.8 * len(dataset))\n",
    "# val_size = len(dataset) - train_size\n",
    "# train_dataset, val_dataset = random_split(dataset, [train_size, val_size])\n",
    "# \n",
    "batch_size = 256\n",
    "# \n",
    "# train_loader = DataLoader(train_dataset, batch_size=batch_size, shuffle=True)\n",
    "# val_loader = DataLoader(val_dataset, batch_size=batch_size, shuffle=False)\n",
    "# \n",
    "# # Model, Optimizer, and Device\n",
    "# latent_dim = 16\n",
    "# device = torch.device(\"cuda\" if torch.cuda.is_available() else \"cpu\")\n",
    "# model = ConvCVAE(latent_dim=latent_dim).to(device)\n",
    "# optimizer = Adam(model.parameters(), lr=0.001)"
   ],
   "id": "d791c9910e35274f",
   "outputs": [],
   "execution_count": 2
  },
  {
   "metadata": {
    "ExecuteTime": {
     "end_time": "2024-09-27T20:46:42.614521Z",
     "start_time": "2024-09-27T20:46:42.612541Z"
    }
   },
   "cell_type": "code",
   "source": [
    "# Train Model\n",
    "# epochs = 5\n",
    "# train_cvae(model, train_loader, val_loader, optimizer, epochs, device)"
   ],
   "id": "e33f0be975bd531e",
   "outputs": [],
   "execution_count": 3
  },
  {
   "metadata": {
    "ExecuteTime": {
     "end_time": "2024-09-27T20:46:42.618064Z",
     "start_time": "2024-09-27T20:46:42.615810Z"
    }
   },
   "cell_type": "code",
   "source": [
    "# Generate new images based on a label\n",
    "# generate_images(model, label=4, latent_dim=latent_dim, num_images=5, device=device)"
   ],
   "id": "77a982f46f21ddda",
   "outputs": [],
   "execution_count": 4
  },
  {
   "metadata": {
    "ExecuteTime": {
     "end_time": "2024-09-27T20:46:44.399792Z",
     "start_time": "2024-09-27T20:46:42.619042Z"
    }
   },
   "cell_type": "code",
   "source": [
    "from KL.kl.utils import load_fx\n",
    "window_size = 30\n",
    "pair = 'EURUSD'\n",
    "X, y, returns = load_fx(data_start=0, data_end=5000, window_size=window_size, shift=1, pair=pair)\n"
   ],
   "id": "c8e970bd2888c7d6",
   "outputs": [],
   "execution_count": 5
  },
  {
   "metadata": {
    "ExecuteTime": {
     "end_time": "2024-09-27T20:46:46.407437Z",
     "start_time": "2024-09-27T20:46:44.400835Z"
    }
   },
   "cell_type": "code",
   "source": [
    "from pyts.image import GramianAngularField\n",
    "transformer = GramianAngularField()\n",
    "\n",
    "X_new = transformer.transform(X)\n",
    "\n",
    "X_new = X_new.astype('float32')\n",
    "y = y.astype('int64')  # Ensure labels are in correct format\n",
    "print(X_new.shape, y.shape, X_new.dtype, y.dtype)\n",
    "print(X_new.min(), X_new.max(), y.min(), y.max())"
   ],
   "id": "fd283520e1a83213",
   "outputs": [
    {
     "name": "stdout",
     "output_type": "stream",
     "text": [
      "(4970, 28, 28) (4970,) float32 int64\n",
      "-1.0 1.0 0 1\n"
     ]
    }
   ],
   "execution_count": 6
  },
  {
   "metadata": {
    "ExecuteTime": {
     "end_time": "2024-09-27T20:46:46.422415Z",
     "start_time": "2024-09-27T20:46:46.409691Z"
    }
   },
   "cell_type": "code",
   "source": [
    "# Modify the transform to convert data to float32\n",
    "transform = transforms.Compose([\n",
    "    transforms.ToTensor(),  # Convert to PyTorch tensor\n",
    "    #transforms.Normalize((0.5,), (0.5,)),  # Normalize\n",
    "    transforms.Lambda(lambda x: (x + 1) / 2),  # Rescale from [-1, 1] to [0, 1]\n",
    "    transforms.Lambda(lambda x: x.float())  # Ensure data is in float32\n",
    "])\n",
    "\n",
    "dataset = CustomDataset(X_new, y, transform=transform)\n",
    "\n",
    "# Define the sizes for train and validation split\n",
    "train_size = int(0.8 * len(dataset))  # 80% for training\n",
    "val_size = len(dataset) - train_size   # 20% for validation\n",
    "\n",
    "# Split the dataset\n",
    "train_dataset, val_dataset = random_split(dataset, [train_size, val_size])\n",
    "\n",
    "# Create DataLoaders for both train and validation datasets\n",
    "train_loader = DataLoader(train_dataset, batch_size=batch_size, shuffle=True)\n",
    "val_loader = DataLoader(val_dataset, batch_size=batch_size, shuffle=False)"
   ],
   "id": "b17fddcd1ff092eb",
   "outputs": [],
   "execution_count": 7
  },
  {
   "metadata": {
    "ExecuteTime": {
     "end_time": "2024-09-27T21:25:04.258625Z",
     "start_time": "2024-09-27T20:46:46.423993Z"
    }
   },
   "cell_type": "code",
   "source": [
    "latent_dim = 16\n",
    "device = torch.device(\"cuda\" if torch.cuda.is_available() else \"cpu\")\n",
    "\n",
    "model_fx = ConvCVAE(latent_dim=latent_dim, label_dim=2).to(device)\n",
    "optimizer = Adam(model_fx.parameters(), lr=0.001)\n",
    "epochs = 200\n",
    "train_cvae(model_fx, train_loader, val_loader, optimizer, epochs, device, num_classes=2)"
   ],
   "id": "186f4a27c00ecec8",
   "outputs": [
    {
     "name": "stdout",
     "output_type": "stream",
     "text": [
      "Epoch 1, Train Loss: 429.8616, Val Loss: 390.1148\n",
      "Epoch 2, Train Loss: 382.6198, Val Loss: 371.2801\n",
      "Epoch 3, Train Loss: 371.2884, Val Loss: 367.1723\n",
      "Epoch 4, Train Loss: 369.6861, Val Loss: 366.3271\n",
      "Epoch 5, Train Loss: 369.0987, Val Loss: 365.4795\n",
      "Epoch 6, Train Loss: 368.0409, Val Loss: 364.3188\n",
      "Epoch 7, Train Loss: 365.7725, Val Loss: 362.3715\n",
      "Epoch 8, Train Loss: 364.7710, Val Loss: 362.1905\n",
      "Epoch 9, Train Loss: 364.6663, Val Loss: 361.9516\n",
      "Epoch 10, Train Loss: 364.4333, Val Loss: 362.2750\n",
      "Epoch 11, Train Loss: 364.3132, Val Loss: 361.5821\n",
      "Epoch 12, Train Loss: 364.1678, Val Loss: 361.7905\n",
      "Epoch 13, Train Loss: 364.3111, Val Loss: 362.3815\n",
      "Epoch 14, Train Loss: 364.2024, Val Loss: 361.6979\n",
      "Epoch 15, Train Loss: 364.1260, Val Loss: 361.5276\n",
      "Epoch 16, Train Loss: 363.6675, Val Loss: 360.5324\n",
      "Epoch 17, Train Loss: 363.1403, Val Loss: 360.6198\n",
      "Epoch 18, Train Loss: 362.8850, Val Loss: 360.2281\n",
      "Epoch 19, Train Loss: 362.4349, Val Loss: 359.6426\n",
      "Epoch 20, Train Loss: 361.8712, Val Loss: 359.2774\n",
      "Epoch 21, Train Loss: 361.3704, Val Loss: 358.7405\n",
      "Epoch 22, Train Loss: 360.9631, Val Loss: 359.1314\n",
      "Epoch 23, Train Loss: 360.9144, Val Loss: 358.5103\n",
      "Epoch 24, Train Loss: 360.6620, Val Loss: 359.2773\n",
      "Epoch 25, Train Loss: 360.6700, Val Loss: 358.2742\n",
      "Epoch 26, Train Loss: 360.2485, Val Loss: 357.6423\n",
      "Epoch 27, Train Loss: 359.8369, Val Loss: 357.8564\n",
      "Epoch 28, Train Loss: 359.4768, Val Loss: 357.4246\n",
      "Epoch 29, Train Loss: 359.1772, Val Loss: 356.8842\n",
      "Epoch 30, Train Loss: 359.0872, Val Loss: 357.0173\n",
      "Epoch 31, Train Loss: 358.8399, Val Loss: 356.4676\n",
      "Epoch 32, Train Loss: 358.5146, Val Loss: 356.6890\n",
      "Epoch 33, Train Loss: 358.1889, Val Loss: 355.9541\n",
      "Epoch 34, Train Loss: 357.6622, Val Loss: 355.4862\n",
      "Epoch 35, Train Loss: 357.4570, Val Loss: 355.1362\n",
      "Epoch 36, Train Loss: 357.3869, Val Loss: 355.0844\n",
      "Epoch 37, Train Loss: 357.0977, Val Loss: 354.7740\n",
      "Epoch 38, Train Loss: 356.8556, Val Loss: 354.4136\n",
      "Epoch 39, Train Loss: 356.4982, Val Loss: 354.7126\n",
      "Epoch 40, Train Loss: 356.6199, Val Loss: 354.4246\n",
      "Epoch 41, Train Loss: 356.2684, Val Loss: 354.1713\n",
      "Epoch 42, Train Loss: 355.6032, Val Loss: 353.4469\n",
      "Epoch 43, Train Loss: 355.3820, Val Loss: 353.4586\n",
      "Epoch 44, Train Loss: 355.3743, Val Loss: 352.9803\n",
      "Epoch 45, Train Loss: 355.0596, Val Loss: 353.1605\n",
      "Epoch 46, Train Loss: 354.8845, Val Loss: 352.7236\n",
      "Epoch 47, Train Loss: 354.6978, Val Loss: 352.3219\n",
      "Epoch 48, Train Loss: 354.3976, Val Loss: 352.3498\n",
      "Epoch 49, Train Loss: 354.3189, Val Loss: 351.7982\n",
      "Epoch 50, Train Loss: 353.8975, Val Loss: 351.6739\n",
      "Epoch 51, Train Loss: 353.6520, Val Loss: 351.6747\n",
      "Epoch 52, Train Loss: 353.4475, Val Loss: 351.2475\n",
      "Epoch 53, Train Loss: 353.0409, Val Loss: 350.7634\n",
      "Epoch 54, Train Loss: 352.7289, Val Loss: 351.0884\n",
      "Epoch 55, Train Loss: 352.2872, Val Loss: 350.0260\n",
      "Epoch 56, Train Loss: 351.6209, Val Loss: 349.3524\n",
      "Epoch 57, Train Loss: 351.0411, Val Loss: 349.5187\n",
      "Epoch 58, Train Loss: 350.5142, Val Loss: 348.6249\n",
      "Epoch 59, Train Loss: 350.1437, Val Loss: 348.0082\n",
      "Epoch 60, Train Loss: 349.5024, Val Loss: 348.3451\n",
      "Epoch 61, Train Loss: 349.0680, Val Loss: 346.9293\n",
      "Epoch 62, Train Loss: 348.3214, Val Loss: 346.5534\n",
      "Epoch 63, Train Loss: 348.0266, Val Loss: 346.4086\n",
      "Epoch 64, Train Loss: 347.7720, Val Loss: 346.0187\n",
      "Epoch 65, Train Loss: 347.3110, Val Loss: 345.8277\n",
      "Epoch 66, Train Loss: 346.9530, Val Loss: 344.9772\n",
      "Epoch 67, Train Loss: 346.5042, Val Loss: 345.2249\n",
      "Epoch 68, Train Loss: 346.2759, Val Loss: 344.9020\n",
      "Epoch 69, Train Loss: 345.9162, Val Loss: 344.6477\n",
      "Epoch 70, Train Loss: 346.0777, Val Loss: 344.5859\n",
      "Epoch 71, Train Loss: 345.5312, Val Loss: 343.8817\n",
      "Epoch 72, Train Loss: 345.0420, Val Loss: 343.2936\n",
      "Epoch 73, Train Loss: 344.3351, Val Loss: 342.9278\n",
      "Epoch 74, Train Loss: 344.0073, Val Loss: 342.8192\n",
      "Epoch 75, Train Loss: 343.4424, Val Loss: 341.4597\n",
      "Epoch 76, Train Loss: 342.6393, Val Loss: 341.6914\n",
      "Epoch 77, Train Loss: 342.3444, Val Loss: 340.8790\n",
      "Epoch 78, Train Loss: 342.0488, Val Loss: 341.6917\n",
      "Epoch 79, Train Loss: 341.5623, Val Loss: 340.8134\n",
      "Epoch 80, Train Loss: 341.1324, Val Loss: 339.6986\n",
      "Epoch 81, Train Loss: 340.3475, Val Loss: 339.6518\n",
      "Epoch 82, Train Loss: 340.0706, Val Loss: 338.5160\n",
      "Epoch 83, Train Loss: 339.8257, Val Loss: 338.8805\n",
      "Epoch 84, Train Loss: 339.5414, Val Loss: 338.6254\n",
      "Epoch 85, Train Loss: 338.9282, Val Loss: 337.6106\n",
      "Epoch 86, Train Loss: 338.5249, Val Loss: 337.1624\n",
      "Epoch 87, Train Loss: 337.9236, Val Loss: 336.9520\n",
      "Epoch 88, Train Loss: 337.7291, Val Loss: 337.0463\n",
      "Epoch 89, Train Loss: 337.5422, Val Loss: 336.6391\n",
      "Epoch 90, Train Loss: 337.1584, Val Loss: 337.0675\n",
      "Epoch 91, Train Loss: 337.0123, Val Loss: 336.4634\n",
      "Epoch 92, Train Loss: 336.9822, Val Loss: 336.0346\n",
      "Epoch 93, Train Loss: 336.5354, Val Loss: 336.4405\n",
      "Epoch 94, Train Loss: 336.2364, Val Loss: 335.8586\n",
      "Epoch 95, Train Loss: 335.8438, Val Loss: 335.2094\n",
      "Epoch 96, Train Loss: 335.5371, Val Loss: 335.1766\n",
      "Epoch 97, Train Loss: 335.4964, Val Loss: 335.1263\n",
      "Epoch 98, Train Loss: 335.7495, Val Loss: 335.2753\n",
      "Epoch 99, Train Loss: 335.3079, Val Loss: 335.1627\n",
      "Epoch 100, Train Loss: 334.8847, Val Loss: 335.3606\n",
      "Epoch 101, Train Loss: 334.8714, Val Loss: 334.4586\n",
      "Epoch 102, Train Loss: 334.5881, Val Loss: 334.7943\n",
      "Epoch 103, Train Loss: 334.4419, Val Loss: 334.7261\n",
      "Epoch 104, Train Loss: 334.2974, Val Loss: 334.5722\n",
      "Epoch 105, Train Loss: 334.0555, Val Loss: 334.9783\n",
      "Epoch 106, Train Loss: 334.0234, Val Loss: 334.5196\n",
      "Epoch 107, Train Loss: 333.8848, Val Loss: 334.4841\n",
      "Epoch 108, Train Loss: 333.8240, Val Loss: 334.4664\n",
      "Epoch 109, Train Loss: 333.7514, Val Loss: 333.1282\n",
      "Epoch 110, Train Loss: 333.5890, Val Loss: 334.5991\n",
      "Epoch 111, Train Loss: 333.3113, Val Loss: 333.1275\n",
      "Epoch 112, Train Loss: 333.0788, Val Loss: 333.5644\n",
      "Epoch 113, Train Loss: 332.9462, Val Loss: 334.1404\n",
      "Epoch 114, Train Loss: 333.1040, Val Loss: 334.0612\n",
      "Epoch 115, Train Loss: 332.8816, Val Loss: 333.5205\n",
      "Epoch 116, Train Loss: 332.6833, Val Loss: 333.5413\n",
      "Epoch 117, Train Loss: 332.6321, Val Loss: 334.0203\n",
      "Epoch 118, Train Loss: 332.4981, Val Loss: 333.5405\n",
      "Epoch 119, Train Loss: 332.8683, Val Loss: 333.9807\n",
      "Epoch 120, Train Loss: 332.6769, Val Loss: 333.1457\n",
      "Epoch 121, Train Loss: 332.0952, Val Loss: 333.2955\n",
      "Early stopping\n"
     ]
    }
   ],
   "execution_count": 8
  },
  {
   "metadata": {
    "ExecuteTime": {
     "end_time": "2024-09-27T21:25:05.015078Z",
     "start_time": "2024-09-27T21:25:04.265207Z"
    }
   },
   "cell_type": "code",
   "source": [
    "# Generate new images based on a label\n",
    "generate_images(model_fx, label=0, num_classes=2, latent_dim=latent_dim, num_images=5, device=device)"
   ],
   "id": "38b10a28dfb16a6e",
   "outputs": [
    {
     "data": {
      "text/plain": [
       "<Figure size 1000x500 with 5 Axes>"
      ],
      "image/png": "[encoded data removed]"
     },
     "metadata": {},
     "output_type": "display_data"
    }
   ],
   "execution_count": 9
  },
  {
   "metadata": {
    "ExecuteTime": {
     "end_time": "2024-09-27T21:25:05.581223Z",
     "start_time": "2024-09-27T21:25:05.064444Z"
    }
   },
   "cell_type": "code",
   "source": "generate_images(model_fx, label=1, num_classes=2, latent_dim=latent_dim, num_images=5, device=device)",
   "id": "b3c48c8173e7846f",
   "outputs": [
    {
     "data": {
      "text/plain": [
       "<Figure size 1000x500 with 5 Axes>"
      ],
      "image/png": "[encoded data removed]"
     },
     "metadata": {},
     "output_type": "display_data"
    }
   ],
   "execution_count": 10
  },
  {
   "metadata": {
    "ExecuteTime": {
     "end_time": "2024-09-27T21:25:07.126649Z",
     "start_time": "2024-09-27T21:25:05.583933Z"
    }
   },
   "cell_type": "code",
   "source": [
    "model_fx.eval()\n",
    "num_classes = 2\n",
    "label = 0\n",
    "num_images = 1000\n",
    "with torch.no_grad():\n",
    "    label_tensor = torch.eye(num_classes)[[label] * num_images].to(device)\n",
    "    z = torch.randn(num_images, latent_dim).to(device)\n",
    "    generated_images = model_fx.decoder(z, label_tensor).cpu()\n",
    "    generated_images = generated_images.view(num_images, 28, 28)"
   ],
   "id": "86aa74810f9a5fa5",
   "outputs": [],
   "execution_count": 11
  },
  {
   "metadata": {
    "ExecuteTime": {
     "end_time": "2024-09-27T21:27:23.232493Z",
     "start_time": "2024-09-27T21:25:07.150022Z"
    }
   },
   "cell_type": "code",
   "source": [
    "import torch\n",
    "import torch.nn as nn\n",
    "import torch.optim as optim\n",
    "from torch.utils.data import DataLoader, random_split\n",
    "\n",
    "# Define the CNN architecture\n",
    "class SimpleCNN(nn.Module):\n",
    "    def __init__(self, num_classes=2):\n",
    "        super(SimpleCNN, self).__init__()\n",
    "        self.conv1 = nn.Conv2d(1, 32, kernel_size=3, stride=1, padding=1)\n",
    "        self.pool = nn.MaxPool2d(kernel_size=2, stride=2, padding=0)\n",
    "        self.conv2 = nn.Conv2d(32, 64, kernel_size=3, stride=1, padding=1)\n",
    "        self.fc1 = nn.Linear(64 * 7 * 7, 128)  # 7x7 is the output size after pooling twice\n",
    "        self.fc2 = nn.Linear(128, num_classes)\n",
    "        self.dropout = nn.Dropout(0.5)\n",
    "\n",
    "    def forward(self, x):\n",
    "        x = self.pool(torch.relu(self.conv1(x)))\n",
    "        x = self.pool(torch.relu(self.conv2(x)))\n",
    "        x = x.view(-1, 64 * 7 * 7)  # Flatten the feature map\n",
    "        x = torch.relu(self.fc1(x))\n",
    "        x = self.dropout(x)\n",
    "        x = self.fc2(x)\n",
    "        return x\n",
    "\n",
    "# Training and validation function\n",
    "def train_cnn(model, train_loader, val_loader, criterion, optimizer, device, epochs=10):\n",
    "    model.to(device)\n",
    "    for epoch in range(epochs):\n",
    "        model.train()\n",
    "        running_loss = 0.0\n",
    "        correct = 0\n",
    "        total = 0\n",
    "\n",
    "        # Training loop\n",
    "        for images, labels in train_loader:\n",
    "            images, labels = images.to(device), labels.to(device)\n",
    "            optimizer.zero_grad()\n",
    "            outputs = model(images)\n",
    "            loss = criterion(outputs, labels)\n",
    "            loss.backward()\n",
    "            optimizer.step()\n",
    "            running_loss += loss.item()\n",
    "            _, predicted = torch.max(outputs.data, 1)\n",
    "            total += labels.size(0)\n",
    "            correct += (predicted == labels).sum().item()\n",
    "\n",
    "        # Validation loop\n",
    "        model.eval()\n",
    "        val_loss = 0.0\n",
    "        val_correct = 0\n",
    "        val_total = 0\n",
    "        with torch.no_grad():\n",
    "            for images, labels in val_loader:\n",
    "                images, labels = images.to(device), labels.to(device)\n",
    "                outputs = model(images)\n",
    "                loss = criterion(outputs, labels)\n",
    "                val_loss += loss.item()\n",
    "                _, predicted = torch.max(outputs.data, 1)\n",
    "                val_total += labels.size(0)\n",
    "                val_correct += (predicted == labels).sum().item()\n",
    "\n",
    "        print(f'Epoch {epoch + 1}/{epochs}, Train Loss: {running_loss / len(train_loader):.4f}, '\n",
    "              f'Train Acc: {correct / total:.4f}, Val Loss: {val_loss / len(val_loader):.4f}, '\n",
    "              f'Val Acc: {val_correct / val_total:.4f}')\n",
    "\n",
    "# Load data and initialize the model, optimizer, and criterion\n",
    "batch_size = 64\n",
    "\n",
    "# Create DataLoaders\n",
    "train_loader = DataLoader(train_dataset, batch_size=batch_size, shuffle=True)\n",
    "val_loader = DataLoader(val_dataset, batch_size=batch_size, shuffle=False)\n",
    "\n",
    "# Initialize CNN, criterion, and optimizer\n",
    "cnn_model = SimpleCNN(num_classes=2)\n",
    "criterion = nn.CrossEntropyLoss()\n",
    "optimizer = optim.Adam(cnn_model.parameters(), lr=0.001)\n",
    "\n",
    "# Train the CNN\n",
    "device = torch.device(\"cuda\" if torch.cuda.is_available() else \"cpu\")\n",
    "train_cnn(cnn_model, train_loader, val_loader, criterion, optimizer, device, epochs=10)"
   ],
   "id": "6ff135d893585df7",
   "outputs": [
    {
     "name": "stdout",
     "output_type": "stream",
     "text": [
      "Epoch 1/10, Train Loss: 0.6949, Train Acc: 0.4950, Val Loss: 0.6929, Val Acc: 0.5131\n",
      "Epoch 2/10, Train Loss: 0.6943, Train Acc: 0.4977, Val Loss: 0.6930, Val Acc: 0.5151\n",
      "Epoch 3/10, Train Loss: 0.6937, Train Acc: 0.5136, Val Loss: 0.6935, Val Acc: 0.4869\n",
      "Epoch 4/10, Train Loss: 0.6933, Train Acc: 0.4990, Val Loss: 0.6940, Val Acc: 0.4759\n",
      "Epoch 5/10, Train Loss: 0.6917, Train Acc: 0.5111, Val Loss: 0.6938, Val Acc: 0.5131\n",
      "Epoch 6/10, Train Loss: 0.6911, Train Acc: 0.5229, Val Loss: 0.6941, Val Acc: 0.5020\n",
      "Epoch 7/10, Train Loss: 0.6907, Train Acc: 0.5171, Val Loss: 0.6941, Val Acc: 0.5050\n",
      "Epoch 8/10, Train Loss: 0.6868, Train Acc: 0.5420, Val Loss: 0.6985, Val Acc: 0.5111\n",
      "Epoch 9/10, Train Loss: 0.6874, Train Acc: 0.5289, Val Loss: 0.6966, Val Acc: 0.5050\n",
      "Epoch 10/10, Train Loss: 0.6814, Train Acc: 0.5566, Val Loss: 0.7045, Val Acc: 0.4869\n"
     ]
    }
   ],
   "execution_count": 12
  },
  {
   "metadata": {
    "jupyter": {
     "is_executing": true
    },
    "ExecuteTime": {
     "start_time": "2024-09-27T21:32:12.187077Z"
    }
   },
   "cell_type": "code",
   "source": [
    "#Generate and save images\n",
    "import torch\n",
    "import os\n",
    "from torchvision.utils import save_image\n",
    "\n",
    "def generate_and_save_images(model, latent_dim, num_images_per_class, save_dir, num_classes=2, device='cpu'):\n",
    "    model.eval()\n",
    "\n",
    "    with torch.no_grad():\n",
    "        for label in range(num_classes):\n",
    "            label_dir = os.path.join(save_dir, f'class_{label}')\n",
    "            os.makedirs(label_dir, exist_ok=True)\n",
    "            \n",
    "            label_tensor = torch.eye(num_classes)[[label] * num_images_per_class].to(device)\n",
    "            z = torch.randn(num_images_per_class, latent_dim).to(device)\n",
    "            generated_images = model.decoder(z, label_tensor).cpu()\n",
    "\n",
    "            for i in range(num_images_per_class):\n",
    "                if i%1000==0:\n",
    "                    print(f'done{i}')\n",
    "                img = generated_images[i].view(1, 28, 28)  # Reshape to 1x28x28 (grayscale)\n",
    "                save_image(img, os.path.join(label_dir, f'class_{label}_img_{i}.png'))\n",
    "\n",
    "# Example usage:\n",
    "latent_dim = 16\n",
    "num_images_per_class = 500  # Number of images per class\n",
    "save_dir = './generated_images/'\n",
    "\n",
    "generate_and_save_images(model_fx, latent_dim, num_images_per_class, save_dir, num_classes=2, device=device)"
   ],
   "id": "1629f520bb1f18f2",
   "outputs": [],
   "execution_count": null
  },
  {
   "metadata": {
    "ExecuteTime": {
     "end_time": "2024-09-27T21:27:26.437798Z",
     "start_time": "2024-09-27T21:27:26.423395Z"
    }
   },
   "cell_type": "code",
   "source": [
    "from torchvision import datasets, transforms\n",
    "from torch.utils.data import DataLoader\n",
    "\n",
    "# Create a transform for loading images\n",
    "transform = transforms.Compose([\n",
    "    transforms.Grayscale(num_output_channels=1),  # Ensure it's single-channel grayscale\n",
    "    transforms.ToTensor(),\n",
    "    transforms.Normalize((0.5,), (0.5,))\n",
    "])\n",
    "\n",
    "# Load the dataset from the saved images\n",
    "generated_dataset = datasets.ImageFolder(root=save_dir, transform=transform)\n",
    "\n",
    "# Define the sizes for train and validation split\n",
    "generated_train_size = int(0.8 * len(generated_dataset))  # 80% for training\n",
    "generated_val_size = len(generated_dataset) - generated_train_size   # 20% for validation\n",
    "\n",
    "generated_train_dataset, generated_val_dataset = random_split(generated_dataset, [generated_train_size, generated_val_size])\n",
    "\n",
    "# Create DataLoader for the generated dataset\n",
    "generated_train_loader = DataLoader(generated_train_dataset, batch_size=batch_size, shuffle=True)\n",
    "generated_val_loader = DataLoader(generated_val_dataset, batch_size=batch_size, shuffle=True)\n",
    "generated_loader = DataLoader(generated_dataset, batch_size=batch_size, shuffle=True)\n",
    "\n",
    "# Now you can train your CNN using this generated data"
   ],
   "id": "3ee4b82e9f7bacbb",
   "outputs": [],
   "execution_count": 14
  },
  {
   "metadata": {
    "ExecuteTime": {
     "end_time": "2024-09-27T21:30:59.451161Z",
     "start_time": "2024-09-27T21:27:26.440352Z"
    }
   },
   "cell_type": "code",
   "source": [
    "cnn_model = SimpleCNN(num_classes=2)\n",
    "optimizer = optim.Adam(cnn_model.parameters(), lr=0.001)\n",
    "# train_cnn(cnn_model, train_loader, generated_loader, criterion, optimizer, device, epochs=10)\n",
    "train_cnn(cnn_model, generated_loader, train_loader, criterion, optimizer, device, epochs=100)\n",
    "# train_cnn(cnn_model, generated_train_loader, generated_val_loader, criterion, optimizer, device, epochs=100)"
   ],
   "id": "e071f42102d51f68",
   "outputs": [
    {
     "name": "stdout",
     "output_type": "stream",
     "text": [
      "Epoch 1/100, Train Loss: 0.7079, Train Acc: 0.4830, Val Loss: 0.6947, Val Acc: 0.4912\n",
      "Epoch 2/100, Train Loss: 0.6943, Train Acc: 0.4970, Val Loss: 0.6934, Val Acc: 0.4912\n",
      "Epoch 3/100, Train Loss: 0.6930, Train Acc: 0.5000, Val Loss: 0.6944, Val Acc: 0.4912\n",
      "Epoch 4/100, Train Loss: 0.6945, Train Acc: 0.5000, Val Loss: 0.6947, Val Acc: 0.4912\n",
      "Epoch 5/100, Train Loss: 0.6951, Train Acc: 0.4810, Val Loss: 0.6944, Val Acc: 0.4912\n",
      "Epoch 6/100, Train Loss: 0.6934, Train Acc: 0.4960, Val Loss: 0.6968, Val Acc: 0.4912\n",
      "Epoch 7/100, Train Loss: 0.6927, Train Acc: 0.5040, Val Loss: 0.6969, Val Acc: 0.4912\n",
      "Epoch 8/100, Train Loss: 0.6921, Train Acc: 0.5240, Val Loss: 0.6970, Val Acc: 0.4912\n",
      "Epoch 9/100, Train Loss: 0.6930, Train Acc: 0.5090, Val Loss: 0.6988, Val Acc: 0.4912\n",
      "Epoch 10/100, Train Loss: 0.6918, Train Acc: 0.5150, Val Loss: 0.7032, Val Acc: 0.4912\n",
      "Epoch 11/100, Train Loss: 0.6915, Train Acc: 0.5120, Val Loss: 0.7046, Val Acc: 0.4912\n",
      "Epoch 12/100, Train Loss: 0.6897, Train Acc: 0.5430, Val Loss: 0.7190, Val Acc: 0.4912\n",
      "Epoch 13/100, Train Loss: 0.6882, Train Acc: 0.5380, Val Loss: 0.7138, Val Acc: 0.4912\n",
      "Epoch 14/100, Train Loss: 0.6863, Train Acc: 0.5620, Val Loss: 0.7726, Val Acc: 0.4912\n",
      "Epoch 15/100, Train Loss: 0.6831, Train Acc: 0.5510, Val Loss: 0.7649, Val Acc: 0.4912\n",
      "Epoch 16/100, Train Loss: 0.6834, Train Acc: 0.5430, Val Loss: 0.7773, Val Acc: 0.4912\n",
      "Epoch 17/100, Train Loss: 0.6766, Train Acc: 0.5710, Val Loss: 0.9055, Val Acc: 0.4912\n",
      "Epoch 18/100, Train Loss: 0.6752, Train Acc: 0.5770, Val Loss: 0.8738, Val Acc: 0.4912\n",
      "Epoch 19/100, Train Loss: 0.6691, Train Acc: 0.5780, Val Loss: 1.0670, Val Acc: 0.4912\n",
      "Epoch 20/100, Train Loss: 0.6694, Train Acc: 0.5930, Val Loss: 1.2327, Val Acc: 0.4912\n",
      "Epoch 21/100, Train Loss: 0.6624, Train Acc: 0.6000, Val Loss: 1.1354, Val Acc: 0.4912\n",
      "Epoch 22/100, Train Loss: 0.6636, Train Acc: 0.5920, Val Loss: 1.0612, Val Acc: 0.4912\n",
      "Epoch 23/100, Train Loss: 0.6587, Train Acc: 0.5990, Val Loss: 1.0067, Val Acc: 0.4912\n",
      "Epoch 24/100, Train Loss: 0.6562, Train Acc: 0.6130, Val Loss: 1.0217, Val Acc: 0.4912\n",
      "Epoch 25/100, Train Loss: 0.6395, Train Acc: 0.6260, Val Loss: 1.2703, Val Acc: 0.4912\n"
     ]
    },
    {
     "ename": "KeyboardInterrupt",
     "evalue": "",
     "output_type": "error",
     "traceback": [
      "\u001B[0;31m---------------------------------------------------------------------------\u001B[0m",
      "\u001B[0;31mKeyboardInterrupt\u001B[0m                         Traceback (most recent call last)",
      "Cell \u001B[0;32mIn[15], line 4\u001B[0m\n\u001B[1;32m      2\u001B[0m optimizer \u001B[38;5;241m=\u001B[39m optim\u001B[38;5;241m.\u001B[39mAdam(cnn_model\u001B[38;5;241m.\u001B[39mparameters(), lr\u001B[38;5;241m=\u001B[39m\u001B[38;5;241m0.001\u001B[39m)\n\u001B[1;32m      3\u001B[0m \u001B[38;5;66;03m# train_cnn(cnn_model, train_loader, generated_loader, criterion, optimizer, device, epochs=10)\u001B[39;00m\n\u001B[0;32m----> 4\u001B[0m \u001B[43mtrain_cnn\u001B[49m\u001B[43m(\u001B[49m\u001B[43mcnn_model\u001B[49m\u001B[43m,\u001B[49m\u001B[43m \u001B[49m\u001B[43mgenerated_loader\u001B[49m\u001B[43m,\u001B[49m\u001B[43m \u001B[49m\u001B[43mtrain_loader\u001B[49m\u001B[43m,\u001B[49m\u001B[43m \u001B[49m\u001B[43mcriterion\u001B[49m\u001B[43m,\u001B[49m\u001B[43m \u001B[49m\u001B[43moptimizer\u001B[49m\u001B[43m,\u001B[49m\u001B[43m \u001B[49m\u001B[43mdevice\u001B[49m\u001B[43m,\u001B[49m\u001B[43m \u001B[49m\u001B[43mepochs\u001B[49m\u001B[38;5;241;43m=\u001B[39;49m\u001B[38;5;241;43m100\u001B[39;49m\u001B[43m)\u001B[49m\n\u001B[1;32m      5\u001B[0m \u001B[38;5;66;03m# train_cnn(cnn_model, generated_train_loader, generated_val_loader, criterion, optimizer, device, epochs=100)\u001B[39;00m\n",
      "Cell \u001B[0;32mIn[12], line 39\u001B[0m, in \u001B[0;36mtrain_cnn\u001B[0;34m(model, train_loader, val_loader, criterion, optimizer, device, epochs)\u001B[0m\n\u001B[1;32m     37\u001B[0m images, labels \u001B[38;5;241m=\u001B[39m images\u001B[38;5;241m.\u001B[39mto(device), labels\u001B[38;5;241m.\u001B[39mto(device)\n\u001B[1;32m     38\u001B[0m optimizer\u001B[38;5;241m.\u001B[39mzero_grad()\n\u001B[0;32m---> 39\u001B[0m outputs \u001B[38;5;241m=\u001B[39m \u001B[43mmodel\u001B[49m\u001B[43m(\u001B[49m\u001B[43mimages\u001B[49m\u001B[43m)\u001B[49m\n\u001B[1;32m     40\u001B[0m loss \u001B[38;5;241m=\u001B[39m criterion(outputs, labels)\n\u001B[1;32m     41\u001B[0m loss\u001B[38;5;241m.\u001B[39mbackward()\n",
      "File \u001B[0;32m~/PycharmProjects/InformerBayes/attentionTransformers/lib/python3.10/site-packages/torch/nn/modules/module.py:1553\u001B[0m, in \u001B[0;36mModule._wrapped_call_impl\u001B[0;34m(self, *args, **kwargs)\u001B[0m\n\u001B[1;32m   1551\u001B[0m     \u001B[38;5;28;01mreturn\u001B[39;00m \u001B[38;5;28mself\u001B[39m\u001B[38;5;241m.\u001B[39m_compiled_call_impl(\u001B[38;5;241m*\u001B[39margs, \u001B[38;5;241m*\u001B[39m\u001B[38;5;241m*\u001B[39mkwargs)  \u001B[38;5;66;03m# type: ignore[misc]\u001B[39;00m\n\u001B[1;32m   1552\u001B[0m \u001B[38;5;28;01melse\u001B[39;00m:\n\u001B[0;32m-> 1553\u001B[0m     \u001B[38;5;28;01mreturn\u001B[39;00m \u001B[38;5;28;43mself\u001B[39;49m\u001B[38;5;241;43m.\u001B[39;49m\u001B[43m_call_impl\u001B[49m\u001B[43m(\u001B[49m\u001B[38;5;241;43m*\u001B[39;49m\u001B[43margs\u001B[49m\u001B[43m,\u001B[49m\u001B[43m \u001B[49m\u001B[38;5;241;43m*\u001B[39;49m\u001B[38;5;241;43m*\u001B[39;49m\u001B[43mkwargs\u001B[49m\u001B[43m)\u001B[49m\n",
      "File \u001B[0;32m~/PycharmProjects/InformerBayes/attentionTransformers/lib/python3.10/site-packages/torch/nn/modules/module.py:1562\u001B[0m, in \u001B[0;36mModule._call_impl\u001B[0;34m(self, *args, **kwargs)\u001B[0m\n\u001B[1;32m   1557\u001B[0m \u001B[38;5;66;03m# If we don't have any hooks, we want to skip the rest of the logic in\u001B[39;00m\n\u001B[1;32m   1558\u001B[0m \u001B[38;5;66;03m# this function, and just call forward.\u001B[39;00m\n\u001B[1;32m   1559\u001B[0m \u001B[38;5;28;01mif\u001B[39;00m \u001B[38;5;129;01mnot\u001B[39;00m (\u001B[38;5;28mself\u001B[39m\u001B[38;5;241m.\u001B[39m_backward_hooks \u001B[38;5;129;01mor\u001B[39;00m \u001B[38;5;28mself\u001B[39m\u001B[38;5;241m.\u001B[39m_backward_pre_hooks \u001B[38;5;129;01mor\u001B[39;00m \u001B[38;5;28mself\u001B[39m\u001B[38;5;241m.\u001B[39m_forward_hooks \u001B[38;5;129;01mor\u001B[39;00m \u001B[38;5;28mself\u001B[39m\u001B[38;5;241m.\u001B[39m_forward_pre_hooks\n\u001B[1;32m   1560\u001B[0m         \u001B[38;5;129;01mor\u001B[39;00m _global_backward_pre_hooks \u001B[38;5;129;01mor\u001B[39;00m _global_backward_hooks\n\u001B[1;32m   1561\u001B[0m         \u001B[38;5;129;01mor\u001B[39;00m _global_forward_hooks \u001B[38;5;129;01mor\u001B[39;00m _global_forward_pre_hooks):\n\u001B[0;32m-> 1562\u001B[0m     \u001B[38;5;28;01mreturn\u001B[39;00m \u001B[43mforward_call\u001B[49m\u001B[43m(\u001B[49m\u001B[38;5;241;43m*\u001B[39;49m\u001B[43margs\u001B[49m\u001B[43m,\u001B[49m\u001B[43m \u001B[49m\u001B[38;5;241;43m*\u001B[39;49m\u001B[38;5;241;43m*\u001B[39;49m\u001B[43mkwargs\u001B[49m\u001B[43m)\u001B[49m\n\u001B[1;32m   1564\u001B[0m \u001B[38;5;28;01mtry\u001B[39;00m:\n\u001B[1;32m   1565\u001B[0m     result \u001B[38;5;241m=\u001B[39m \u001B[38;5;28;01mNone\u001B[39;00m\n",
      "Cell \u001B[0;32mIn[12], line 19\u001B[0m, in \u001B[0;36mSimpleCNN.forward\u001B[0;34m(self, x)\u001B[0m\n\u001B[1;32m     17\u001B[0m \u001B[38;5;28;01mdef\u001B[39;00m \u001B[38;5;21mforward\u001B[39m(\u001B[38;5;28mself\u001B[39m, x):\n\u001B[1;32m     18\u001B[0m     x \u001B[38;5;241m=\u001B[39m \u001B[38;5;28mself\u001B[39m\u001B[38;5;241m.\u001B[39mpool(torch\u001B[38;5;241m.\u001B[39mrelu(\u001B[38;5;28mself\u001B[39m\u001B[38;5;241m.\u001B[39mconv1(x)))\n\u001B[0;32m---> 19\u001B[0m     x \u001B[38;5;241m=\u001B[39m \u001B[38;5;28mself\u001B[39m\u001B[38;5;241m.\u001B[39mpool(torch\u001B[38;5;241m.\u001B[39mrelu(\u001B[38;5;28;43mself\u001B[39;49m\u001B[38;5;241;43m.\u001B[39;49m\u001B[43mconv2\u001B[49m\u001B[43m(\u001B[49m\u001B[43mx\u001B[49m\u001B[43m)\u001B[49m))\n\u001B[1;32m     20\u001B[0m     x \u001B[38;5;241m=\u001B[39m x\u001B[38;5;241m.\u001B[39mview(\u001B[38;5;241m-\u001B[39m\u001B[38;5;241m1\u001B[39m, \u001B[38;5;241m64\u001B[39m \u001B[38;5;241m*\u001B[39m \u001B[38;5;241m7\u001B[39m \u001B[38;5;241m*\u001B[39m \u001B[38;5;241m7\u001B[39m)  \u001B[38;5;66;03m# Flatten the feature map\u001B[39;00m\n\u001B[1;32m     21\u001B[0m     x \u001B[38;5;241m=\u001B[39m torch\u001B[38;5;241m.\u001B[39mrelu(\u001B[38;5;28mself\u001B[39m\u001B[38;5;241m.\u001B[39mfc1(x))\n",
      "File \u001B[0;32m~/PycharmProjects/InformerBayes/attentionTransformers/lib/python3.10/site-packages/torch/nn/modules/module.py:1553\u001B[0m, in \u001B[0;36mModule._wrapped_call_impl\u001B[0;34m(self, *args, **kwargs)\u001B[0m\n\u001B[1;32m   1551\u001B[0m     \u001B[38;5;28;01mreturn\u001B[39;00m \u001B[38;5;28mself\u001B[39m\u001B[38;5;241m.\u001B[39m_compiled_call_impl(\u001B[38;5;241m*\u001B[39margs, \u001B[38;5;241m*\u001B[39m\u001B[38;5;241m*\u001B[39mkwargs)  \u001B[38;5;66;03m# type: ignore[misc]\u001B[39;00m\n\u001B[1;32m   1552\u001B[0m \u001B[38;5;28;01melse\u001B[39;00m:\n\u001B[0;32m-> 1553\u001B[0m     \u001B[38;5;28;01mreturn\u001B[39;00m \u001B[38;5;28;43mself\u001B[39;49m\u001B[38;5;241;43m.\u001B[39;49m\u001B[43m_call_impl\u001B[49m\u001B[43m(\u001B[49m\u001B[38;5;241;43m*\u001B[39;49m\u001B[43margs\u001B[49m\u001B[43m,\u001B[49m\u001B[43m \u001B[49m\u001B[38;5;241;43m*\u001B[39;49m\u001B[38;5;241;43m*\u001B[39;49m\u001B[43mkwargs\u001B[49m\u001B[43m)\u001B[49m\n",
      "File \u001B[0;32m~/PycharmProjects/InformerBayes/attentionTransformers/lib/python3.10/site-packages/torch/nn/modules/module.py:1562\u001B[0m, in \u001B[0;36mModule._call_impl\u001B[0;34m(self, *args, **kwargs)\u001B[0m\n\u001B[1;32m   1557\u001B[0m \u001B[38;5;66;03m# If we don't have any hooks, we want to skip the rest of the logic in\u001B[39;00m\n\u001B[1;32m   1558\u001B[0m \u001B[38;5;66;03m# this function, and just call forward.\u001B[39;00m\n\u001B[1;32m   1559\u001B[0m \u001B[38;5;28;01mif\u001B[39;00m \u001B[38;5;129;01mnot\u001B[39;00m (\u001B[38;5;28mself\u001B[39m\u001B[38;5;241m.\u001B[39m_backward_hooks \u001B[38;5;129;01mor\u001B[39;00m \u001B[38;5;28mself\u001B[39m\u001B[38;5;241m.\u001B[39m_backward_pre_hooks \u001B[38;5;129;01mor\u001B[39;00m \u001B[38;5;28mself\u001B[39m\u001B[38;5;241m.\u001B[39m_forward_hooks \u001B[38;5;129;01mor\u001B[39;00m \u001B[38;5;28mself\u001B[39m\u001B[38;5;241m.\u001B[39m_forward_pre_hooks\n\u001B[1;32m   1560\u001B[0m         \u001B[38;5;129;01mor\u001B[39;00m _global_backward_pre_hooks \u001B[38;5;129;01mor\u001B[39;00m _global_backward_hooks\n\u001B[1;32m   1561\u001B[0m         \u001B[38;5;129;01mor\u001B[39;00m _global_forward_hooks \u001B[38;5;129;01mor\u001B[39;00m _global_forward_pre_hooks):\n\u001B[0;32m-> 1562\u001B[0m     \u001B[38;5;28;01mreturn\u001B[39;00m \u001B[43mforward_call\u001B[49m\u001B[43m(\u001B[49m\u001B[38;5;241;43m*\u001B[39;49m\u001B[43margs\u001B[49m\u001B[43m,\u001B[49m\u001B[43m \u001B[49m\u001B[38;5;241;43m*\u001B[39;49m\u001B[38;5;241;43m*\u001B[39;49m\u001B[43mkwargs\u001B[49m\u001B[43m)\u001B[49m\n\u001B[1;32m   1564\u001B[0m \u001B[38;5;28;01mtry\u001B[39;00m:\n\u001B[1;32m   1565\u001B[0m     result \u001B[38;5;241m=\u001B[39m \u001B[38;5;28;01mNone\u001B[39;00m\n",
      "File \u001B[0;32m~/PycharmProjects/InformerBayes/attentionTransformers/lib/python3.10/site-packages/torch/nn/modules/conv.py:458\u001B[0m, in \u001B[0;36mConv2d.forward\u001B[0;34m(self, input)\u001B[0m\n\u001B[1;32m    457\u001B[0m \u001B[38;5;28;01mdef\u001B[39;00m \u001B[38;5;21mforward\u001B[39m(\u001B[38;5;28mself\u001B[39m, \u001B[38;5;28minput\u001B[39m: Tensor) \u001B[38;5;241m-\u001B[39m\u001B[38;5;241m>\u001B[39m Tensor:\n\u001B[0;32m--> 458\u001B[0m     \u001B[38;5;28;01mreturn\u001B[39;00m \u001B[38;5;28;43mself\u001B[39;49m\u001B[38;5;241;43m.\u001B[39;49m\u001B[43m_conv_forward\u001B[49m\u001B[43m(\u001B[49m\u001B[38;5;28;43minput\u001B[39;49m\u001B[43m,\u001B[49m\u001B[43m \u001B[49m\u001B[38;5;28;43mself\u001B[39;49m\u001B[38;5;241;43m.\u001B[39;49m\u001B[43mweight\u001B[49m\u001B[43m,\u001B[49m\u001B[43m \u001B[49m\u001B[38;5;28;43mself\u001B[39;49m\u001B[38;5;241;43m.\u001B[39;49m\u001B[43mbias\u001B[49m\u001B[43m)\u001B[49m\n",
      "File \u001B[0;32m~/PycharmProjects/InformerBayes/attentionTransformers/lib/python3.10/site-packages/torch/nn/modules/conv.py:454\u001B[0m, in \u001B[0;36mConv2d._conv_forward\u001B[0;34m(self, input, weight, bias)\u001B[0m\n\u001B[1;32m    450\u001B[0m \u001B[38;5;28;01mif\u001B[39;00m \u001B[38;5;28mself\u001B[39m\u001B[38;5;241m.\u001B[39mpadding_mode \u001B[38;5;241m!=\u001B[39m \u001B[38;5;124m'\u001B[39m\u001B[38;5;124mzeros\u001B[39m\u001B[38;5;124m'\u001B[39m:\n\u001B[1;32m    451\u001B[0m     \u001B[38;5;28;01mreturn\u001B[39;00m F\u001B[38;5;241m.\u001B[39mconv2d(F\u001B[38;5;241m.\u001B[39mpad(\u001B[38;5;28minput\u001B[39m, \u001B[38;5;28mself\u001B[39m\u001B[38;5;241m.\u001B[39m_reversed_padding_repeated_twice, mode\u001B[38;5;241m=\u001B[39m\u001B[38;5;28mself\u001B[39m\u001B[38;5;241m.\u001B[39mpadding_mode),\n\u001B[1;32m    452\u001B[0m                     weight, bias, \u001B[38;5;28mself\u001B[39m\u001B[38;5;241m.\u001B[39mstride,\n\u001B[1;32m    453\u001B[0m                     _pair(\u001B[38;5;241m0\u001B[39m), \u001B[38;5;28mself\u001B[39m\u001B[38;5;241m.\u001B[39mdilation, \u001B[38;5;28mself\u001B[39m\u001B[38;5;241m.\u001B[39mgroups)\n\u001B[0;32m--> 454\u001B[0m \u001B[38;5;28;01mreturn\u001B[39;00m \u001B[43mF\u001B[49m\u001B[38;5;241;43m.\u001B[39;49m\u001B[43mconv2d\u001B[49m\u001B[43m(\u001B[49m\u001B[38;5;28;43minput\u001B[39;49m\u001B[43m,\u001B[49m\u001B[43m \u001B[49m\u001B[43mweight\u001B[49m\u001B[43m,\u001B[49m\u001B[43m \u001B[49m\u001B[43mbias\u001B[49m\u001B[43m,\u001B[49m\u001B[43m \u001B[49m\u001B[38;5;28;43mself\u001B[39;49m\u001B[38;5;241;43m.\u001B[39;49m\u001B[43mstride\u001B[49m\u001B[43m,\u001B[49m\n\u001B[1;32m    455\u001B[0m \u001B[43m                \u001B[49m\u001B[38;5;28;43mself\u001B[39;49m\u001B[38;5;241;43m.\u001B[39;49m\u001B[43mpadding\u001B[49m\u001B[43m,\u001B[49m\u001B[43m \u001B[49m\u001B[38;5;28;43mself\u001B[39;49m\u001B[38;5;241;43m.\u001B[39;49m\u001B[43mdilation\u001B[49m\u001B[43m,\u001B[49m\u001B[43m \u001B[49m\u001B[38;5;28;43mself\u001B[39;49m\u001B[38;5;241;43m.\u001B[39;49m\u001B[43mgroups\u001B[49m\u001B[43m)\u001B[49m\n",
      "\u001B[0;31mKeyboardInterrupt\u001B[0m: "
     ]
    }
   ],
   "execution_count": 15
  },
  {
   "metadata": {},
   "cell_type": "code",
   "source": "",
   "id": "565721d532b6a1ab",
   "outputs": [],
   "execution_count": null
  }
 ],
 "metadata": {
  "kernelspec": {
   "display_name": "Python 3",
   "language": "python",
   "name": "python3"
  },
  "language_info": {
   "codemirror_mode": {
    "name": "ipython",
    "version": 2
   },
   "file_extension": ".py",
   "mimetype": "text/x-python",
   "name": "python",
   "nbconvert_exporter": "python",
   "pygments_lexer": "ipython2",
   "version": "2.7.6"
  }
 },
 "nbformat": 4,
 "nbformat_minor": 5
}
