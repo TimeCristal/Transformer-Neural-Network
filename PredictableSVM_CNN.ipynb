{
 "cells": [
  {
   "cell_type": "code",
   "id": "initial_id",
   "metadata": {
    "collapsed": true,
    "ExecuteTime": {
     "end_time": "2024-08-28T00:15:55.050166Z",
     "start_time": "2024-08-28T00:15:52.967390Z"
    }
   },
   "source": [
    "import os\n",
    "\n",
    "import numpy as np\n",
    "import pandas as pd\n",
    "import torch\n",
    "import torch.nn as nn\n",
    "import torch.optim as optim\n",
    "from pyts.image import GramianAngularField\n",
    "from sklearn.model_selection import train_test_split\n",
    "from sklearn.preprocessing import StandardScaler\n",
    "from sklearn.svm import SVC\n",
    "from torch.utils.data import Dataset, DataLoader\n",
    "import torch.nn.functional as F\n"
   ],
   "execution_count": 1,
   "outputs": []
  },
  {
   "metadata": {
    "ExecuteTime": {
     "end_time": "2024-08-28T00:26:55.569486Z",
     "start_time": "2024-08-28T00:26:53.793251Z"
    }
   },
   "cell_type": "code",
   "source": [
    "\n",
    "# Load the dataset\n",
    "df = pd.read_csv(\"dataset/EURUSD_Daily_200005300000_202405300000.csv\", delimiter=\"\\t\")\n",
    "\n",
    "# Extract the closing prices\n",
    "closing = df[\"<CLOSE>\"]\n",
    "\n",
    "# Parameters\n",
    "window_size = 10  # Example window size\n",
    "test_size = 0.2   # Test set size\n",
    "\n",
    "\n",
    "scaler = StandardScaler()\n",
    "# X_train = scaler.fit_transform(X_train)\n",
    "\n",
    "# Create sliding window features and labels\n",
    "X, y = [], []\n",
    "for i in range(len(closing) - window_size):\n",
    "    window = closing[i:i + window_size].values\n",
    "    target = 1 if closing[i + window_size] > closing[i + window_size - 1] else 0\n",
    "    # Standardize the data\n",
    "    features = scaler.fit_transform(window[:-1].reshape(-1, 1))\n",
    "    X.append(features)\n",
    "    y.append(target)\n",
    "\n",
    "\n",
    "X = np.array(X).squeeze()\n",
    "y = np.array(y)\n",
    "\n",
    "# Step 1: Initial Split into Train_Valid and Test Sets\n",
    "train_valid_size = 0.8  # 80% for training and validation, 20% for testing\n",
    "train_valid, X_test, doo, y_test = train_test_split(X, y, test_size=(1 - train_valid_size), shuffle=False)\n",
    "\n",
    "# Step 2: Split Train_Valid into Train and Validation Sets\n",
    "train_size = 0.75  # 75% of train_valid for training, 25% for validation\n",
    "X_train, X_valid, y_train, y_valid = train_test_split(train_valid, y[:len(train_valid)], test_size=(1 - train_size), shuffle=True, random_state=42)\n",
    "\n",
    "\n",
    "\n",
    "# Train the SVM model\n",
    "svm_model = SVC(kernel='rbf', C=1.0, gamma='scale')\n",
    "svm_model.fit(X_train, y_train)\n",
    "\n",
    "# Test the SVM model\n",
    "svm_predictions = svm_model.predict(X_valid)\n",
    "\n",
    "# Now, we generate GAF images for the test set using pyts\n",
    "feature_window_size = window_size - 1\n",
    "gaf = GramianAngularField(image_size=feature_window_size, method='summation')\n",
    "X_test_gaf = gaf.fit_transform(X_valid)\n",
    "\n",
    "# Save GAF images and labels for later CNN training\n",
    "os.makedirs('gaf_images', exist_ok=True)\n",
    "for idx, (image, label) in enumerate(zip(X_test_gaf, svm_predictions)):\n",
    "    class_label = \"predictable\" if label == y_valid[idx] else \"unpredictable\"\n",
    "    np.save(f'gaf_images/{class_label}_{idx}.npy', image)\n",
    "\n",
    "# GAF images are now saved, and the next step will be CNN training.\n"
   ],
   "id": "a060fd368ef7a19d",
   "execution_count": 13,
   "outputs": []
  },
  {
   "metadata": {
    "ExecuteTime": {
     "end_time": "2024-08-28T00:16:28.264988Z",
     "start_time": "2024-08-28T00:16:28.259702Z"
    }
   },
   "cell_type": "code",
   "source": [
    "class GAFClassifierCNN(nn.Module):\n",
    "    def __init__(self):\n",
    "        super(GAFClassifierCNN, self).__init__()\n",
    "        self.conv1 = nn.Conv2d(in_channels=1, out_channels=16, kernel_size=3, padding=1)\n",
    "        self.conv2 = nn.Conv2d(in_channels=16, out_channels=32, kernel_size=3, padding=1)\n",
    "        self.pool = nn.MaxPool2d(kernel_size=2, stride=2)\n",
    "\n",
    "        # Calculate the size after the pooling layers\n",
    "        self.fc1_input_size = 32 * (feature_window_size // 2 // 2) * (feature_window_size // 2 // 2)\n",
    "\n",
    "        self.fc1 = nn.Linear(self.fc1_input_size, 128)  # Adjust according to the input size\n",
    "        self.fc2 = nn.Linear(128, 2)  # 2 output classes: predictable, unpredictable\n",
    "\n",
    "    def forward(self, x):\n",
    "        x = self.pool(F.relu(self.conv1(x)))\n",
    "        x = self.pool(F.relu(self.conv2(x)))\n",
    "        x = x.view(-1, self.fc1_input_size)  # Flatten the tensor for the fully connected layer\n",
    "        x = F.relu(self.fc1(x))\n",
    "        x = self.fc2(x)\n",
    "        return x\n"
   ],
   "id": "9b9c043a4df22608",
   "execution_count": 3,
   "outputs": []
  },
  {
   "metadata": {
    "ExecuteTime": {
     "end_time": "2024-08-28T00:16:30.517992Z",
     "start_time": "2024-08-28T00:16:30.509605Z"
    }
   },
   "cell_type": "code",
   "source": [
    "class GAFDataset(Dataset):\n",
    "    def __init__(self, image_dir):\n",
    "        self.image_dir = image_dir\n",
    "        self.image_files = [f for f in os.listdir(image_dir) if f.endswith('.npy')]\n",
    "        self.labels = [0 if 'unpredictable' in f else 1 for f in self.image_files]\n",
    "\n",
    "    def __len__(self):\n",
    "        return len(self.image_files)\n",
    "\n",
    "    def __getitem__(self, idx):\n",
    "        img_name = os.path.join(self.image_dir, self.image_files[idx])\n",
    "        image = np.load(img_name)\n",
    "        image = np.expand_dims(image, axis=0)  # Add channel dimension\n",
    "        label = self.labels[idx]\n",
    "        return torch.tensor(image, dtype=torch.float32), torch.tensor(label, dtype=torch.long)\n",
    "\n",
    "# Prepare the dataset and dataloader\n",
    "gaf_dataset = GAFDataset(image_dir='gaf_images')\n",
    "train_loader = DataLoader(gaf_dataset, batch_size=32, shuffle=True)\n"
   ],
   "id": "41f1292ab66bdc44",
   "execution_count": 4,
   "outputs": []
  },
  {
   "metadata": {
    "ExecuteTime": {
     "end_time": "2024-08-28T00:16:33.112154Z",
     "start_time": "2024-08-28T00:16:32.467645Z"
    }
   },
   "cell_type": "code",
   "source": [
    "# Initialize the CNN, loss function, and optimizer\n",
    "cnn_model = GAFClassifierCNN()\n",
    "criterion = nn.CrossEntropyLoss()\n",
    "optimizer = optim.Adam(cnn_model.parameters(), lr=0.001)"
   ],
   "id": "9082db13f3c1c66b",
   "execution_count": 5,
   "outputs": []
  },
  {
   "metadata": {
    "ExecuteTime": {
     "end_time": "2024-08-28T00:16:56.481802Z",
     "start_time": "2024-08-28T00:16:36.994738Z"
    }
   },
   "cell_type": "code",
   "source": [
    "# Additional imports for early stopping\n",
    "import copy\n",
    "\n",
    "# Training loop with early stopping\n",
    "num_epochs = 100\n",
    "patience = 10  # Number of epochs with no improvement after which training will be stopped\n",
    "best_accuracy = 0.0\n",
    "best_model_wts = copy.deepcopy(cnn_model.state_dict())\n",
    "epochs_no_improve = 0\n",
    "\n",
    "for epoch in range(num_epochs):\n",
    "    cnn_model.train()\n",
    "    running_loss = 0.0\n",
    "    correct_predictions = 0\n",
    "    total_predictions = 0\n",
    "\n",
    "    for images, labels in train_loader:\n",
    "        optimizer.zero_grad()\n",
    "        outputs = cnn_model(images)\n",
    "        loss = criterion(outputs, labels)\n",
    "        loss.backward()\n",
    "        optimizer.step()\n",
    "        running_loss += loss.item()\n",
    "\n",
    "        # Calculate the number of correct predictions\n",
    "        _, predicted = torch.max(outputs.data, 1)\n",
    "        correct_predictions += (predicted == labels).sum().item()\n",
    "        total_predictions += labels.size(0)\n",
    "\n",
    "    accuracy = correct_predictions / total_predictions * 100\n",
    "\n",
    "    # Early stopping logic\n",
    "    if accuracy > best_accuracy:\n",
    "        best_accuracy = accuracy\n",
    "        best_model_wts = copy.deepcopy(cnn_model.state_dict())\n",
    "        epochs_no_improve = 0\n",
    "    else:\n",
    "        epochs_no_improve += 1\n",
    "\n",
    "    if epochs_no_improve >= patience:\n",
    "        print(f'Early stopping at epoch {epoch + 1}')\n",
    "        break\n",
    "\n",
    "    print(f'Epoch {epoch + 1}/{num_epochs}, Loss: {running_loss / len(train_loader):.4f}, Accuracy: {accuracy:.2f}%')\n",
    "\n",
    "# Load the best model weights\n",
    "cnn_model.load_state_dict(best_model_wts)\n",
    "\n",
    "print(\"CNN training completed.\")\n",
    "print(f'Best Accuracy: {best_accuracy:.2f}%')\n"
   ],
   "id": "d59f3ba46309a175",
   "execution_count": 6,
   "outputs": []
  },
  {
   "metadata": {
    "ExecuteTime": {
     "end_time": "2024-08-28T00:21:53.222216Z",
     "start_time": "2024-08-28T00:21:53.214282Z"
    }
   },
   "cell_type": "code",
   "source": [
    "# Step 6: Testing on the Test Set\n",
    "def predict_with_combined_model(cnn_model, svm_model, feature_window):\n",
    "    # No need to scale the feature_window again since it was done during data preparation\n",
    "\n",
    "    # Generate GAF image from the feature window\n",
    "    gaf = GramianAngularField(image_size=feature_window_size, method='summation')\n",
    "    # gaf_image = gaf.fit_transform(np.array( feature_window ).reshape(1, -1) )\n",
    "    gaf_image = gaf.fit_transform(feature_window )\n",
    "\n",
    "    # Prepare the GAF image for the CNN\n",
    "    gaf_image = torch.tensor(gaf_image, dtype=torch.float32).unsqueeze(0).unsqueeze(\n",
    "        0)  # Add batch and channel dimensions\n",
    "\n",
    "    # Use CNN to predict if the GAF image is \"predictable\" or \"unpredictable\"\n",
    "    cnn_model.eval()  # Set the model to evaluation mode\n",
    "    with torch.no_grad():\n",
    "        output = cnn_model(gaf_image)\n",
    "        _, cnn_prediction = torch.max(output.data, 1)\n",
    "\n",
    "    if cnn_prediction.item() == 1:  # If CNN predicts \"predictable\"\n",
    "        # Use the SVM model to predict \"up\" or \"down\"\n",
    "        svm_prediction = svm_model.predict(feature_window.reshape(1, -1))\n",
    "        return \"up\" if svm_prediction[0] == 1 else \"down\"\n",
    "    else:\n",
    "        return \"unpredictable\""
   ],
   "id": "97f32e38f6b38835",
   "execution_count": 7,
   "outputs": []
  },
  {
   "metadata": {
    "ExecuteTime": {
     "end_time": "2024-08-28T00:35:49.584835Z",
     "start_time": "2024-08-28T00:35:49.467051Z"
    }
   },
   "cell_type": "code",
   "source": [
    "# Loop through each sample in the test set\n",
    "test_predictions = []\n",
    "cnn_predictable_count = 0\n",
    "correct_predictable_predictions = 0\n",
    "\n",
    "for i in range(len(X_test)):\n",
    "    feature_window = X_test[i]  # Extract the feature window for the i-th sample\n",
    "    prediction = predict_with_combined_model(cnn_model, svm_model, feature_window)\n",
    "    \n",
    "    if prediction != \"unpredictable\":  # Only consider cases where the CNN predicted \"predictable\"\n",
    "        cnn_predictable_count += 1\n",
    "        test_predictions.append(prediction)\n",
    "        \n",
    "        # Check if the prediction is correct\n",
    "        if (prediction == \"up\" and y_test[i] == 1) or (prediction == \"down\" and y_test[i] == 0):\n",
    "            correct_predictable_predictions += 1\n",
    "\n",
    "# Calculate accuracy only on the \"predictable\" cases\n",
    "if cnn_predictable_count > 0:\n",
    "    test_accuracy = correct_predictable_predictions / cnn_predictable_count * 100\n",
    "    print(f'Test Set Accuracy on \"Predictable\" Cases: {test_accuracy:.2f}%')\n",
    "else:\n",
    "    print(\"No 'Predictable' cases identified by the CNN.\")"
   ],
   "id": "30d0f302e515ef4",
   "execution_count": 15,
   "outputs": []
  },
  {
   "metadata": {},
   "cell_type": "code",
   "execution_count": null,
   "source": "",
   "id": "9812dc392d586540",
   "outputs": []
  }
 ],
 "metadata": {
  "kernelspec": {
   "display_name": "Python 3",
   "language": "python",
   "name": "python3"
  },
  "language_info": {
   "codemirror_mode": {
    "name": "ipython",
    "version": 2
   },
   "file_extension": ".py",
   "mimetype": "text/x-python",
   "name": "python",
   "nbconvert_exporter": "python",
   "pygments_lexer": "ipython2",
   "version": "2.7.6"
  }
 },
 "nbformat": 4,
 "nbformat_minor": 5
}
