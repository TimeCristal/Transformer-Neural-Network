{
 "nbformat": 4,
 "nbformat_minor": 0,
 "metadata": {
  "colab": {
   "provenance": []
  },
  "kernelspec": {
   "name": "python3",
   "display_name": "Python 3 (ipykernel)",
   "language": "python"
  },
  "language_info": {
   "name": "python"
  }
 },
 "cells": [
  {
   "cell_type": "markdown",
   "source": [
    "# Self Attention in Transformers"
   ],
   "metadata": {
    "id": "gO5Z0qErNuOt"
   }
  },
  {
   "cell_type": "markdown",
   "source": [
    "## Generate Data"
   ],
   "metadata": {
    "id": "HedntyUvLrBo"
   }
  },
  {
   "cell_type": "code",
   "source": [
    "import numpy as np\n",
    "import math\n",
    "\n",
    "L, d_k, d_v = 4, 8, 8\n",
    "q = np.random.randn(L, d_k)\n",
    "k = np.random.randn(L, d_k)\n",
    "v = np.random.randn(L, d_v)"
   ],
   "metadata": {
    "id": "xtKbaWhFJui3",
    "ExecuteTime": {
     "end_time": "2024-08-13T22:24:13.887805Z",
     "start_time": "2024-08-13T22:24:13.842123Z"
    }
   },
   "execution_count": 18,
   "outputs": []
  },
  {
   "cell_type": "code",
   "source": [
    "print(\"Q\\n\", q)\n",
    "print(\"K\\n\", k)\n",
    "print(\"V\\n\", v)"
   ],
   "metadata": {
    "colab": {
     "base_uri": "https://localhost:8080/"
    },
    "id": "09JpvuNJ2sZC",
    "outputId": "30d2c627-8647-44e0-aa92-c9e53e3b7843",
    "ExecuteTime": {
     "end_time": "2024-08-13T22:24:13.899421Z",
     "start_time": "2024-08-13T22:24:13.889992Z"
    }
   },
   "execution_count": 19,
   "outputs": []
  },
  {
   "cell_type": "markdown",
   "source": [
    "## Self Attention\n",
    "\n",
    "$$\n",
    "\\text{self attention} = softmax\\bigg(\\frac{Q.K^T}{\\sqrt{d_k}}+M\\bigg)\n",
    "$$\n",
    "\n",
    "$$\n",
    "\\text{new V} = \\text{self attention}.V\n",
    "$$ "
   ],
   "metadata": {
    "id": "tV6txskBLwjh"
   }
  },
  {
   "cell_type": "code",
   "source": [
    "np.matmul(q, k.T)"
   ],
   "metadata": {
    "colab": {
     "base_uri": "https://localhost:8080/"
    },
    "id": "x7GePHKk3Mh0",
    "outputId": "7dae7f5e-4715-4fd4-fbfd-7c0815e7d39e",
    "ExecuteTime": {
     "end_time": "2024-08-13T22:24:13.910246Z",
     "start_time": "2024-08-13T22:24:13.900705Z"
    }
   },
   "execution_count": 20,
   "outputs": []
  },
  {
   "cell_type": "code",
   "source": [
    "# Why we need sqrt(d_k) in denominator\n",
    "q.var(), k.var(), np.matmul(q, k.T).var()"
   ],
   "metadata": {
    "colab": {
     "base_uri": "https://localhost:8080/"
    },
    "id": "odK76OoI3nL2",
    "outputId": "69b50cdb-9a41-45ae-bfd2-619228af1ef7",
    "ExecuteTime": {
     "end_time": "2024-08-13T22:24:13.918222Z",
     "start_time": "2024-08-13T22:24:13.912454Z"
    }
   },
   "execution_count": 21,
   "outputs": []
  },
  {
   "cell_type": "code",
   "source": [
    "scaled = np.matmul(q, k.T) / math.sqrt(d_k)\n",
    "q.var(), k.var(), scaled.var()"
   ],
   "metadata": {
    "colab": {
     "base_uri": "https://localhost:8080/"
    },
    "id": "0Ps6AY1Q3tRI",
    "outputId": "3b9ac3c8-70b8-47bd-e868-e7d6fd26d270",
    "ExecuteTime": {
     "end_time": "2024-08-13T22:24:13.922188Z",
     "start_time": "2024-08-13T22:24:13.918924Z"
    }
   },
   "execution_count": 22,
   "outputs": []
  },
  {
   "cell_type": "markdown",
   "source": [
    "Notice the reduction in variance of the product"
   ],
   "metadata": {
    "id": "ypO9IK1PL3cJ"
   }
  },
  {
   "cell_type": "code",
   "source": [
    "scaled"
   ],
   "metadata": {
    "colab": {
     "base_uri": "https://localhost:8080/"
    },
    "id": "LVHAJR4N4VQX",
    "outputId": "52b06cf8-0381-453c-b576-0bd8de9a38b5",
    "ExecuteTime": {
     "end_time": "2024-08-13T22:24:13.925923Z",
     "start_time": "2024-08-13T22:24:13.923005Z"
    }
   },
   "execution_count": 23,
   "outputs": []
  },
  {
   "cell_type": "markdown",
   "source": [
    "## Masking\n",
    "\n",
    "- This is to ensure words don't get context from words generated in the future. \n",
    "- Not required in the encoders, but required int he decoders"
   ],
   "metadata": {
    "id": "Dmz4v-RmMAaj"
   }
  },
  {
   "cell_type": "code",
   "source": [
    "mask = np.tril(np.ones( (L, L) ))\n",
    "mask"
   ],
   "metadata": {
    "colab": {
     "base_uri": "https://localhost:8080/"
    },
    "id": "e8N3OhSLILfG",
    "outputId": "2c63a444-066c-44b2-abe5-242dd989f311",
    "ExecuteTime": {
     "end_time": "2024-08-13T22:24:13.931624Z",
     "start_time": "2024-08-13T22:24:13.926751Z"
    }
   },
   "execution_count": 24,
   "outputs": []
  },
  {
   "cell_type": "code",
   "source": [
    "mask[mask == 0] = -np.infty\n",
    "mask[mask == 1] = 0"
   ],
   "metadata": {
    "id": "hIV9K3Yn6s1V",
    "ExecuteTime": {
     "end_time": "2024-08-13T22:24:13.939647Z",
     "start_time": "2024-08-13T22:24:13.932546Z"
    }
   },
   "execution_count": 25,
   "outputs": []
  },
  {
   "cell_type": "code",
   "source": [
    "mask"
   ],
   "metadata": {
    "colab": {
     "base_uri": "https://localhost:8080/"
    },
    "id": "LK5V_T3W6vpX",
    "outputId": "bb4160a1-a011-4850-e403-9cb252572c66",
    "ExecuteTime": {
     "end_time": "2024-08-13T22:24:13.946365Z",
     "start_time": "2024-08-13T22:24:13.941147Z"
    }
   },
   "execution_count": 26,
   "outputs": []
  },
  {
   "cell_type": "code",
   "source": [
    "scaled + mask"
   ],
   "metadata": {
    "colab": {
     "base_uri": "https://localhost:8080/"
    },
    "id": "lNH1VgEf7xTa",
    "outputId": "4211c411-0356-4e39-8388-d39b0c1d0920",
    "ExecuteTime": {
     "end_time": "2024-08-13T22:24:13.953703Z",
     "start_time": "2024-08-13T22:24:13.949418Z"
    }
   },
   "execution_count": 27,
   "outputs": []
  },
  {
   "cell_type": "markdown",
   "source": [
    "## Softmax\n",
    "\n",
    "$$\n",
    "\\text{softmax} = \\frac{e^{x_i}}{\\sum_j e^x_j}\n",
    "$$"
   ],
   "metadata": {
    "id": "XMTAXjooN9eZ"
   }
  },
  {
   "cell_type": "code",
   "source": [
    "def softmax(x):\n",
    "  return (np.exp(x).T / np.sum(np.exp(x), axis=-1)).T"
   ],
   "metadata": {
    "id": "2R4gdRqj8W4Y",
    "ExecuteTime": {
     "end_time": "2024-08-13T22:24:13.957318Z",
     "start_time": "2024-08-13T22:24:13.954861Z"
    }
   },
   "execution_count": 28,
   "outputs": []
  },
  {
   "cell_type": "code",
   "source": [
    "attention = softmax(scaled + mask)"
   ],
   "metadata": {
    "id": "K5eg2zPy41sP",
    "ExecuteTime": {
     "end_time": "2024-08-13T22:24:13.961409Z",
     "start_time": "2024-08-13T22:24:13.958712Z"
    }
   },
   "execution_count": 29,
   "outputs": []
  },
  {
   "cell_type": "code",
   "source": [
    "attention"
   ],
   "metadata": {
    "colab": {
     "base_uri": "https://localhost:8080/"
    },
    "id": "7sauNmfl-1TB",
    "outputId": "46b22beb-9034-4c7c-8d56-04209d2581c4",
    "ExecuteTime": {
     "end_time": "2024-08-13T22:24:13.966192Z",
     "start_time": "2024-08-13T22:24:13.962723Z"
    }
   },
   "execution_count": 30,
   "outputs": []
  },
  {
   "cell_type": "code",
   "source": [
    "new_v = np.matmul(attention, v)\n",
    "new_v"
   ],
   "metadata": {
    "colab": {
     "base_uri": "https://localhost:8080/"
    },
    "id": "BAy37go56LZo",
    "outputId": "78d97fa1-e0b3-4c1d-8294-bf0fdb77f199",
    "ExecuteTime": {
     "end_time": "2024-08-13T22:24:13.972400Z",
     "start_time": "2024-08-13T22:24:13.968192Z"
    }
   },
   "execution_count": 31,
   "outputs": []
  },
  {
   "cell_type": "code",
   "source": [
    "v"
   ],
   "metadata": {
    "colab": {
     "base_uri": "https://localhost:8080/"
    },
    "id": "vCP2aZOU9VrT",
    "outputId": "e1fe2137-cd95-4a4b-fa1a-3ec21c38104c",
    "ExecuteTime": {
     "end_time": "2024-08-13T22:24:13.977410Z",
     "start_time": "2024-08-13T22:24:13.973775Z"
    }
   },
   "execution_count": 32,
   "outputs": []
  },
  {
   "cell_type": "code",
   "source": [],
   "metadata": {
    "id": "h_JndWelLDNW",
    "ExecuteTime": {
     "end_time": "2024-08-13T22:24:13.981251Z",
     "start_time": "2024-08-13T22:24:13.979213Z"
    }
   },
   "execution_count": 32,
   "outputs": []
  },
  {
   "cell_type": "markdown",
   "source": [
    "# Function"
   ],
   "metadata": {
    "id": "nSiJuBQELFHT"
   }
  },
  {
   "cell_type": "code",
   "source": [
    "def softmax(x):\n",
    "  return (np.exp(x).T / np.sum(np.exp(x), axis=-1)).T\n",
    "\n",
    "def scaled_dot_product_attention(q, k, v, mask=None):\n",
    "  d_k = q.shape[-1]\n",
    "  scaled = np.matmul(q, k.T) / math.sqrt(d_k)\n",
    "  if mask is not None:\n",
    "    scaled = scaled + mask\n",
    "  attention = softmax(scaled)\n",
    "  out = np.matmul(attention, v)\n",
    "  return out, attention"
   ],
   "metadata": {
    "id": "XvTnmdcB_jdq",
    "ExecuteTime": {
     "end_time": "2024-08-13T22:24:13.986122Z",
     "start_time": "2024-08-13T22:24:13.982287Z"
    }
   },
   "execution_count": 33,
   "outputs": []
  },
  {
   "cell_type": "code",
   "source": [
    "values, attention = scaled_dot_product_attention(q, k, v, mask=mask)\n",
    "print(\"Q\\n\", q)\n",
    "print(\"K\\n\", k)\n",
    "print(\"V\\n\", v)\n",
    "print(\"New V\\n\", values)\n",
    "print(\"Attention\\n\", attention)"
   ],
   "metadata": {
    "colab": {
     "base_uri": "https://localhost:8080/"
    },
    "id": "KSxLkZdiSLMT",
    "outputId": "ca70508d-fb6e-4eec-acb6-7a89a60dffa8",
    "ExecuteTime": {
     "end_time": "2024-08-13T22:24:13.991862Z",
     "start_time": "2024-08-13T22:24:13.987342Z"
    }
   },
   "execution_count": 34,
   "outputs": []
  },
  {
   "cell_type": "code",
   "source": [],
   "metadata": {
    "id": "-HtQQtB2LJus",
    "ExecuteTime": {
     "end_time": "2024-08-13T22:24:13.995176Z",
     "start_time": "2024-08-13T22:24:13.993080Z"
    }
   },
   "execution_count": 34,
   "outputs": []
  }
 ]
}
