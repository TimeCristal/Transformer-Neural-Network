{
 "nbformat": 4,
 "nbformat_minor": 0,
 "metadata": {
  "colab": {
   "provenance": []
  },
  "kernelspec": {
   "name": "python3",
   "display_name": "Python 3 (ipykernel)",
   "language": "python"
  },
  "language_info": {
   "name": "python"
  }
 },
 "cells": [
  {
   "cell_type": "markdown",
   "source": [
    "# Self Attention in Transformers"
   ],
   "metadata": {
    "id": "gO5Z0qErNuOt"
   }
  },
  {
   "cell_type": "markdown",
   "source": [
    "## Generate Data"
   ],
   "metadata": {
    "id": "HedntyUvLrBo"
   }
  },
  {
   "cell_type": "code",
   "source": [
    "import numpy as np\n",
    "import math\n",
    "\n",
    "L, d_k, d_v = 4, 8, 8\n",
    "q = np.random.randn(L, d_k)\n",
    "k = np.random.randn(L, d_k)\n",
    "v = np.random.randn(L, d_v)"
   ],
   "metadata": {
    "id": "xtKbaWhFJui3",
    "ExecuteTime": {
     "end_time": "2024-08-13T22:24:13.887805Z",
     "start_time": "2024-08-13T22:24:13.842123Z"
    }
   },
   "outputs": [],
   "execution_count": 18
  },
  {
   "cell_type": "code",
   "source": [
    "print(\"Q\\n\", q)\n",
    "print(\"K\\n\", k)\n",
    "print(\"V\\n\", v)"
   ],
   "metadata": {
    "colab": {
     "base_uri": "https://localhost:8080/"
    },
    "id": "09JpvuNJ2sZC",
    "outputId": "30d2c627-8647-44e0-aa92-c9e53e3b7843",
    "ExecuteTime": {
     "end_time": "2024-08-13T22:24:13.899421Z",
     "start_time": "2024-08-13T22:24:13.889992Z"
    }
   },
   "outputs": [
    {
     "name": "stdout",
     "output_type": "stream",
     "text": [
      "Q\n",
      " [[ 0.40610019 -0.13526347 -1.37776428 -1.08112196 -0.57635259 -0.03953952\n",
      "   0.11635102  0.39402089]\n",
      " [ 0.1612059  -0.7991379  -0.07111323 -1.59247379  0.44644414  0.19005893\n",
      "  -0.77327419  1.38224314]\n",
      " [-0.10534454 -1.46244734 -1.30305999 -0.16139127  0.73879523 -1.22283228\n",
      "   1.04221191  0.64872383]\n",
      " [ 1.54265598 -0.25274361 -1.58167994 -1.60770047  0.10612887  0.405868\n",
      "   0.96878068  0.1977659 ]]\n",
      "K\n",
      " [[ 0.71096647 -0.78364191 -0.95720498 -0.94627781 -0.6067886  -1.80238561\n",
      "  -0.02087386 -0.65559097]\n",
      " [-1.34398827 -0.39491779 -2.14325492 -0.56903127  0.94809213  0.70829332\n",
      "   0.44953989  2.14601746]\n",
      " [ 1.48705615 -1.10012906  1.12829033  1.55368213  0.15887659  0.43322693\n",
      "  -1.25391585 -0.66799573]\n",
      " [-0.58324277  0.34982954  1.24943425 -1.4019293  -0.0124756   1.45699666\n",
      "  -0.05658199  0.42648847]]\n",
      "V\n",
      " [[-0.75779633 -0.59572099 -1.01135183 -1.11617748 -0.21316834 -2.47143742\n",
      "   0.33301725  0.30441697]\n",
      " [ 0.11647353  0.6693205  -0.07213081  0.53119398 -0.49528941  0.51991687\n",
      "   0.8117463  -0.72728427]\n",
      " [ 1.75185666  0.52403856  0.12004752 -0.37652174  1.13379961  1.91009846\n",
      "   0.19153106  1.64837091]\n",
      " [-1.5033201  -1.78806643 -0.48149724 -0.16952366  0.95349471 -1.39360819\n",
      "   0.54098215  0.46555489]]\n"
     ]
    }
   ],
   "execution_count": 19
  },
  {
   "cell_type": "markdown",
   "source": [
    "## Self Attention\n",
    "\n",
    "$$\n",
    "\\text{self attention} = softmax\\bigg(\\frac{Q.K^T}{\\sqrt{d_k}}+M\\bigg)\n",
    "$$\n",
    "\n",
    "$$\n",
    "\\text{new V} = \\text{self attention}.V\n",
    "$$ "
   ],
   "metadata": {
    "id": "tV6txskBLwjh"
   }
  },
  {
   "cell_type": "code",
   "source": [
    "np.matmul(q, k.T)"
   ],
   "metadata": {
    "colab": {
     "base_uri": "https://localhost:8080/"
    },
    "id": "x7GePHKk3Mh0",
    "outputId": "7dae7f5e-4715-4fd4-fbfd-7c0815e7d39e",
    "ExecuteTime": {
     "end_time": "2024-08-13T22:24:13.910246Z",
     "start_time": "2024-08-13T22:24:13.900705Z"
    }
   },
   "outputs": [
    {
     "data": {
      "text/plain": [
       "array([[ 2.8968107 ,  3.39915553, -2.99933411, -0.37890009],\n",
       "       [ 0.81234089,  4.33410403, -1.23600096,  2.67470985],\n",
       "       [ 3.77982538,  5.2987652 , -2.42133054, -3.42517113],\n",
       "       [ 3.38435619,  3.57928472, -2.8645649 , -0.09092919]])"
      ]
     },
     "execution_count": 20,
     "metadata": {},
     "output_type": "execute_result"
    }
   ],
   "execution_count": 20
  },
  {
   "cell_type": "code",
   "source": [
    "# Why we need sqrt(d_k) in denominator\n",
    "q.var(), k.var(), np.matmul(q, k.T).var()"
   ],
   "metadata": {
    "colab": {
     "base_uri": "https://localhost:8080/"
    },
    "id": "odK76OoI3nL2",
    "outputId": "69b50cdb-9a41-45ae-bfd2-619228af1ef7",
    "ExecuteTime": {
     "end_time": "2024-08-13T22:24:13.918222Z",
     "start_time": "2024-08-13T22:24:13.912454Z"
    }
   },
   "outputs": [
    {
     "data": {
      "text/plain": [
       "(0.7780729696708955, 1.1114415393813015, 8.258030476887914)"
      ]
     },
     "execution_count": 21,
     "metadata": {},
     "output_type": "execute_result"
    }
   ],
   "execution_count": 21
  },
  {
   "cell_type": "code",
   "source": [
    "scaled = np.matmul(q, k.T) / math.sqrt(d_k)\n",
    "q.var(), k.var(), scaled.var()"
   ],
   "metadata": {
    "colab": {
     "base_uri": "https://localhost:8080/"
    },
    "id": "0Ps6AY1Q3tRI",
    "outputId": "3b9ac3c8-70b8-47bd-e868-e7d6fd26d270",
    "ExecuteTime": {
     "end_time": "2024-08-13T22:24:13.922188Z",
     "start_time": "2024-08-13T22:24:13.918924Z"
    }
   },
   "outputs": [
    {
     "data": {
      "text/plain": [
       "(0.7780729696708955, 1.1114415393813015, 1.0322538096109892)"
      ]
     },
     "execution_count": 22,
     "metadata": {},
     "output_type": "execute_result"
    }
   ],
   "execution_count": 22
  },
  {
   "cell_type": "markdown",
   "source": [
    "Notice the reduction in variance of the product"
   ],
   "metadata": {
    "id": "ypO9IK1PL3cJ"
   }
  },
  {
   "cell_type": "code",
   "source": [
    "scaled"
   ],
   "metadata": {
    "colab": {
     "base_uri": "https://localhost:8080/"
    },
    "id": "LVHAJR4N4VQX",
    "outputId": "52b06cf8-0381-453c-b576-0bd8de9a38b5",
    "ExecuteTime": {
     "end_time": "2024-08-13T22:24:13.925923Z",
     "start_time": "2024-08-13T22:24:13.923005Z"
    }
   },
   "outputs": [
    {
     "data": {
      "text/plain": [
       "array([[ 1.02417724,  1.20178296, -1.06042474, -0.13396141],\n",
       "       [ 0.28720587,  1.53233718, -0.43699233,  0.94565274],\n",
       "       [ 1.33637008,  1.8733964 , -0.85606962, -1.21098087],\n",
       "       [ 1.1965506 ,  1.26546825, -1.01277663, -0.03214832]])"
      ]
     },
     "execution_count": 23,
     "metadata": {},
     "output_type": "execute_result"
    }
   ],
   "execution_count": 23
  },
  {
   "cell_type": "markdown",
   "source": [
    "## Masking\n",
    "\n",
    "- This is to ensure words don't get context from words generated in the future. \n",
    "- Not required in the encoders, but required int he decoders"
   ],
   "metadata": {
    "id": "Dmz4v-RmMAaj"
   }
  },
  {
   "cell_type": "code",
   "source": [
    "mask = np.tril(np.ones( (L, L) ))\n",
    "mask"
   ],
   "metadata": {
    "colab": {
     "base_uri": "https://localhost:8080/"
    },
    "id": "e8N3OhSLILfG",
    "outputId": "2c63a444-066c-44b2-abe5-242dd989f311",
    "ExecuteTime": {
     "end_time": "2024-08-13T22:24:13.931624Z",
     "start_time": "2024-08-13T22:24:13.926751Z"
    }
   },
   "outputs": [
    {
     "data": {
      "text/plain": [
       "array([[1., 0., 0., 0.],\n",
       "       [1., 1., 0., 0.],\n",
       "       [1., 1., 1., 0.],\n",
       "       [1., 1., 1., 1.]])"
      ]
     },
     "execution_count": 24,
     "metadata": {},
     "output_type": "execute_result"
    }
   ],
   "execution_count": 24
  },
  {
   "cell_type": "code",
   "source": [
    "mask[mask == 0] = -np.infty\n",
    "mask[mask == 1] = 0"
   ],
   "metadata": {
    "id": "hIV9K3Yn6s1V",
    "ExecuteTime": {
     "end_time": "2024-08-13T22:24:13.939647Z",
     "start_time": "2024-08-13T22:24:13.932546Z"
    }
   },
   "outputs": [],
   "execution_count": 25
  },
  {
   "cell_type": "code",
   "source": [
    "mask"
   ],
   "metadata": {
    "colab": {
     "base_uri": "https://localhost:8080/"
    },
    "id": "LK5V_T3W6vpX",
    "outputId": "bb4160a1-a011-4850-e403-9cb252572c66",
    "ExecuteTime": {
     "end_time": "2024-08-13T22:24:13.946365Z",
     "start_time": "2024-08-13T22:24:13.941147Z"
    }
   },
   "outputs": [
    {
     "data": {
      "text/plain": [
       "array([[  0., -inf, -inf, -inf],\n",
       "       [  0.,   0., -inf, -inf],\n",
       "       [  0.,   0.,   0., -inf],\n",
       "       [  0.,   0.,   0.,   0.]])"
      ]
     },
     "execution_count": 26,
     "metadata": {},
     "output_type": "execute_result"
    }
   ],
   "execution_count": 26
  },
  {
   "cell_type": "code",
   "source": [
    "scaled + mask"
   ],
   "metadata": {
    "colab": {
     "base_uri": "https://localhost:8080/"
    },
    "id": "lNH1VgEf7xTa",
    "outputId": "4211c411-0356-4e39-8388-d39b0c1d0920",
    "ExecuteTime": {
     "end_time": "2024-08-13T22:24:13.953703Z",
     "start_time": "2024-08-13T22:24:13.949418Z"
    }
   },
   "outputs": [
    {
     "data": {
      "text/plain": [
       "array([[ 1.02417724,        -inf,        -inf,        -inf],\n",
       "       [ 0.28720587,  1.53233718,        -inf,        -inf],\n",
       "       [ 1.33637008,  1.8733964 , -0.85606962,        -inf],\n",
       "       [ 1.1965506 ,  1.26546825, -1.01277663, -0.03214832]])"
      ]
     },
     "execution_count": 27,
     "metadata": {},
     "output_type": "execute_result"
    }
   ],
   "execution_count": 27
  },
  {
   "cell_type": "markdown",
   "source": [
    "## Softmax\n",
    "\n",
    "$$\n",
    "\\text{softmax} = \\frac{e^{x_i}}{\\sum_j e^x_j}\n",
    "$$"
   ],
   "metadata": {
    "id": "XMTAXjooN9eZ"
   }
  },
  {
   "cell_type": "code",
   "source": [
    "def softmax(x):\n",
    "  return (np.exp(x).T / np.sum(np.exp(x), axis=-1)).T"
   ],
   "metadata": {
    "id": "2R4gdRqj8W4Y",
    "ExecuteTime": {
     "end_time": "2024-08-13T22:24:13.957318Z",
     "start_time": "2024-08-13T22:24:13.954861Z"
    }
   },
   "outputs": [],
   "execution_count": 28
  },
  {
   "cell_type": "code",
   "source": [
    "attention = softmax(scaled + mask)"
   ],
   "metadata": {
    "id": "K5eg2zPy41sP",
    "ExecuteTime": {
     "end_time": "2024-08-13T22:24:13.961409Z",
     "start_time": "2024-08-13T22:24:13.958712Z"
    }
   },
   "outputs": [],
   "execution_count": 29
  },
  {
   "cell_type": "code",
   "source": [
    "attention"
   ],
   "metadata": {
    "colab": {
     "base_uri": "https://localhost:8080/"
    },
    "id": "7sauNmfl-1TB",
    "outputId": "46b22beb-9034-4c7c-8d56-04209d2581c4",
    "ExecuteTime": {
     "end_time": "2024-08-13T22:24:13.966192Z",
     "start_time": "2024-08-13T22:24:13.962723Z"
    }
   },
   "outputs": [
    {
     "data": {
      "text/plain": [
       "array([[1.        , 0.        , 0.        , 0.        ],\n",
       "       [0.22354407, 0.77645593, 0.        , 0.        ],\n",
       "       [0.35428885, 0.60615691, 0.03955424, 0.        ],\n",
       "       [0.40423712, 0.43307862, 0.04437492, 0.11830934]])"
      ]
     },
     "execution_count": 30,
     "metadata": {},
     "output_type": "execute_result"
    }
   ],
   "execution_count": 30
  },
  {
   "cell_type": "code",
   "source": [
    "new_v = np.matmul(attention, v)\n",
    "new_v"
   ],
   "metadata": {
    "colab": {
     "base_uri": "https://localhost:8080/"
    },
    "id": "BAy37go56LZo",
    "outputId": "78d97fa1-e0b3-4c1d-8294-bf0fdb77f199",
    "ExecuteTime": {
     "end_time": "2024-08-13T22:24:13.972400Z",
     "start_time": "2024-08-13T22:24:13.968192Z"
    }
   },
   "outputs": [
    {
     "data": {
      "text/plain": [
       "array([[-0.75779633, -0.59572099, -1.01135183, -1.11617748, -0.21316834,\n",
       "        -2.47143742,  0.33301725,  0.30441697],\n",
       "       [-0.07896431,  0.38652797, -0.2820881 ,  0.16293386, -0.43222292,\n",
       "        -0.14878265,  0.70472926, -0.49665357],\n",
       "       [-0.1285842 ,  0.21538388, -0.39728488, -0.08835537, -0.33089969,\n",
       "        -0.48489904,  0.61760579, -0.26779679],\n",
       "       [-0.35600552, -0.13923493, -0.49170278, -0.25791597, -0.13755022,\n",
       "        -0.85399827,  0.55867032, -0.06368881]])"
      ]
     },
     "execution_count": 31,
     "metadata": {},
     "output_type": "execute_result"
    }
   ],
   "execution_count": 31
  },
  {
   "cell_type": "code",
   "source": [
    "v"
   ],
   "metadata": {
    "colab": {
     "base_uri": "https://localhost:8080/"
    },
    "id": "vCP2aZOU9VrT",
    "outputId": "e1fe2137-cd95-4a4b-fa1a-3ec21c38104c",
    "ExecuteTime": {
     "end_time": "2024-08-13T22:24:13.977410Z",
     "start_time": "2024-08-13T22:24:13.973775Z"
    }
   },
   "outputs": [
    {
     "data": {
      "text/plain": [
       "array([[-0.75779633, -0.59572099, -1.01135183, -1.11617748, -0.21316834,\n",
       "        -2.47143742,  0.33301725,  0.30441697],\n",
       "       [ 0.11647353,  0.6693205 , -0.07213081,  0.53119398, -0.49528941,\n",
       "         0.51991687,  0.8117463 , -0.72728427],\n",
       "       [ 1.75185666,  0.52403856,  0.12004752, -0.37652174,  1.13379961,\n",
       "         1.91009846,  0.19153106,  1.64837091],\n",
       "       [-1.5033201 , -1.78806643, -0.48149724, -0.16952366,  0.95349471,\n",
       "        -1.39360819,  0.54098215,  0.46555489]])"
      ]
     },
     "execution_count": 32,
     "metadata": {},
     "output_type": "execute_result"
    }
   ],
   "execution_count": 32
  },
  {
   "cell_type": "code",
   "source": [],
   "metadata": {
    "id": "h_JndWelLDNW",
    "ExecuteTime": {
     "end_time": "2024-08-13T22:24:13.981251Z",
     "start_time": "2024-08-13T22:24:13.979213Z"
    }
   },
   "outputs": [],
   "execution_count": 32
  },
  {
   "cell_type": "markdown",
   "source": [
    "# Function"
   ],
   "metadata": {
    "id": "nSiJuBQELFHT"
   }
  },
  {
   "cell_type": "code",
   "source": [
    "def softmax(x):\n",
    "  return (np.exp(x).T / np.sum(np.exp(x), axis=-1)).T\n",
    "\n",
    "def scaled_dot_product_attention(q, k, v, mask=None):\n",
    "  d_k = q.shape[-1]\n",
    "  scaled = np.matmul(q, k.T) / math.sqrt(d_k)\n",
    "  if mask is not None:\n",
    "    scaled = scaled + mask\n",
    "  attention = softmax(scaled)\n",
    "  out = np.matmul(attention, v)\n",
    "  return out, attention"
   ],
   "metadata": {
    "id": "XvTnmdcB_jdq",
    "ExecuteTime": {
     "end_time": "2024-08-13T22:24:13.986122Z",
     "start_time": "2024-08-13T22:24:13.982287Z"
    }
   },
   "outputs": [],
   "execution_count": 33
  },
  {
   "cell_type": "code",
   "source": [
    "values, attention = scaled_dot_product_attention(q, k, v, mask=mask)\n",
    "print(\"Q\\n\", q)\n",
    "print(\"K\\n\", k)\n",
    "print(\"V\\n\", v)\n",
    "print(\"New V\\n\", values)\n",
    "print(\"Attention\\n\", attention)"
   ],
   "metadata": {
    "colab": {
     "base_uri": "https://localhost:8080/"
    },
    "id": "KSxLkZdiSLMT",
    "outputId": "ca70508d-fb6e-4eec-acb6-7a89a60dffa8",
    "ExecuteTime": {
     "end_time": "2024-08-13T22:24:13.991862Z",
     "start_time": "2024-08-13T22:24:13.987342Z"
    }
   },
   "outputs": [
    {
     "name": "stdout",
     "output_type": "stream",
     "text": [
      "Q\n",
      " [[ 0.40610019 -0.13526347 -1.37776428 -1.08112196 -0.57635259 -0.03953952\n",
      "   0.11635102  0.39402089]\n",
      " [ 0.1612059  -0.7991379  -0.07111323 -1.59247379  0.44644414  0.19005893\n",
      "  -0.77327419  1.38224314]\n",
      " [-0.10534454 -1.46244734 -1.30305999 -0.16139127  0.73879523 -1.22283228\n",
      "   1.04221191  0.64872383]\n",
      " [ 1.54265598 -0.25274361 -1.58167994 -1.60770047  0.10612887  0.405868\n",
      "   0.96878068  0.1977659 ]]\n",
      "K\n",
      " [[ 0.71096647 -0.78364191 -0.95720498 -0.94627781 -0.6067886  -1.80238561\n",
      "  -0.02087386 -0.65559097]\n",
      " [-1.34398827 -0.39491779 -2.14325492 -0.56903127  0.94809213  0.70829332\n",
      "   0.44953989  2.14601746]\n",
      " [ 1.48705615 -1.10012906  1.12829033  1.55368213  0.15887659  0.43322693\n",
      "  -1.25391585 -0.66799573]\n",
      " [-0.58324277  0.34982954  1.24943425 -1.4019293  -0.0124756   1.45699666\n",
      "  -0.05658199  0.42648847]]\n",
      "V\n",
      " [[-0.75779633 -0.59572099 -1.01135183 -1.11617748 -0.21316834 -2.47143742\n",
      "   0.33301725  0.30441697]\n",
      " [ 0.11647353  0.6693205  -0.07213081  0.53119398 -0.49528941  0.51991687\n",
      "   0.8117463  -0.72728427]\n",
      " [ 1.75185666  0.52403856  0.12004752 -0.37652174  1.13379961  1.91009846\n",
      "   0.19153106  1.64837091]\n",
      " [-1.5033201  -1.78806643 -0.48149724 -0.16952366  0.95349471 -1.39360819\n",
      "   0.54098215  0.46555489]]\n",
      "New V\n",
      " [[-0.75779633 -0.59572099 -1.01135183 -1.11617748 -0.21316834 -2.47143742\n",
      "   0.33301725  0.30441697]\n",
      " [-0.07896431  0.38652797 -0.2820881   0.16293386 -0.43222292 -0.14878265\n",
      "   0.70472926 -0.49665357]\n",
      " [-0.1285842   0.21538388 -0.39728488 -0.08835537 -0.33089969 -0.48489904\n",
      "   0.61760579 -0.26779679]\n",
      " [-0.35600552 -0.13923493 -0.49170278 -0.25791597 -0.13755022 -0.85399827\n",
      "   0.55867032 -0.06368881]]\n",
      "Attention\n",
      " [[1.         0.         0.         0.        ]\n",
      " [0.22354407 0.77645593 0.         0.        ]\n",
      " [0.35428885 0.60615691 0.03955424 0.        ]\n",
      " [0.40423712 0.43307862 0.04437492 0.11830934]]\n"
     ]
    }
   ],
   "execution_count": 34
  },
  {
   "cell_type": "code",
   "source": [],
   "metadata": {
    "id": "-HtQQtB2LJus",
    "ExecuteTime": {
     "end_time": "2024-08-13T22:24:13.995176Z",
     "start_time": "2024-08-13T22:24:13.993080Z"
    }
   },
   "outputs": [],
   "execution_count": 34
  }
 ]
}
