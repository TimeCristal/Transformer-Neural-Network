{
 "nbformat": 4,
 "nbformat_minor": 0,
 "metadata": {
  "colab": {
   "provenance": []
  },
  "kernelspec": {
   "name": "python3",
   "display_name": "Python 3 (ipykernel)",
   "language": "python"
  },
  "language_info": {
   "name": "python"
  }
 },
 "cells": [
  {
   "cell_type": "markdown",
   "source": [
    "## Positional Encoding\n",
    "\n",
    "This notebook will code positional encoding for Transformer neural networks with pytrch"
   ],
   "metadata": {
    "id": "NMNu7Jg5troY"
   }
  },
  {
   "cell_type": "code",
   "source": [
    "import torch\n",
    "import torch.nn as nn\n",
    "\n",
    "max_sequence_length = 10\n",
    "d_model = 6"
   ],
   "metadata": {
    "id": "H3iqZxn20a7m",
    "ExecuteTime": {
     "end_time": "2024-08-13T22:23:42.472946Z",
     "start_time": "2024-08-13T22:23:42.448109Z"
    }
   },
   "execution_count": 30,
   "outputs": []
  },
  {
   "cell_type": "markdown",
   "source": [
    "$$\n",
    "PE(\\text{position}, 2i) = \\sin\\bigg( \\frac{ \\text{position} }{10000^\\frac{2i}{d_{model}}} \\bigg)\n",
    "$$\n",
    "\n",
    "$$\n",
    "PE(\\text{position}, 2i+1) = \\cos\\bigg( \\frac{ \\text{position} }{10000^\\frac{2i}{d_{model}}} \\bigg)\n",
    "$$\n",
    "\n",
    "We can rewrite these as\n",
    "\n",
    "$$\n",
    "PE(\\text{position}, i) = \\sin\\bigg( \\frac{ \\text{position} }{10000^\\frac{i}{d_{model}}} \\bigg) \\text{ when i is even}\n",
    "$$\n",
    "\n",
    "$$\n",
    "PE(\\text{position}, i) = \\cos\\bigg( \\frac{ \\text{position} }{10000^\\frac{i-1}{d_{model}}} \\bigg) \\text{ when i is odd}\n",
    "$$"
   ],
   "metadata": {
    "id": "2aUNCBlKvxew"
   }
  },
  {
   "cell_type": "code",
   "source": [
    "even_i = torch.arange(0, d_model, 2).float()\n",
    "even_i"
   ],
   "metadata": {
    "id": "j3SWE1Nxwo-D",
    "colab": {
     "base_uri": "https://localhost:8080/"
    },
    "outputId": "5d9482c7-79ad-46cc-ce14-8e7ad7e335b2",
    "ExecuteTime": {
     "end_time": "2024-08-13T22:23:42.506767Z",
     "start_time": "2024-08-13T22:23:42.478797Z"
    }
   },
   "execution_count": 31,
   "outputs": []
  },
  {
   "cell_type": "code",
   "source": [
    "even_denominator = torch.pow(10000, even_i/d_model)\n",
    "even_denominator"
   ],
   "metadata": {
    "colab": {
     "base_uri": "https://localhost:8080/"
    },
    "id": "h-RWR30KxdLM",
    "outputId": "123b4f15-8cba-4eb7-9f5d-faabe2dbc286",
    "ExecuteTime": {
     "end_time": "2024-08-13T22:23:42.513448Z",
     "start_time": "2024-08-13T22:23:42.508384Z"
    }
   },
   "execution_count": 32,
   "outputs": []
  },
  {
   "cell_type": "code",
   "source": [
    "odd_i = torch.arange(1, d_model, 2).float()\n",
    "odd_i"
   ],
   "metadata": {
    "colab": {
     "base_uri": "https://localhost:8080/"
    },
    "id": "iITvtjTt6jO-",
    "outputId": "2a9f433f-14b6-4a42-fcb2-4b896e215de0",
    "ExecuteTime": {
     "end_time": "2024-08-13T22:23:42.518058Z",
     "start_time": "2024-08-13T22:23:42.514225Z"
    }
   },
   "execution_count": 33,
   "outputs": []
  },
  {
   "cell_type": "code",
   "source": [
    "even_denominator = torch.pow(10000, (odd_i - 1)/d_model)\n",
    "even_denominator"
   ],
   "metadata": {
    "colab": {
     "base_uri": "https://localhost:8080/"
    },
    "id": "AAIVnPLJ1JYC",
    "outputId": "67ca824f-82b1-41d8-fac5-84ff84999349",
    "ExecuteTime": {
     "end_time": "2024-08-13T22:23:42.532608Z",
     "start_time": "2024-08-13T22:23:42.519627Z"
    }
   },
   "execution_count": 34,
   "outputs": []
  },
  {
   "cell_type": "markdown",
   "source": [
    "`even_denominator` and `odd_denominator` are the same! So we can just do one of these actions and call the resulting variable `denominator`"
   ],
   "metadata": {
    "id": "LBtyLN2NAtEC"
   }
  },
  {
   "cell_type": "code",
   "source": [
    "denominator = even_denominator"
   ],
   "metadata": {
    "id": "IyjRI1imBA3F",
    "ExecuteTime": {
     "end_time": "2024-08-13T22:23:42.539534Z",
     "start_time": "2024-08-13T22:23:42.535229Z"
    }
   },
   "execution_count": 35,
   "outputs": []
  },
  {
   "cell_type": "code",
   "source": [
    "position = torch.arange(max_sequence_length, dtype=torch.float).reshape(max_sequence_length, 1)"
   ],
   "metadata": {
    "id": "WwxxoNSN-me9",
    "ExecuteTime": {
     "end_time": "2024-08-13T22:23:42.543039Z",
     "start_time": "2024-08-13T22:23:42.540281Z"
    }
   },
   "execution_count": 36,
   "outputs": []
  },
  {
   "cell_type": "code",
   "source": [
    "position"
   ],
   "metadata": {
    "colab": {
     "base_uri": "https://localhost:8080/"
    },
    "id": "1nfvUzG8-rMK",
    "outputId": "3bc44cf5-0c38-43ae-bee2-7cd86f078601",
    "ExecuteTime": {
     "end_time": "2024-08-13T22:23:42.548980Z",
     "start_time": "2024-08-13T22:23:42.543783Z"
    }
   },
   "execution_count": 37,
   "outputs": []
  },
  {
   "cell_type": "code",
   "source": [
    "even_PE = torch.sin(position / denominator)\n",
    "odd_PE = torch.cos(position / denominator)"
   ],
   "metadata": {
    "id": "XEm-9niG4VEl",
    "ExecuteTime": {
     "end_time": "2024-08-13T22:23:42.555412Z",
     "start_time": "2024-08-13T22:23:42.549634Z"
    }
   },
   "execution_count": 38,
   "outputs": []
  },
  {
   "cell_type": "code",
   "source": [
    "even_PE"
   ],
   "metadata": {
    "colab": {
     "base_uri": "https://localhost:8080/"
    },
    "id": "Uqfc01YJ43w6",
    "outputId": "b151d8fe-ce1c-4bfc-bb57-1e3ec54aae49",
    "ExecuteTime": {
     "end_time": "2024-08-13T22:23:42.561266Z",
     "start_time": "2024-08-13T22:23:42.557133Z"
    }
   },
   "execution_count": 39,
   "outputs": []
  },
  {
   "cell_type": "code",
   "source": [
    "even_PE.shape"
   ],
   "metadata": {
    "colab": {
     "base_uri": "https://localhost:8080/"
    },
    "id": "Fjmx56D25A5T",
    "outputId": "9615f471-3bc5-445e-d229-09bcd93d239e",
    "ExecuteTime": {
     "end_time": "2024-08-13T22:23:42.580820Z",
     "start_time": "2024-08-13T22:23:42.577653Z"
    }
   },
   "execution_count": 40,
   "outputs": []
  },
  {
   "cell_type": "code",
   "source": [
    "odd_PE"
   ],
   "metadata": {
    "colab": {
     "base_uri": "https://localhost:8080/"
    },
    "id": "J8TlRfY745hA",
    "outputId": "bfd9bd54-009a-4cb5-c682-88bffc6b7a4e",
    "ExecuteTime": {
     "end_time": "2024-08-13T22:23:42.617042Z",
     "start_time": "2024-08-13T22:23:42.612070Z"
    }
   },
   "execution_count": 41,
   "outputs": []
  },
  {
   "cell_type": "code",
   "source": [
    "odd_PE.shape"
   ],
   "metadata": {
    "colab": {
     "base_uri": "https://localhost:8080/"
    },
    "id": "Bazd5CSZ948R",
    "outputId": "396408c7-26b1-4268-b530-bcfa32a95d69",
    "ExecuteTime": {
     "end_time": "2024-08-13T22:23:42.645905Z",
     "start_time": "2024-08-13T22:23:42.641431Z"
    }
   },
   "execution_count": 42,
   "outputs": []
  },
  {
   "cell_type": "code",
   "source": [
    "stacked = torch.stack([even_PE, odd_PE], dim=2)\n",
    "stacked.shape"
   ],
   "metadata": {
    "colab": {
     "base_uri": "https://localhost:8080/"
    },
    "id": "X0n6V1nk_Pgg",
    "outputId": "0b9c0f1e-3a48-4993-a295-5634b73dd82c",
    "ExecuteTime": {
     "end_time": "2024-08-13T22:23:42.679646Z",
     "start_time": "2024-08-13T22:23:42.673444Z"
    }
   },
   "execution_count": 43,
   "outputs": []
  },
  {
   "cell_type": "code",
   "source": [
    "PE = torch.flatten(stacked, start_dim=1, end_dim=2)\n",
    "PE"
   ],
   "metadata": {
    "colab": {
     "base_uri": "https://localhost:8080/"
    },
    "id": "LJAGzwSF_fVV",
    "outputId": "62e15b26-d4b0-433d-8fd0-fc10b5e7311b",
    "ExecuteTime": {
     "end_time": "2024-08-13T22:23:42.710803Z",
     "start_time": "2024-08-13T22:23:42.703875Z"
    }
   },
   "execution_count": 44,
   "outputs": []
  },
  {
   "cell_type": "markdown",
   "source": [
    "## Class\n",
    "\n",
    "Let's combine all the code above into a cute class"
   ],
   "metadata": {
    "id": "Liidl3ggt0wK"
   }
  },
  {
   "cell_type": "code",
   "source": [
    "import torch\n",
    "import torch.nn as nn\n",
    "\n",
    "class PositionalEncoding(nn.Module):\n",
    "\n",
    "    def __init__(self, d_model, max_sequence_length):\n",
    "        super().__init__()\n",
    "        self.max_sequence_length = max_sequence_length\n",
    "        self.d_model = d_model\n",
    "\n",
    "    def forward(self):\n",
    "        even_i = torch.arange(0, self.d_model, 2).float()\n",
    "        denominator = torch.pow(10000, even_i/self.d_model)\n",
    "        position = torch.arange(self.max_sequence_length).reshape(self.max_sequence_length, 1)\n",
    "        even_PE = torch.sin(position / denominator)\n",
    "        odd_PE = torch.cos(position / denominator)\n",
    "        stacked = torch.stack([even_PE, odd_PE], dim=2)\n",
    "        PE = torch.flatten(stacked, start_dim=1, end_dim=2)\n",
    "        return PE"
   ],
   "metadata": {
    "id": "E1G1ziOa6SdZ",
    "ExecuteTime": {
     "end_time": "2024-08-13T22:23:42.751351Z",
     "start_time": "2024-08-13T22:23:42.746447Z"
    }
   },
   "execution_count": 45,
   "outputs": []
  },
  {
   "cell_type": "code",
   "source": [
    "pe = PositionalEncoding(d_model=6, max_sequence_length=10)\n",
    "pe.forward()"
   ],
   "metadata": {
    "colab": {
     "base_uri": "https://localhost:8080/"
    },
    "id": "ENHY3b-BDgL9",
    "outputId": "6413d8c5-7fbd-48b4-dfd6-bbae0396bd0c",
    "ExecuteTime": {
     "end_time": "2024-08-13T22:23:42.790542Z",
     "start_time": "2024-08-13T22:23:42.783940Z"
    }
   },
   "execution_count": 46,
   "outputs": []
  },
  {
   "cell_type": "markdown",
   "source": [
    "Happy Coding!"
   ],
   "metadata": {
    "id": "VjPIbLcBt6l4"
   }
  }
 ]
}
