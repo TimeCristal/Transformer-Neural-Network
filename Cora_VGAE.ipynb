{
 "cells": [
  {
   "metadata": {},
   "cell_type": "markdown",
   "source": [
    "###\t1.\tInstall Necessary Libraries:\n",
    "Ensure that you have the necessary libraries installed. You can install PyTorch-Geometric and its dependencies using pip if you haven’t already:"
   ],
   "id": "ef426fa6397a4116"
  },
  {
   "metadata": {
    "ExecuteTime": {
     "end_time": "2024-08-22T22:01:45.302343Z",
     "start_time": "2024-08-22T22:01:45.291123Z"
    }
   },
   "cell_type": "code",
   "source": "#!pip install torch torch-geometric",
   "id": "initial_id",
   "execution_count": 50,
   "outputs": []
  },
  {
   "metadata": {},
   "cell_type": "markdown",
   "source": [
    "###\t2.\tLoad and Prepare the Dataset:\n",
    "We’ll use the Cora dataset, which is a standard citation network dataset. The nodes represent documents, and the edges represent citations between them."
   ],
   "id": "e17dde0561c63c5d"
  },
  {
   "metadata": {
    "ExecuteTime": {
     "end_time": "2024-08-22T22:01:45.338080Z",
     "start_time": "2024-08-22T22:01:45.304190Z"
    }
   },
   "cell_type": "code",
   "source": [
    "from torch_geometric.transforms import RandomLinkSplit\n",
    "from torch_geometric import transforms\n",
    "import torch\n",
    "from torch_geometric.datasets import Planetoid\n",
    "from torch_geometric.utils import train_test_split_edges\n",
    "\n",
    "# Load the Cora dataset\n",
    "dataset = Planetoid(root='/tmp/Cora', name='Cora')\n",
    "\n",
    "# Use the first graph in the dataset\n",
    "data = dataset[0]\n",
    "\n",
    "# Split the edges into training, validation, and test sets\n",
    "transform = RandomLinkSplit(is_undirected=True, key=\"edge_label\", split_labels=True)\n",
    "\n",
    "train_data, val_data, test_data = transform(dataset[0])"
   ],
   "id": "a5f4bfab39622ded",
   "execution_count": 51,
   "outputs": []
  },
  {
   "metadata": {},
   "cell_type": "markdown",
   "source": [
    "###\t3.\tDefine the VGAE Model:\n",
    "We need to define the VGAE model, which consists of an encoder that maps the input features into a latent space. The encoder is typically implemented using Graph Convolutional Networks (GCNs)."
   ],
   "id": "e76734ca84783d48"
  },
  {
   "metadata": {
    "ExecuteTime": {
     "end_time": "2024-08-22T22:01:45.349676Z",
     "start_time": "2024-08-22T22:01:45.340628Z"
    }
   },
   "cell_type": "code",
   "source": [
    "from torch_geometric.nn import VGAE, GCNConv\n",
    "class GCNEncoder(torch.nn.Module):\n",
    "    def __init__(self, in_channels, out_channels):\n",
    "        super(GCNEncoder, self).__init__()\n",
    "        self.conv1 = GCNConv(in_channels, 2 * out_channels)\n",
    "        self.conv_mu = GCNConv(2 * out_channels, out_channels)\n",
    "        self.conv_logstd = GCNConv(2 * out_channels, out_channels)\n",
    "    \n",
    "    def forward(self, x, edge_index):\n",
    "        x = self.conv1(x, edge_index).relu()\n",
    "        mu = self.conv_mu(x, edge_index)\n",
    "        logstd = self.conv_logstd(x, edge_index)\n",
    "        return mu, logstd\n",
    "\n",
    "# Initialize the VGAE model\n",
    "out_channels = 16\n",
    "model = VGAE(GCNEncoder(dataset.num_features, out_channels))"
   ],
   "id": "2c6bd8c2f741c16",
   "execution_count": 52,
   "outputs": []
  },
  {
   "metadata": {},
   "cell_type": "markdown",
   "source": [
    "###\t4.\tTraining the Model:\n",
    "The model is trained by optimizing a loss function that combines a reconstruction loss (which ensures the graph is reconstructed correctly) and a KL divergence loss (which regularizes the latent space)."
   ],
   "id": "2145d6d6aad9fda8"
  },
  {
   "metadata": {
    "ExecuteTime": {
     "end_time": "2024-08-22T22:01:48.758936Z",
     "start_time": "2024-08-22T22:01:45.350937Z"
    }
   },
   "cell_type": "code",
   "source": [
    "# Define optimizer\n",
    "optimizer = torch.optim.Adam(model.parameters(), lr=0.01)\n",
    "\n",
    "# Training loop\n",
    "def train():\n",
    "    model.train()\n",
    "    optimizer.zero_grad()\n",
    "    z = model.encode(train_data.x, train_data.edge_index)\n",
    "    loss = model.recon_loss(z, train_data.edge_index)\n",
    "    loss = loss + (1 / train_data.num_nodes) * model.kl_loss()\n",
    "    loss.backward()\n",
    "    optimizer.step()\n",
    "    return loss.item()\n",
    "\n",
    "# Train the model for 200 epochs\n",
    "for epoch in range(200):\n",
    "    loss = train()\n",
    "    print(f'Epoch: {epoch:03d}, Loss: {loss:.4f}')"
   ],
   "id": "7fe6efb800a06eb4",
   "execution_count": 53,
   "outputs": []
  },
  {
   "metadata": {},
   "cell_type": "markdown",
   "source": [
    "###\t5.\tEvaluate the Model:\n",
    "After training, we can evaluate the model’s performance on the test set. The evaluation typically involves predicting the probability of edges (links) between nodes and comparing them to the true test edges."
   ],
   "id": "8640e14e743f1b75"
  },
  {
   "metadata": {
    "ExecuteTime": {
     "end_time": "2024-08-22T22:01:48.785344Z",
     "start_time": "2024-08-22T22:01:48.761391Z"
    }
   },
   "cell_type": "code",
   "source": [
    "# Test the model\n",
    "from sklearn.metrics import roc_auc_score, average_precision_score\n",
    "# Test the model\n",
    "def test(data):\n",
    "    model.eval()\n",
    "    with torch.no_grad():\n",
    "        z = model.encode(data.x, data.edge_index)\n",
    "        pos_pred = model.decode(z, data.pos_edge_label_index).cpu().numpy()\n",
    "        neg_pred = model.decode(z, data.neg_edge_label_index).cpu().numpy()\n",
    "\n",
    "        y_pred = torch.cat([torch.tensor(pos_pred), torch.tensor(neg_pred)])\n",
    "        y_true = torch.cat([torch.ones(pos_pred.shape[0]), torch.zeros(neg_pred.shape[0])])\n",
    "\n",
    "        roc_auc = roc_auc_score(y_true, y_pred)\n",
    "        ap_score = average_precision_score(y_true, y_pred)\n",
    "\n",
    "        return roc_auc, ap_score\n",
    "\n",
    "roc_auc, ap_score = test(test_data)\n",
    "print(f'ROC AUC Score: {roc_auc:.4f}, Average Precision Score: {ap_score:.4f}')"
   ],
   "id": "16f0ff13b208eff2",
   "execution_count": 54,
   "outputs": []
  }
 ],
 "metadata": {
  "kernelspec": {
   "display_name": "Python 3",
   "language": "python",
   "name": "python3"
  },
  "language_info": {
   "codemirror_mode": {
    "name": "ipython",
    "version": 2
   },
   "file_extension": ".py",
   "mimetype": "text/x-python",
   "name": "python",
   "nbconvert_exporter": "python",
   "pygments_lexer": "ipython2",
   "version": "2.7.6"
  }
 },
 "nbformat": 4,
 "nbformat_minor": 5
}
