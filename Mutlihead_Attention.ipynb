{
 "nbformat": 4,
 "nbformat_minor": 0,
 "metadata": {
  "colab": {
   "provenance": []
  },
  "kernelspec": {
   "name": "python3",
   "display_name": "Python 3 (ipykernel)",
   "language": "python"
  },
  "language_info": {
   "name": "python"
  }
 },
 "cells": [
  {
   "cell_type": "markdown",
   "source": [
    "## Multi Head Attention"
   ],
   "metadata": {
    "id": "3SvxpyUxQmqP"
   }
  },
  {
   "cell_type": "code",
   "source": [
    "import numpy as np\n",
    "import torch\n",
    "import torch.nn as nn\n",
    "import torch.nn.functional as F"
   ],
   "metadata": {
    "id": "gqzOybgA6tDz",
    "ExecuteTime": {
     "end_time": "2024-08-13T21:47:11.043996Z",
     "start_time": "2024-08-13T21:47:11.041594Z"
    }
   },
   "execution_count": 2,
   "outputs": []
  },
  {
   "cell_type": "code",
   "source": [
    "sequence_length = 4\n",
    "batch_size = 1\n",
    "input_dim = 512\n",
    "d_model = 512\n",
    "x = torch.randn( (batch_size, sequence_length, input_dim) )"
   ],
   "metadata": {
    "id": "a2NI4FSG8JY2",
    "ExecuteTime": {
     "end_time": "2024-08-13T21:47:12.850740Z",
     "start_time": "2024-08-13T21:47:12.847802Z"
    }
   },
   "execution_count": 3,
   "outputs": []
  },
  {
   "cell_type": "code",
   "source": [
    "x.size()"
   ],
   "metadata": {
    "colab": {
     "base_uri": "https://localhost:8080/"
    },
    "id": "3RII2sE0iuSh",
    "outputId": "adc44ac9-82c0-4fc1-f6ac-13da59a079e4",
    "ExecuteTime": {
     "end_time": "2024-08-13T21:47:14.394869Z",
     "start_time": "2024-08-13T21:47:14.389233Z"
    }
   },
   "execution_count": 4,
   "outputs": []
  },
  {
   "cell_type": "code",
   "source": [
    "qkv_layer = nn.Linear(input_dim , 3 * d_model)"
   ],
   "metadata": {
    "id": "xojRX8Q5jTfY",
    "ExecuteTime": {
     "end_time": "2024-08-13T21:47:16.747732Z",
     "start_time": "2024-08-13T21:47:16.741753Z"
    }
   },
   "execution_count": 5,
   "outputs": []
  },
  {
   "cell_type": "code",
   "source": [
    "qkv = qkv_layer(x)"
   ],
   "metadata": {
    "id": "tnwj8NFTkWHC",
    "ExecuteTime": {
     "end_time": "2024-08-13T21:47:19.045946Z",
     "start_time": "2024-08-13T21:47:19.038313Z"
    }
   },
   "execution_count": 6,
   "outputs": []
  },
  {
   "cell_type": "code",
   "source": [
    "qkv.shape"
   ],
   "metadata": {
    "colab": {
     "base_uri": "https://localhost:8080/"
    },
    "id": "HICI_ofJk66H",
    "outputId": "83151566-80b1-4718-cabb-137cdb3eaf09",
    "ExecuteTime": {
     "end_time": "2024-08-13T21:47:20.772714Z",
     "start_time": "2024-08-13T21:47:20.769543Z"
    }
   },
   "execution_count": 7,
   "outputs": []
  },
  {
   "cell_type": "code",
   "source": [
    "import matplotlib.pyplot as plt\n",
    "y_val = torch.histc(qkv, bins=200, min=-3, max=3)\n",
    "x_val = np.arange(-1, 1, 0.01) * 3\n",
    "plt.bar(x_val, y_val, align='center', color=['forestgreen'])\n",
    "plt.title('qkv distribution')"
   ],
   "metadata": {
    "colab": {
     "base_uri": "https://localhost:8080/",
     "height": 298
    },
    "id": "Q2B8dXUlkkEE",
    "outputId": "fa91dc19-80e5-4ac8-b47b-41a1b36db856",
    "ExecuteTime": {
     "end_time": "2024-08-13T21:47:24.380900Z",
     "start_time": "2024-08-13T21:47:23.320445Z"
    }
   },
   "execution_count": 8,
   "outputs": []
  },
  {
   "cell_type": "code",
   "source": [
    "num_heads = 8\n",
    "head_dim = d_model // num_heads\n",
    "qkv = qkv.reshape(batch_size, sequence_length, num_heads, 3 * head_dim)"
   ],
   "metadata": {
    "id": "1jJM7kC4jilO",
    "ExecuteTime": {
     "end_time": "2024-08-13T21:47:28.327316Z",
     "start_time": "2024-08-13T21:47:28.324859Z"
    }
   },
   "execution_count": 9,
   "outputs": []
  },
  {
   "cell_type": "code",
   "source": [
    "qkv.shape"
   ],
   "metadata": {
    "colab": {
     "base_uri": "https://localhost:8080/"
    },
    "id": "SEXecxu5i9NA",
    "outputId": "b629f4d6-ec64-4f5e-937f-4c3e372f6af1",
    "ExecuteTime": {
     "end_time": "2024-08-13T21:47:30.407946Z",
     "start_time": "2024-08-13T21:47:30.404544Z"
    }
   },
   "execution_count": 10,
   "outputs": []
  },
  {
   "cell_type": "code",
   "source": [
    "qkv = qkv.permute(0, 2, 1, 3) # [batch_size, num_heads, sequence_length, 3*head_dim]\n",
    "qkv.shape"
   ],
   "metadata": {
    "colab": {
     "base_uri": "https://localhost:8080/"
    },
    "id": "kAqTTEP9q59y",
    "outputId": "cef8f870-b4fb-44b9-aaba-e71e4fc2801a",
    "ExecuteTime": {
     "end_time": "2024-08-13T21:47:32.441233Z",
     "start_time": "2024-08-13T21:47:32.437935Z"
    }
   },
   "execution_count": 11,
   "outputs": []
  },
  {
   "cell_type": "code",
   "source": [
    "q, k, v = qkv.chunk(3, dim=-1)\n",
    "q.shape, k.shape, v.shape"
   ],
   "metadata": {
    "colab": {
     "base_uri": "https://localhost:8080/"
    },
    "id": "BJd52g7CrCqy",
    "outputId": "18f3ad8f-012d-4169-fa45-e6c8466d1795",
    "ExecuteTime": {
     "end_time": "2024-08-13T21:47:34.499986Z",
     "start_time": "2024-08-13T21:47:34.496691Z"
    }
   },
   "execution_count": 12,
   "outputs": []
  },
  {
   "cell_type": "markdown",
   "source": [],
   "metadata": {
    "id": "EJrxi4wdTPYO"
   }
  },
  {
   "cell_type": "markdown",
   "source": [
    "## Self Attention for multiple heads"
   ],
   "metadata": {
    "id": "TUcuHtRt8H4x"
   }
  },
  {
   "cell_type": "markdown",
   "source": [
    "For a single head:\n",
    "$$\n",
    "\\text{self attention} = softmax\\bigg(\\frac{Q.K^T}{\\sqrt{d_k}}+M\\bigg)\n",
    "$$\n",
    "\n",
    "$$\n",
    "\\text{new V} = \\text{self attention}.V\n",
    "$$ "
   ],
   "metadata": {
    "id": "X5OYtIzMQ7iI"
   }
  },
  {
   "cell_type": "code",
   "source": [
    "d_k = q.size()[-1]\n",
    "import math\n",
    "scaled = torch.matmul(q, k.transpose(-2, -1)) / math.sqrt(d_k)\n",
    "scaled.shape"
   ],
   "metadata": {
    "colab": {
     "base_uri": "https://localhost:8080/"
    },
    "id": "ywffyzop0pF-",
    "outputId": "5420219e-e438-4b9d-e0df-273ba9c5915d",
    "ExecuteTime": {
     "end_time": "2024-08-13T21:47:59.351105Z",
     "start_time": "2024-08-13T21:47:59.332723Z"
    }
   },
   "execution_count": 14,
   "outputs": []
  },
  {
   "cell_type": "code",
   "source": "k.mT.shape",
   "metadata": {
    "colab": {
     "base_uri": "https://localhost:8080/"
    },
    "id": "JIuhWR8TTGeO",
    "outputId": "3af47f70-a8c0-43f8-edb5-f2dcae5d957b",
    "ExecuteTime": {
     "end_time": "2024-08-13T21:48:45.698161Z",
     "start_time": "2024-08-13T21:48:45.694512Z"
    }
   },
   "execution_count": 16,
   "outputs": []
  },
  {
   "cell_type": "code",
   "source": [
    "y = torch.randn(2, 3)\n",
    "torch.transpose(y, 0, 1)"
   ],
   "metadata": {
    "colab": {
     "base_uri": "https://localhost:8080/"
    },
    "id": "RkUrLeoE5Vb6",
    "outputId": "c20f9988-839a-406b-eebe-242f8da41047",
    "ExecuteTime": {
     "end_time": "2024-08-13T21:48:48.441280Z",
     "start_time": "2024-08-13T21:48:48.437157Z"
    }
   },
   "execution_count": 17,
   "outputs": []
  },
  {
   "cell_type": "code",
   "source": [
    "torch.transpose(y, 1, 0)"
   ],
   "metadata": {
    "colab": {
     "base_uri": "https://localhost:8080/"
    },
    "id": "gMaODlo-5Ygz",
    "outputId": "bc61ffd0-9db4-4d4a-dc01-7ee9a3456a3f",
    "ExecuteTime": {
     "end_time": "2024-08-13T21:48:49.754499Z",
     "start_time": "2024-08-13T21:48:49.750456Z"
    }
   },
   "execution_count": 18,
   "outputs": []
  },
  {
   "cell_type": "code",
   "source": [
    "k.transpose(-1, -2) == k.transpose(-2, -1)"
   ],
   "metadata": {
    "colab": {
     "base_uri": "https://localhost:8080/"
    },
    "id": "D0PL2TSC4ZTc",
    "outputId": "403fdc2a-8523-4f50-c4a2-38fd3a7af462",
    "ExecuteTime": {
     "end_time": "2024-08-13T21:48:50.719697Z",
     "start_time": "2024-08-13T21:48:50.714345Z"
    }
   },
   "execution_count": 19,
   "outputs": []
  },
  {
   "cell_type": "code",
   "source": [
    "k.transpose(-1, -2).shape"
   ],
   "metadata": {
    "colab": {
     "base_uri": "https://localhost:8080/"
    },
    "id": "daYW7MtI49t8",
    "outputId": "42d4c383-096d-49e3-a605-3d68d0274385",
    "ExecuteTime": {
     "end_time": "2024-08-13T21:48:53.905126Z",
     "start_time": "2024-08-13T21:48:53.900890Z"
    }
   },
   "execution_count": 20,
   "outputs": []
  },
  {
   "cell_type": "code",
   "source": [
    "mask = torch.full(scaled.size() , float('-inf'))\n",
    "mask = torch.triu(mask, diagonal=1)\n",
    "mask[0][1] # mask for input to a single head"
   ],
   "metadata": {
    "colab": {
     "base_uri": "https://localhost:8080/"
    },
    "id": "b6tN6jvA0qur",
    "outputId": "84f0b8f6-0b97-431a-a0df-7c70ec973d41",
    "ExecuteTime": {
     "end_time": "2024-08-13T21:48:56.865193Z",
     "start_time": "2024-08-13T21:48:56.860490Z"
    }
   },
   "execution_count": 21,
   "outputs": []
  },
  {
   "cell_type": "code",
   "source": [
    "(scaled + mask)[0][0]"
   ],
   "metadata": {
    "colab": {
     "base_uri": "https://localhost:8080/"
    },
    "id": "gZ8nYfdm1vis",
    "outputId": "7dc6378f-c50b-41d0-bece-ac2ff837f579",
    "ExecuteTime": {
     "end_time": "2024-08-13T21:48:57.897453Z",
     "start_time": "2024-08-13T21:48:57.893552Z"
    }
   },
   "execution_count": 22,
   "outputs": []
  },
  {
   "cell_type": "code",
   "source": [
    "scaled += mask"
   ],
   "metadata": {
    "id": "efXdwo2U3FyI",
    "ExecuteTime": {
     "end_time": "2024-08-13T21:48:58.801346Z",
     "start_time": "2024-08-13T21:48:58.798575Z"
    }
   },
   "execution_count": 23,
   "outputs": []
  },
  {
   "cell_type": "code",
   "source": [
    "np.exp(0.5596) / (np.exp(0.5596) + np.exp(0.0404))"
   ],
   "metadata": {
    "colab": {
     "base_uri": "https://localhost:8080/"
    },
    "id": "FTazQyVQ3tz1",
    "outputId": "9c9c4ccc-e589-445a-810c-fef9c1339071",
    "ExecuteTime": {
     "end_time": "2024-08-13T21:48:59.772322Z",
     "start_time": "2024-08-13T21:48:59.768572Z"
    }
   },
   "execution_count": 24,
   "outputs": []
  },
  {
   "cell_type": "code",
   "source": [
    "attention = F.softmax(scaled, dim=-1)"
   ],
   "metadata": {
    "id": "w9aR2BNP3Gw_",
    "ExecuteTime": {
     "end_time": "2024-08-13T21:49:00.586964Z",
     "start_time": "2024-08-13T21:49:00.583676Z"
    }
   },
   "execution_count": 25,
   "outputs": []
  },
  {
   "cell_type": "code",
   "source": [
    "attention.shape"
   ],
   "metadata": {
    "colab": {
     "base_uri": "https://localhost:8080/"
    },
    "id": "4kKHJqT83JSy",
    "outputId": "9cefdac2-080d-444c-8050-8643c2c0163c",
    "ExecuteTime": {
     "end_time": "2024-08-13T21:49:01.700319Z",
     "start_time": "2024-08-13T21:49:01.697230Z"
    }
   },
   "execution_count": 26,
   "outputs": []
  },
  {
   "cell_type": "code",
   "source": [
    "attention[0][0]"
   ],
   "metadata": {
    "colab": {
     "base_uri": "https://localhost:8080/"
    },
    "id": "SImzTnAl3L21",
    "outputId": "368b64c2-d53b-4dba-de02-d6a363e9d9af",
    "ExecuteTime": {
     "end_time": "2024-08-13T21:49:02.876178Z",
     "start_time": "2024-08-13T21:49:02.871681Z"
    }
   },
   "execution_count": 27,
   "outputs": []
  },
  {
   "cell_type": "code",
   "source": [
    "values = torch.matmul(attention, v)\n",
    "values.shape"
   ],
   "metadata": {
    "colab": {
     "base_uri": "https://localhost:8080/"
    },
    "id": "lNB5BsNyRYZP",
    "outputId": "4eeb673c-3f44-4f74-c2da-53a0321980b8",
    "ExecuteTime": {
     "end_time": "2024-08-13T21:49:04.741904Z",
     "start_time": "2024-08-13T21:49:04.738333Z"
    }
   },
   "execution_count": 28,
   "outputs": []
  },
  {
   "cell_type": "markdown",
   "source": [
    "## Function"
   ],
   "metadata": {
    "id": "hAp7B9gDRgvW"
   }
  },
  {
   "cell_type": "code",
   "source": [
    "import math\n",
    "\n",
    "def scaled_dot_product(q, k, v, mask=None):\n",
    "    d_k = q.size()[-1]\n",
    "    scaled = torch.matmul(q, k.transpose(-1, -2)) / math.sqrt(d_k)\n",
    "    if mask is not None:\n",
    "        scaled += mask\n",
    "    attention = F.softmax(scaled, dim=-1)\n",
    "    values = torch.matmul(attention, v)\n",
    "    return values, attention"
   ],
   "metadata": {
    "id": "-C0rAup-rWNo",
    "ExecuteTime": {
     "end_time": "2024-08-13T21:49:07.909200Z",
     "start_time": "2024-08-13T21:49:07.905674Z"
    }
   },
   "execution_count": 29,
   "outputs": []
  },
  {
   "cell_type": "code",
   "source": [
    "values, attention = scaled_dot_product(q, k, v, mask=mask)"
   ],
   "metadata": {
    "id": "Plrxn94Irs2K",
    "ExecuteTime": {
     "end_time": "2024-08-13T21:49:10.149445Z",
     "start_time": "2024-08-13T21:49:10.146571Z"
    }
   },
   "execution_count": 30,
   "outputs": []
  },
  {
   "cell_type": "code",
   "source": [
    "attention.shape"
   ],
   "metadata": {
    "colab": {
     "base_uri": "https://localhost:8080/"
    },
    "id": "z4agepAfr8_u",
    "outputId": "30ad86c7-bfd4-4d61-d645-5a1c00d48779",
    "ExecuteTime": {
     "end_time": "2024-08-13T21:49:11.450120Z",
     "start_time": "2024-08-13T21:49:11.444960Z"
    }
   },
   "execution_count": 31,
   "outputs": []
  },
  {
   "cell_type": "code",
   "source": [
    "attention[0][0]"
   ],
   "metadata": {
    "colab": {
     "base_uri": "https://localhost:8080/"
    },
    "id": "Ts-vwtNXrjFP",
    "outputId": "b493b5fc-b715-48fb-80d7-61b1a4dd2599",
    "ExecuteTime": {
     "end_time": "2024-08-13T21:49:14.862930Z",
     "start_time": "2024-08-13T21:49:14.859128Z"
    }
   },
   "execution_count": 32,
   "outputs": []
  },
  {
   "cell_type": "code",
   "source": [
    "values.size()"
   ],
   "metadata": {
    "colab": {
     "base_uri": "https://localhost:8080/"
    },
    "id": "yzMrh7Q8sKW5",
    "outputId": "a43e6c78-c9bd-47e2-eafe-1b91e4453362",
    "ExecuteTime": {
     "end_time": "2024-08-13T21:49:16.430278Z",
     "start_time": "2024-08-13T21:49:16.427550Z"
    }
   },
   "execution_count": 33,
   "outputs": []
  },
  {
   "cell_type": "code",
   "source": [
    "values = values.reshape(batch_size, sequence_length, num_heads * head_dim)\n",
    "values.size()"
   ],
   "metadata": {
    "colab": {
     "base_uri": "https://localhost:8080/"
    },
    "id": "VqkGc4zdsOQ3",
    "outputId": "6dd47f8d-6a6c-4473-d810-9441155bd65b",
    "ExecuteTime": {
     "end_time": "2024-08-13T21:49:18.218088Z",
     "start_time": "2024-08-13T21:49:18.214498Z"
    }
   },
   "execution_count": 34,
   "outputs": []
  },
  {
   "cell_type": "code",
   "source": [
    "linear_layer = nn.Linear(d_model, d_model)"
   ],
   "metadata": {
    "id": "b7DH6VKMtMTu",
    "ExecuteTime": {
     "end_time": "2024-08-13T21:49:19.745283Z",
     "start_time": "2024-08-13T21:49:19.741542Z"
    }
   },
   "execution_count": 35,
   "outputs": []
  },
  {
   "cell_type": "code",
   "source": [
    "out = linear_layer(values)"
   ],
   "metadata": {
    "id": "n6zt1i51thgO",
    "ExecuteTime": {
     "end_time": "2024-08-13T21:49:21.334818Z",
     "start_time": "2024-08-13T21:49:21.332255Z"
    }
   },
   "execution_count": 36,
   "outputs": []
  },
  {
   "cell_type": "code",
   "source": [
    "out.shape"
   ],
   "metadata": {
    "colab": {
     "base_uri": "https://localhost:8080/"
    },
    "id": "38nDP4hGtjol",
    "outputId": "e1f02961-d7d2-4c2b-d496-9325258cdbc3",
    "ExecuteTime": {
     "end_time": "2024-08-13T21:49:22.660301Z",
     "start_time": "2024-08-13T21:49:22.657248Z"
    }
   },
   "execution_count": 37,
   "outputs": []
  },
  {
   "cell_type": "code",
   "source": [
    "out"
   ],
   "metadata": {
    "colab": {
     "base_uri": "https://localhost:8080/"
    },
    "id": "J2NIAo2X6gIZ",
    "outputId": "6636d212-208d-4138-be57-81965c3a2d39",
    "ExecuteTime": {
     "end_time": "2024-08-13T21:49:25.378778Z",
     "start_time": "2024-08-13T21:49:25.374317Z"
    }
   },
   "execution_count": 38,
   "outputs": []
  },
  {
   "cell_type": "markdown",
   "source": [
    "## Class"
   ],
   "metadata": {
    "id": "OmRfc7fhtc1U"
   }
  },
  {
   "cell_type": "code",
   "source": [
    "import torch\n",
    "import torch.nn as nn\n",
    "import math\n",
    "\n",
    "def scaled_dot_product(q, k, v, mask=None):\n",
    "    d_k = q.size()[-1]\n",
    "    scaled = torch.matmul(q, k.transpose(-1, -2)) / math.sqrt(d_k)\n",
    "    if mask is not None:\n",
    "        scaled += mask\n",
    "    attention = F.softmax(scaled, dim=-1)\n",
    "    values = torch.matmul(attention, v)\n",
    "    return values, attention\n",
    "\n",
    "class MultiheadAttention(nn.Module):\n",
    "\n",
    "    def __init__(self, input_dim, d_model, num_heads):\n",
    "        super().__init__()\n",
    "        self.input_dim = input_dim\n",
    "        self.d_model = d_model\n",
    "        self.num_heads = num_heads\n",
    "        self.head_dim = d_model // num_heads\n",
    "        self.qkv_layer = nn.Linear(input_dim , 3 * d_model)\n",
    "        self.linear_layer = nn.Linear(d_model, d_model)\n",
    "    \n",
    "    def forward(self, x, mask=None):\n",
    "        batch_size, sequence_length, input_dim = x.size()\n",
    "        print(f\"x.size(): {x.size()}\")\n",
    "        qkv = self.qkv_layer(x)\n",
    "        print(f\"qkv.size(): {qkv.size()}\")\n",
    "        qkv = qkv.reshape(batch_size, sequence_length, self.num_heads, 3 * self.head_dim)\n",
    "        print(f\"qkv.size(): {qkv.size()}\")\n",
    "        qkv = qkv.permute(0, 2, 1, 3)\n",
    "        print(f\"qkv.size(): {qkv.size()}\")\n",
    "        q, k, v = qkv.chunk(3, dim=-1)\n",
    "        print(f\"q size: {q.size()}, k size: {k.size()}, v size: {v.size()}, \")\n",
    "        values, attention = scaled_dot_product(q, k, v, mask)\n",
    "        print(f\"values.size(): {values.size()}, attention.size:{ attention.size()} \")\n",
    "        values = values.reshape(batch_size, sequence_length, self.num_heads * self.head_dim)\n",
    "        print(f\"values.size(): {values.size()}\")\n",
    "        out = self.linear_layer(values)\n",
    "        print(f\"out.size(): {out.size()}\")\n",
    "        return out\n"
   ],
   "metadata": {
    "id": "NSIKbDEXtcOv",
    "ExecuteTime": {
     "end_time": "2024-08-13T21:49:28.983895Z",
     "start_time": "2024-08-13T21:49:28.977894Z"
    }
   },
   "execution_count": 39,
   "outputs": []
  },
  {
   "cell_type": "markdown",
   "source": [
    "## Input"
   ],
   "metadata": {
    "id": "1Ux6hMEjyWEU"
   }
  },
  {
   "cell_type": "code",
   "source": [
    "input_dim = 1024\n",
    "d_model = 512\n",
    "num_heads = 8\n",
    "\n",
    "batch_size = 30\n",
    "sequence_length = 5\n",
    "x = torch.randn( (batch_size, sequence_length, input_dim) )\n",
    "\n",
    "model = MultiheadAttention(input_dim, d_model, num_heads)\n",
    "out = model.forward(x)"
   ],
   "metadata": {
    "colab": {
     "base_uri": "https://localhost:8080/"
    },
    "id": "PiB-SkfaxCTl",
    "outputId": "04f0a850-3a4d-427d-9345-f17082789c25",
    "ExecuteTime": {
     "end_time": "2024-08-13T21:49:31.164221Z",
     "start_time": "2024-08-13T21:49:31.145837Z"
    }
   },
   "execution_count": 40,
   "outputs": []
  },
  {
   "cell_type": "code",
   "source": [],
   "metadata": {
    "id": "84AaNS24xuUV",
    "ExecuteTime": {
     "end_time": "2024-08-13T21:49:33.701419Z",
     "start_time": "2024-08-13T21:49:33.699603Z"
    }
   },
   "execution_count": 40,
   "outputs": []
  },
  {
   "metadata": {},
   "cell_type": "code",
   "execution_count": null,
   "source": "",
   "outputs": []
  }
 ]
}
