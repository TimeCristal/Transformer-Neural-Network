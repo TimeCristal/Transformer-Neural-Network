{
 "nbformat": 4,
 "nbformat_minor": 0,
 "metadata": {
  "colab": {
   "provenance": []
  },
  "kernelspec": {
   "name": "python3",
   "display_name": "Python 3 (ipykernel)",
   "language": "python"
  },
  "language_info": {
   "name": "python"
  }
 },
 "cells": [
  {
   "cell_type": "code",
   "source": [
    "import torch\n",
    "from torch import nn"
   ],
   "metadata": {
    "id": "yauMbbQbJ5Jk",
    "ExecuteTime": {
     "end_time": "2024-08-13T21:44:54.645128Z",
     "start_time": "2024-08-13T21:44:49.288345Z"
    }
   },
   "execution_count": 1,
   "outputs": []
  },
  {
   "cell_type": "code",
   "source": [
    "inputs = torch.Tensor([[[0.2, 0.1, 0.3], [0.5, 0.1, 0.1]]])\n",
    "B, S, E = inputs.size()\n",
    "inputs = inputs.reshape(S, B, E)\n",
    "inputs.size()"
   ],
   "metadata": {
    "colab": {
     "base_uri": "https://localhost:8080/"
    },
    "id": "TL65EVE_J7KO",
    "outputId": "0d0ecb69-bc6b-4c26-91ea-15647d304287",
    "ExecuteTime": {
     "end_time": "2024-08-13T21:45:20.118805Z",
     "start_time": "2024-08-13T21:45:20.108961Z"
    }
   },
   "execution_count": 2,
   "outputs": []
  },
  {
   "cell_type": "code",
   "source": [
    "parameter_shape = inputs.size()[-2:]\n",
    "gamma = nn.Parameter(torch.ones(parameter_shape))\n",
    "beta =  nn.Parameter(torch.zeros(parameter_shape))"
   ],
   "metadata": {
    "id": "--zvWWq2KLl1",
    "ExecuteTime": {
     "end_time": "2024-08-13T21:45:24.293457Z",
     "start_time": "2024-08-13T21:45:24.290071Z"
    }
   },
   "execution_count": 3,
   "outputs": []
  },
  {
   "cell_type": "code",
   "source": [
    "gamma.size(), beta.size()"
   ],
   "metadata": {
    "colab": {
     "base_uri": "https://localhost:8080/"
    },
    "id": "YAhmuOruKYzO",
    "outputId": "755d29b3-cfcf-42d0-ccce-6ffb09efd696",
    "ExecuteTime": {
     "end_time": "2024-08-13T21:45:27.221756Z",
     "start_time": "2024-08-13T21:45:27.216723Z"
    }
   },
   "execution_count": 4,
   "outputs": []
  },
  {
   "cell_type": "code",
   "source": [
    "dims = [-(i + 1) for i in range(len(parameter_shape))]"
   ],
   "metadata": {
    "id": "85ajY22cJ5Bg",
    "ExecuteTime": {
     "end_time": "2024-08-13T21:45:29.453528Z",
     "start_time": "2024-08-13T21:45:29.450022Z"
    }
   },
   "execution_count": 5,
   "outputs": []
  },
  {
   "cell_type": "code",
   "source": [
    "dims"
   ],
   "metadata": {
    "colab": {
     "base_uri": "https://localhost:8080/"
    },
    "id": "APG-ccQ1J4zc",
    "outputId": "5c2ad65e-9740-42b5-bfd2-dfa7ed3fc24a",
    "ExecuteTime": {
     "end_time": "2024-08-13T21:45:30.497807Z",
     "start_time": "2024-08-13T21:45:30.493858Z"
    }
   },
   "execution_count": 6,
   "outputs": []
  },
  {
   "cell_type": "code",
   "source": [
    "mean = inputs.mean(dim=dims, keepdim=True)\n",
    "mean.size()"
   ],
   "metadata": {
    "colab": {
     "base_uri": "https://localhost:8080/"
    },
    "id": "Py8DHV7AMX6y",
    "outputId": "a897c5fc-a53c-497e-faae-c1c6cee49098",
    "ExecuteTime": {
     "end_time": "2024-08-13T21:45:31.815701Z",
     "start_time": "2024-08-13T21:45:31.810619Z"
    }
   },
   "execution_count": 7,
   "outputs": []
  },
  {
   "cell_type": "code",
   "source": [
    "mean"
   ],
   "metadata": {
    "colab": {
     "base_uri": "https://localhost:8080/"
    },
    "id": "P4w9NIUPQRj-",
    "outputId": "97fca7ec-f26b-4429-ff4c-197ac2c5d970",
    "ExecuteTime": {
     "end_time": "2024-08-13T21:45:33.303423Z",
     "start_time": "2024-08-13T21:45:33.297801Z"
    }
   },
   "execution_count": 8,
   "outputs": []
  },
  {
   "cell_type": "code",
   "source": [
    "var = ((inputs - mean) ** 2).mean(dim=dims, keepdim=True)\n",
    "epsilon = 1e-5\n",
    "std = (var + epsilon).sqrt()\n",
    "std"
   ],
   "metadata": {
    "colab": {
     "base_uri": "https://localhost:8080/"
    },
    "id": "1lEkVVi3M_8_",
    "outputId": "f4e2a32b-d5ed-4622-8923-eb380d5b5bfc",
    "ExecuteTime": {
     "end_time": "2024-08-13T21:45:34.798083Z",
     "start_time": "2024-08-13T21:45:34.792029Z"
    }
   },
   "execution_count": 9,
   "outputs": []
  },
  {
   "cell_type": "code",
   "source": [
    "y = (inputs - mean) / std\n",
    "y"
   ],
   "metadata": {
    "colab": {
     "base_uri": "https://localhost:8080/"
    },
    "id": "rRokYqlDN6yJ",
    "outputId": "f6dcbaf3-ad33-4d9f-e0ec-039e49424e4a",
    "ExecuteTime": {
     "end_time": "2024-08-13T21:45:37.228059Z",
     "start_time": "2024-08-13T21:45:37.222390Z"
    }
   },
   "execution_count": 10,
   "outputs": []
  },
  {
   "cell_type": "code",
   "source": [
    "out = gamma * y + beta"
   ],
   "metadata": {
    "id": "7cc8NMZVN_sQ",
    "ExecuteTime": {
     "end_time": "2024-08-13T21:45:38.627872Z",
     "start_time": "2024-08-13T21:45:38.624163Z"
    }
   },
   "execution_count": 11,
   "outputs": []
  },
  {
   "cell_type": "code",
   "source": [
    "out"
   ],
   "metadata": {
    "colab": {
     "base_uri": "https://localhost:8080/"
    },
    "id": "YquX9ABbOLKy",
    "outputId": "1bc33d96-e9e5-4a5d-e3cc-4cb9c89cea22",
    "ExecuteTime": {
     "end_time": "2024-08-13T21:45:40.025351Z",
     "start_time": "2024-08-13T21:45:40.020763Z"
    }
   },
   "execution_count": 12,
   "outputs": []
  },
  {
   "cell_type": "markdown",
   "source": [
    "## Class"
   ],
   "metadata": {
    "id": "BO4x-axkv9j8"
   }
  },
  {
   "cell_type": "code",
   "source": [
    "import torch\n",
    "from torch import nn\n",
    "\n",
    "class LayerNormalization():\n",
    "    def __init__(self, parameters_shape, eps=1e-5):\n",
    "        self.parameters_shape=parameters_shape\n",
    "        self.eps=eps\n",
    "        self.gamma = nn.Parameter(torch.ones(parameters_shape))\n",
    "        self.beta =  nn.Parameter(torch.zeros(parameters_shape))\n",
    "\n",
    "    def forward(self, input):\n",
    "        dims = [-(i + 1) for i in range(len(self.parameters_shape))]\n",
    "        mean = inputs.mean(dim=dims, keepdim=True)\n",
    "        print(f\"Mean \\n ({mean.size()}): \\n {mean}\")\n",
    "        var = ((inputs - mean) ** 2).mean(dim=dims, keepdim=True)\n",
    "        std = (var + self.eps).sqrt()\n",
    "        print(f\"Standard Deviation \\n ({std.size()}): \\n {std}\")\n",
    "        y = (inputs - mean) / std\n",
    "        print(f\"y \\n ({y.size()}) = \\n {y}\")\n",
    "        out = self.gamma * y  + self.beta\n",
    "        print(f\"out \\n ({out.size()}) = \\n {out}\")\n",
    "        return out"
   ],
   "metadata": {
    "id": "MYJ2AE7Sv-Wc",
    "ExecuteTime": {
     "end_time": "2024-08-13T21:45:44.185026Z",
     "start_time": "2024-08-13T21:45:44.178110Z"
    }
   },
   "execution_count": 13,
   "outputs": []
  },
  {
   "cell_type": "code",
   "source": [
    "batch_size = 3\n",
    "sentence_length = 5\n",
    "embedding_dim = 8 \n",
    "inputs = torch.randn(sentence_length, batch_size, embedding_dim)\n",
    "\n",
    "print(f\"input \\n ({inputs.size()}) = \\n {inputs}\")"
   ],
   "metadata": {
    "colab": {
     "base_uri": "https://localhost:8080/"
    },
    "id": "zrnZx0HYyoRz",
    "outputId": "7d894aa6-6181-4597-b160-a932fc274d70",
    "ExecuteTime": {
     "end_time": "2024-08-13T21:45:50.450533Z",
     "start_time": "2024-08-13T21:45:50.444445Z"
    }
   },
   "execution_count": 14,
   "outputs": []
  },
  {
   "cell_type": "code",
   "source": [
    "layer_norm = LayerNormalization(inputs.size()[-1:])"
   ],
   "metadata": {
    "id": "3U3akvkFys68",
    "ExecuteTime": {
     "end_time": "2024-08-13T21:45:52.826698Z",
     "start_time": "2024-08-13T21:45:52.822702Z"
    }
   },
   "execution_count": 15,
   "outputs": []
  },
  {
   "cell_type": "code",
   "source": [
    "out = layer_norm.forward(inputs)"
   ],
   "metadata": {
    "colab": {
     "base_uri": "https://localhost:8080/"
    },
    "id": "JQ9lt7LUy-g9",
    "outputId": "658ed727-ec37-4eee-fef8-e553cb084e88",
    "ExecuteTime": {
     "end_time": "2024-08-13T21:45:56.683670Z",
     "start_time": "2024-08-13T21:45:56.674835Z"
    }
   },
   "execution_count": 16,
   "outputs": []
  },
  {
   "cell_type": "code",
   "source": [
    "out[0].mean(), out[0].std()"
   ],
   "metadata": {
    "colab": {
     "base_uri": "https://localhost:8080/"
    },
    "id": "TSUGdHwL6yD2",
    "outputId": "e38f4032-4a80-477c-d0d7-ff64fe0b13e9",
    "ExecuteTime": {
     "end_time": "2024-08-13T21:45:59.429205Z",
     "start_time": "2024-08-13T21:45:59.424425Z"
    }
   },
   "execution_count": 17,
   "outputs": []
  },
  {
   "metadata": {},
   "cell_type": "code",
   "execution_count": null,
   "source": "",
   "outputs": []
  }
 ]
}
