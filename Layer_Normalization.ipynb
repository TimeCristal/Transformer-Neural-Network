{
 "nbformat": 4,
 "nbformat_minor": 0,
 "metadata": {
  "colab": {
   "provenance": []
  },
  "kernelspec": {
   "name": "python3",
   "display_name": "Python 3 (ipykernel)",
   "language": "python"
  },
  "language_info": {
   "name": "python"
  }
 },
 "cells": [
  {
   "cell_type": "code",
   "source": [
    "import torch\n",
    "from torch import nn"
   ],
   "metadata": {
    "id": "yauMbbQbJ5Jk",
    "ExecuteTime": {
     "end_time": "2024-08-13T21:44:54.645128Z",
     "start_time": "2024-08-13T21:44:49.288345Z"
    }
   },
   "outputs": [],
   "execution_count": 1
  },
  {
   "cell_type": "code",
   "source": [
    "inputs = torch.Tensor([[[0.2, 0.1, 0.3], [0.5, 0.1, 0.1]]])\n",
    "B, S, E = inputs.size()\n",
    "inputs = inputs.reshape(S, B, E)\n",
    "inputs.size()"
   ],
   "metadata": {
    "colab": {
     "base_uri": "https://localhost:8080/"
    },
    "id": "TL65EVE_J7KO",
    "outputId": "0d0ecb69-bc6b-4c26-91ea-15647d304287",
    "ExecuteTime": {
     "end_time": "2024-08-13T21:45:20.118805Z",
     "start_time": "2024-08-13T21:45:20.108961Z"
    }
   },
   "outputs": [
    {
     "data": {
      "text/plain": [
       "torch.Size([2, 1, 3])"
      ]
     },
     "execution_count": 2,
     "metadata": {},
     "output_type": "execute_result"
    }
   ],
   "execution_count": 2
  },
  {
   "cell_type": "code",
   "source": [
    "parameter_shape = inputs.size()[-2:]\n",
    "gamma = nn.Parameter(torch.ones(parameter_shape))\n",
    "beta =  nn.Parameter(torch.zeros(parameter_shape))"
   ],
   "metadata": {
    "id": "--zvWWq2KLl1",
    "ExecuteTime": {
     "end_time": "2024-08-13T21:45:24.293457Z",
     "start_time": "2024-08-13T21:45:24.290071Z"
    }
   },
   "outputs": [],
   "execution_count": 3
  },
  {
   "cell_type": "code",
   "source": [
    "gamma.size(), beta.size()"
   ],
   "metadata": {
    "colab": {
     "base_uri": "https://localhost:8080/"
    },
    "id": "YAhmuOruKYzO",
    "outputId": "755d29b3-cfcf-42d0-ccce-6ffb09efd696",
    "ExecuteTime": {
     "end_time": "2024-08-13T21:45:27.221756Z",
     "start_time": "2024-08-13T21:45:27.216723Z"
    }
   },
   "outputs": [
    {
     "data": {
      "text/plain": [
       "(torch.Size([1, 3]), torch.Size([1, 3]))"
      ]
     },
     "execution_count": 4,
     "metadata": {},
     "output_type": "execute_result"
    }
   ],
   "execution_count": 4
  },
  {
   "cell_type": "code",
   "source": [
    "dims = [-(i + 1) for i in range(len(parameter_shape))]"
   ],
   "metadata": {
    "id": "85ajY22cJ5Bg",
    "ExecuteTime": {
     "end_time": "2024-08-13T21:45:29.453528Z",
     "start_time": "2024-08-13T21:45:29.450022Z"
    }
   },
   "outputs": [],
   "execution_count": 5
  },
  {
   "cell_type": "code",
   "source": [
    "dims"
   ],
   "metadata": {
    "colab": {
     "base_uri": "https://localhost:8080/"
    },
    "id": "APG-ccQ1J4zc",
    "outputId": "5c2ad65e-9740-42b5-bfd2-dfa7ed3fc24a",
    "ExecuteTime": {
     "end_time": "2024-08-13T21:45:30.497807Z",
     "start_time": "2024-08-13T21:45:30.493858Z"
    }
   },
   "outputs": [
    {
     "data": {
      "text/plain": [
       "[-1, -2]"
      ]
     },
     "execution_count": 6,
     "metadata": {},
     "output_type": "execute_result"
    }
   ],
   "execution_count": 6
  },
  {
   "cell_type": "code",
   "source": [
    "mean = inputs.mean(dim=dims, keepdim=True)\n",
    "mean.size()"
   ],
   "metadata": {
    "colab": {
     "base_uri": "https://localhost:8080/"
    },
    "id": "Py8DHV7AMX6y",
    "outputId": "a897c5fc-a53c-497e-faae-c1c6cee49098",
    "ExecuteTime": {
     "end_time": "2024-08-13T21:45:31.815701Z",
     "start_time": "2024-08-13T21:45:31.810619Z"
    }
   },
   "outputs": [
    {
     "data": {
      "text/plain": [
       "torch.Size([2, 1, 1])"
      ]
     },
     "execution_count": 7,
     "metadata": {},
     "output_type": "execute_result"
    }
   ],
   "execution_count": 7
  },
  {
   "cell_type": "code",
   "source": [
    "mean"
   ],
   "metadata": {
    "colab": {
     "base_uri": "https://localhost:8080/"
    },
    "id": "P4w9NIUPQRj-",
    "outputId": "97fca7ec-f26b-4429-ff4c-197ac2c5d970",
    "ExecuteTime": {
     "end_time": "2024-08-13T21:45:33.303423Z",
     "start_time": "2024-08-13T21:45:33.297801Z"
    }
   },
   "outputs": [
    {
     "data": {
      "text/plain": [
       "tensor([[[0.2000]],\n",
       "\n",
       "        [[0.2333]]])"
      ]
     },
     "execution_count": 8,
     "metadata": {},
     "output_type": "execute_result"
    }
   ],
   "execution_count": 8
  },
  {
   "cell_type": "code",
   "source": [
    "var = ((inputs - mean) ** 2).mean(dim=dims, keepdim=True)\n",
    "epsilon = 1e-5\n",
    "std = (var + epsilon).sqrt()\n",
    "std"
   ],
   "metadata": {
    "colab": {
     "base_uri": "https://localhost:8080/"
    },
    "id": "1lEkVVi3M_8_",
    "outputId": "f4e2a32b-d5ed-4622-8923-eb380d5b5bfc",
    "ExecuteTime": {
     "end_time": "2024-08-13T21:45:34.798083Z",
     "start_time": "2024-08-13T21:45:34.792029Z"
    }
   },
   "outputs": [
    {
     "data": {
      "text/plain": [
       "tensor([[[0.0817]],\n",
       "\n",
       "        [[0.1886]]])"
      ]
     },
     "execution_count": 9,
     "metadata": {},
     "output_type": "execute_result"
    }
   ],
   "execution_count": 9
  },
  {
   "cell_type": "code",
   "source": [
    "y = (inputs - mean) / std\n",
    "y"
   ],
   "metadata": {
    "colab": {
     "base_uri": "https://localhost:8080/"
    },
    "id": "rRokYqlDN6yJ",
    "outputId": "f6dcbaf3-ad33-4d9f-e0ec-039e49424e4a",
    "ExecuteTime": {
     "end_time": "2024-08-13T21:45:37.228059Z",
     "start_time": "2024-08-13T21:45:37.222390Z"
    }
   },
   "outputs": [
    {
     "data": {
      "text/plain": [
       "tensor([[[ 0.0000, -1.2238,  1.2238]],\n",
       "\n",
       "        [[ 1.4140, -0.7070, -0.7070]]])"
      ]
     },
     "execution_count": 10,
     "metadata": {},
     "output_type": "execute_result"
    }
   ],
   "execution_count": 10
  },
  {
   "cell_type": "code",
   "source": [
    "out = gamma * y + beta"
   ],
   "metadata": {
    "id": "7cc8NMZVN_sQ",
    "ExecuteTime": {
     "end_time": "2024-08-13T21:45:38.627872Z",
     "start_time": "2024-08-13T21:45:38.624163Z"
    }
   },
   "outputs": [],
   "execution_count": 11
  },
  {
   "cell_type": "code",
   "source": [
    "out"
   ],
   "metadata": {
    "colab": {
     "base_uri": "https://localhost:8080/"
    },
    "id": "YquX9ABbOLKy",
    "outputId": "1bc33d96-e9e5-4a5d-e3cc-4cb9c89cea22",
    "ExecuteTime": {
     "end_time": "2024-08-13T21:45:40.025351Z",
     "start_time": "2024-08-13T21:45:40.020763Z"
    }
   },
   "outputs": [
    {
     "data": {
      "text/plain": [
       "tensor([[[ 0.0000, -1.2238,  1.2238]],\n",
       "\n",
       "        [[ 1.4140, -0.7070, -0.7070]]], grad_fn=<AddBackward0>)"
      ]
     },
     "execution_count": 12,
     "metadata": {},
     "output_type": "execute_result"
    }
   ],
   "execution_count": 12
  },
  {
   "cell_type": "markdown",
   "source": [
    "## Class"
   ],
   "metadata": {
    "id": "BO4x-axkv9j8"
   }
  },
  {
   "cell_type": "code",
   "source": [
    "import torch\n",
    "from torch import nn\n",
    "\n",
    "class LayerNormalization():\n",
    "    def __init__(self, parameters_shape, eps=1e-5):\n",
    "        self.parameters_shape=parameters_shape\n",
    "        self.eps=eps\n",
    "        self.gamma = nn.Parameter(torch.ones(parameters_shape))\n",
    "        self.beta =  nn.Parameter(torch.zeros(parameters_shape))\n",
    "\n",
    "    def forward(self, input):\n",
    "        dims = [-(i + 1) for i in range(len(self.parameters_shape))]\n",
    "        mean = inputs.mean(dim=dims, keepdim=True)\n",
    "        print(f\"Mean \\n ({mean.size()}): \\n {mean}\")\n",
    "        var = ((inputs - mean) ** 2).mean(dim=dims, keepdim=True)\n",
    "        std = (var + self.eps).sqrt()\n",
    "        print(f\"Standard Deviation \\n ({std.size()}): \\n {std}\")\n",
    "        y = (inputs - mean) / std\n",
    "        print(f\"y \\n ({y.size()}) = \\n {y}\")\n",
    "        out = self.gamma * y  + self.beta\n",
    "        print(f\"out \\n ({out.size()}) = \\n {out}\")\n",
    "        return out"
   ],
   "metadata": {
    "id": "MYJ2AE7Sv-Wc",
    "ExecuteTime": {
     "end_time": "2024-08-13T21:45:44.185026Z",
     "start_time": "2024-08-13T21:45:44.178110Z"
    }
   },
   "outputs": [],
   "execution_count": 13
  },
  {
   "cell_type": "code",
   "source": [
    "batch_size = 3\n",
    "sentence_length = 5\n",
    "embedding_dim = 8 \n",
    "inputs = torch.randn(sentence_length, batch_size, embedding_dim)\n",
    "\n",
    "print(f\"input \\n ({inputs.size()}) = \\n {inputs}\")"
   ],
   "metadata": {
    "colab": {
     "base_uri": "https://localhost:8080/"
    },
    "id": "zrnZx0HYyoRz",
    "outputId": "7d894aa6-6181-4597-b160-a932fc274d70",
    "ExecuteTime": {
     "end_time": "2024-08-13T21:45:50.450533Z",
     "start_time": "2024-08-13T21:45:50.444445Z"
    }
   },
   "outputs": [
    {
     "name": "stdout",
     "output_type": "stream",
     "text": [
      "input \n",
      " (torch.Size([5, 3, 8])) = \n",
      " tensor([[[ 1.2043e+00,  9.7202e-01, -2.2918e+00, -1.0965e+00,  1.1829e+00,\n",
      "           4.9697e-01,  3.1783e-01, -7.7466e-01],\n",
      "         [ 6.6251e-01,  1.6642e+00,  1.1274e-01,  8.6929e-01,  6.7051e-01,\n",
      "          -4.4236e-02,  8.6410e-01,  1.9468e+00],\n",
      "         [ 4.2376e-01, -4.4193e-01, -1.2858e+00, -4.4292e-01,  3.5721e-01,\n",
      "          -3.6774e-01, -1.6730e-01,  5.3514e-01]],\n",
      "\n",
      "        [[-2.7082e-02,  6.2048e-01,  1.8167e+00,  2.1104e+00,  1.5519e+00,\n",
      "           3.8018e-01,  7.0886e-02,  8.6067e-01],\n",
      "         [-4.7546e-01, -9.8065e-01, -9.5750e-01,  1.5417e-01, -1.3559e-02,\n",
      "           7.7145e-01, -1.4337e+00,  1.6206e+00],\n",
      "         [ 2.9650e+00, -2.0598e+00, -7.8759e-01,  4.4774e-01,  1.4893e+00,\n",
      "          -2.1081e+00,  8.3458e-01, -7.9242e-01]],\n",
      "\n",
      "        [[ 1.1495e+00,  5.1507e-04, -4.4897e-01, -7.1660e-01, -8.9793e-01,\n",
      "          -1.3095e+00, -8.1508e-01, -6.4028e-02],\n",
      "         [ 1.5405e+00, -5.5251e-01,  1.0124e+00,  9.9804e-01, -1.0709e+00,\n",
      "           8.2818e-01,  6.9441e-02,  2.1506e+00],\n",
      "         [-3.1472e-01, -1.0395e-02, -2.8762e-01, -1.1912e+00,  1.2818e+00,\n",
      "           1.3395e+00, -1.2486e-01, -1.0723e+00]],\n",
      "\n",
      "        [[ 3.9492e-01, -3.1305e-01, -1.4011e-01, -1.6609e-01,  1.7097e-01,\n",
      "           1.1371e+00,  2.1117e+00, -9.4130e-01],\n",
      "         [ 7.9581e-01, -2.9311e+00, -2.5549e-01,  8.0111e-01, -1.8298e+00,\n",
      "           1.9718e-01,  7.3984e-01, -6.5909e-01],\n",
      "         [ 1.1770e+00, -2.3354e-01, -6.8421e-01,  1.6407e-01, -8.2415e-01,\n",
      "          -5.9300e-01,  1.5551e+00,  8.0405e-01]],\n",
      "\n",
      "        [[ 7.5977e-01,  1.0029e+00,  4.9945e-02, -1.6480e-01,  1.8131e-01,\n",
      "           5.6430e-01, -1.2706e-01,  6.4651e-01],\n",
      "         [-1.3050e+00, -2.5088e+00, -1.1117e+00, -4.3489e-01,  8.3142e-01,\n",
      "           4.7901e-01, -6.4491e-01, -1.2087e+00],\n",
      "         [ 1.2170e+00,  1.8390e+00, -4.7079e-01,  8.9797e-01,  8.4346e-01,\n",
      "           2.6657e-01, -2.3225e-01,  8.2606e-01]]])\n"
     ]
    }
   ],
   "execution_count": 14
  },
  {
   "cell_type": "code",
   "source": [
    "layer_norm = LayerNormalization(inputs.size()[-1:])"
   ],
   "metadata": {
    "id": "3U3akvkFys68",
    "ExecuteTime": {
     "end_time": "2024-08-13T21:45:52.826698Z",
     "start_time": "2024-08-13T21:45:52.822702Z"
    }
   },
   "outputs": [],
   "execution_count": 15
  },
  {
   "cell_type": "code",
   "source": [
    "out = layer_norm.forward(inputs)"
   ],
   "metadata": {
    "colab": {
     "base_uri": "https://localhost:8080/"
    },
    "id": "JQ9lt7LUy-g9",
    "outputId": "658ed727-ec37-4eee-fef8-e553cb084e88",
    "ExecuteTime": {
     "end_time": "2024-08-13T21:45:56.683670Z",
     "start_time": "2024-08-13T21:45:56.674835Z"
    }
   },
   "outputs": [
    {
     "name": "stdout",
     "output_type": "stream",
     "text": [
      "Mean \n",
      " (torch.Size([5, 3, 1])): \n",
      " tensor([[[ 0.0014],\n",
      "         [ 0.8432],\n",
      "         [-0.1737]],\n",
      "\n",
      "        [[ 0.9230],\n",
      "         [-0.1643],\n",
      "         [-0.0014]],\n",
      "\n",
      "        [[-0.3878],\n",
      "         [ 0.6220],\n",
      "         [-0.0475]],\n",
      "\n",
      "        [[ 0.2818],\n",
      "         [-0.3927],\n",
      "         [ 0.1707]],\n",
      "\n",
      "        [[ 0.3641],\n",
      "         [-0.7379],\n",
      "         [ 0.6484]]])\n",
      "Standard Deviation \n",
      " (torch.Size([5, 3, 1])): \n",
      " tensor([[[1.1831],\n",
      "         [0.6400],\n",
      "         [0.5657]],\n",
      "\n",
      "        [[0.7602],\n",
      "         [0.9480],\n",
      "         [1.6523]],\n",
      "\n",
      "        [[0.7092],\n",
      "         [1.0042],\n",
      "         [0.8793]],\n",
      "\n",
      "        [[0.8898],\n",
      "         [1.2780],\n",
      "         [0.8513]],\n",
      "\n",
      "        [[0.4089],\n",
      "         [0.9914],\n",
      "         [0.7112]]])\n",
      "y \n",
      " (torch.Size([5, 3, 8])) = \n",
      " tensor([[[ 1.0168,  0.8204, -1.9383, -0.9280,  0.9987,  0.4189,  0.2675,\n",
      "          -0.6560],\n",
      "         [-0.2824,  1.2828, -1.1414,  0.0407, -0.2699, -1.3867,  0.0326,\n",
      "           1.7243],\n",
      "         [ 1.0561, -0.4742, -1.9658, -0.4759,  0.9385, -0.3430,  0.0113,\n",
      "           1.2530]],\n",
      "\n",
      "        [[-1.2498, -0.3980,  1.1756,  1.5619,  0.8273, -0.7141, -1.1210,\n",
      "          -0.0820],\n",
      "         [-0.3282, -0.8611, -0.8367,  0.3360,  0.1590,  0.9871, -1.3390,\n",
      "           1.8829],\n",
      "         [ 1.7953, -1.2458, -0.4758,  0.2718,  0.9022, -1.2750,  0.5059,\n",
      "          -0.4787]],\n",
      "\n",
      "        [[ 2.1678,  0.5475, -0.0863, -0.4637, -0.7194, -1.2998, -0.6026,\n",
      "           0.4565],\n",
      "         [ 0.9147, -1.1696,  0.3888,  0.3745, -1.6858,  0.2054, -0.5502,\n",
      "           1.5222],\n",
      "         [-0.3039,  0.0422, -0.2731, -1.3007,  1.5117,  1.5773, -0.0880,\n",
      "          -1.1655]],\n",
      "\n",
      "        [[ 0.1272, -0.6685, -0.4741, -0.5033, -0.1245,  0.9613,  2.0566,\n",
      "          -1.3746],\n",
      "         [ 0.9299, -1.9862,  0.1074,  0.9341, -1.1244,  0.4615,  0.8861,\n",
      "          -0.2084],\n",
      "         [ 1.1821, -0.4748, -1.0042, -0.0077, -1.1686, -0.8971,  1.6263,\n",
      "           0.7440]],\n",
      "\n",
      "        [[ 0.9676,  1.5623, -0.7683, -1.2935, -0.4471,  0.4896, -1.2012,\n",
      "           0.6906],\n",
      "         [-0.5720, -1.7862, -0.3770,  0.3057,  1.5829,  1.2275,  0.0938,\n",
      "          -0.4748],\n",
      "         [ 0.7995,  1.6741, -1.5736,  0.3509,  0.2743, -0.5368, -1.2382,\n",
      "           0.2498]]])\n",
      "out \n",
      " (torch.Size([5, 3, 8])) = \n",
      " tensor([[[ 1.0168,  0.8204, -1.9383, -0.9280,  0.9987,  0.4189,  0.2675,\n",
      "          -0.6560],\n",
      "         [-0.2824,  1.2828, -1.1414,  0.0407, -0.2699, -1.3867,  0.0326,\n",
      "           1.7243],\n",
      "         [ 1.0561, -0.4742, -1.9658, -0.4759,  0.9385, -0.3430,  0.0113,\n",
      "           1.2530]],\n",
      "\n",
      "        [[-1.2498, -0.3980,  1.1756,  1.5619,  0.8273, -0.7141, -1.1210,\n",
      "          -0.0820],\n",
      "         [-0.3282, -0.8611, -0.8367,  0.3360,  0.1590,  0.9871, -1.3390,\n",
      "           1.8829],\n",
      "         [ 1.7953, -1.2458, -0.4758,  0.2718,  0.9022, -1.2750,  0.5059,\n",
      "          -0.4787]],\n",
      "\n",
      "        [[ 2.1678,  0.5475, -0.0863, -0.4637, -0.7194, -1.2998, -0.6026,\n",
      "           0.4565],\n",
      "         [ 0.9147, -1.1696,  0.3888,  0.3745, -1.6858,  0.2054, -0.5502,\n",
      "           1.5222],\n",
      "         [-0.3039,  0.0422, -0.2731, -1.3007,  1.5117,  1.5773, -0.0880,\n",
      "          -1.1655]],\n",
      "\n",
      "        [[ 0.1272, -0.6685, -0.4741, -0.5033, -0.1245,  0.9613,  2.0566,\n",
      "          -1.3746],\n",
      "         [ 0.9299, -1.9862,  0.1074,  0.9341, -1.1244,  0.4615,  0.8861,\n",
      "          -0.2084],\n",
      "         [ 1.1821, -0.4748, -1.0042, -0.0077, -1.1686, -0.8971,  1.6263,\n",
      "           0.7440]],\n",
      "\n",
      "        [[ 0.9676,  1.5623, -0.7683, -1.2935, -0.4471,  0.4896, -1.2012,\n",
      "           0.6906],\n",
      "         [-0.5720, -1.7862, -0.3770,  0.3057,  1.5829,  1.2275,  0.0938,\n",
      "          -0.4748],\n",
      "         [ 0.7995,  1.6741, -1.5736,  0.3509,  0.2743, -0.5368, -1.2382,\n",
      "           0.2498]]], grad_fn=<AddBackward0>)\n"
     ]
    }
   ],
   "execution_count": 16
  },
  {
   "cell_type": "code",
   "source": [
    "out[0].mean(), out[0].std()"
   ],
   "metadata": {
    "colab": {
     "base_uri": "https://localhost:8080/"
    },
    "id": "TSUGdHwL6yD2",
    "outputId": "e38f4032-4a80-477c-d0d7-ff64fe0b13e9",
    "ExecuteTime": {
     "end_time": "2024-08-13T21:45:59.429205Z",
     "start_time": "2024-08-13T21:45:59.424425Z"
    }
   },
   "outputs": [
    {
     "data": {
      "text/plain": [
       "(tensor(9.9341e-09, grad_fn=<MeanBackward0>),\n",
       " tensor(1.0215, grad_fn=<StdBackward0>))"
      ]
     },
     "execution_count": 17,
     "metadata": {},
     "output_type": "execute_result"
    }
   ],
   "execution_count": 17
  },
  {
   "metadata": {},
   "cell_type": "code",
   "outputs": [],
   "execution_count": null,
   "source": ""
  }
 ]
}
