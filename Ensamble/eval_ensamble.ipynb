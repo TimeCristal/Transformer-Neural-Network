{
 "cells": [
  {
   "cell_type": "code",
   "id": "initial_id",
   "metadata": {
    "collapsed": true,
    "ExecuteTime": {
     "end_time": "2024-10-07T23:51:45.526377Z",
     "start_time": "2024-10-07T23:51:42.357125Z"
    }
   },
   "source": [
    "from sklearn.linear_model import LogisticRegression\n",
    "from sklearn.preprocessing import KBinsDiscretizer\n",
    "from sklearn.ensemble import RandomForestClassifier\n",
    "from sklearn.feature_selection import f_classif, mutual_info_classif, chi2, SelectFromModel\n",
    "from KL.kl.utils import load_fx\n",
    "import numpy as np\n",
    "window_size = 10\n",
    "pair = 'EURUSD'\n",
    "shift = 2\n",
    "X, y_high, y_low, y_close, returns = load_fx(data_start=0, data_end=5000, shift=shift, window_size=window_size, pair=pair)\n",
    "\n",
    "def get_top(score, N=4):\n",
    "    # Get the indices of the top N features with the highest f_scores\n",
    "    #N = 4  # Select the top N features\n",
    "    top_n_indices = np.argsort(score)[-N:]  # Get the indices of the N largest values\n",
    "    \n",
    "    # Reverse the order so the top feature is first\n",
    "    top_n_indices = top_n_indices[::-1]\n",
    "    \n",
    "    # print(\"Indices of top N ANOVA features:\", top_n_indices)\n",
    "    return top_n_indices\n",
    "# 1. --------------------\n",
    "f_statistic, p_values_f = f_classif(X,y_close)\n",
    "anova_top_n_indices = get_top(f_statistic)\n",
    "print(\"Indices of top N ANOVA features:\", anova_top_n_indices)\n",
    "\n",
    "# 2. -------------------\n",
    "# Discretize features into 3 bins\n",
    "discretizer = KBinsDiscretizer(n_bins=3, encode='ordinal', strategy='uniform')\n",
    "X_discretized = discretizer.fit_transform(X)\n",
    "chi2_statistic, p_values_chi2 = chi2(X_discretized,y_close)\n",
    "chi2_top_n_indices = get_top(chi2_statistic)\n",
    "print(\"Indices of top N CHI2 features:\", chi2_top_n_indices)\n",
    "# 3. -----------------------\n",
    "mi_scores = mutual_info_classif(X, y_close)\n",
    "mrmr_top_n_indices = get_top(mi_scores)\n",
    "print(\"Indices of top N MRMR features:\", mrmr_top_n_indices)\n",
    "# 4. -------------------\n",
    "sfm = SelectFromModel(estimator=RandomForestClassifier(n_estimators=100), max_features=4)\n",
    "sfm.fit(X, y_close)\n",
    "# feature_importances = sfm.estimator_.feature_importances_\n",
    "\n",
    "model_top_n_indices = sfm.get_support(indices=True)\n",
    "\n",
    "print(f\"Indices of selected features: {model_top_n_indices}\")"
   ],
   "outputs": [
    {
     "name": "stdout",
     "output_type": "stream",
     "text": [
      "Indices of top N ANOVA features: [7 3 0 6]\n",
      "Indices of top N CHI2 features: [6 0 7 2]\n",
      "Indices of top N MRMR features: [7 1 3 6]\n",
      "Indices of selected features: [1 2 7]\n"
     ]
    }
   ],
   "execution_count": 133
  },
  {
   "metadata": {
    "ExecuteTime": {
     "end_time": "2024-10-07T23:51:45.532892Z",
     "start_time": "2024-10-07T23:51:45.527877Z"
    }
   },
   "cell_type": "code",
   "source": [
    "from sklearn.neighbors import KNeighborsClassifier\n",
    "from sklearn.svm import LinearSVC, SVC\n",
    "from sklearn.linear_model import ElasticNet, SGDClassifier\n",
    "from sklearn.naive_bayes import GaussianNB, BernoulliNB\n",
    "from sklearn.ensemble import ExtraTreesClassifier, GradientBoostingClassifier, HistGradientBoostingClassifier, \\\n",
    "    IsolationForest, BaggingClassifier\n",
    "\n",
    "\n",
    "def get_models(class_weight):\n",
    "    classifiers_list = []\n",
    "    classifiers_list.append(RandomForestClassifier(class_weight=class_weight))#class_weight\n",
    "    classifiers_list.append(ExtraTreesClassifier(class_weight=class_weight))#class_weight\n",
    "    classifiers_list.append(GradientBoostingClassifier())\n",
    "    classifiers_list.append(HistGradientBoostingClassifier(class_weight=class_weight))#class_weight\n",
    "    classifiers_list.append(GaussianNB())\n",
    "    classifiers_list.append(BernoulliNB())\n",
    "    # classifiers_list.append(IsolationForest())\n",
    "    # classifiers_list.append(ElasticNet())\n",
    "    classifiers_list.append(KNeighborsClassifier()) \n",
    "    classifiers_list.append(LinearSVC(class_weight=class_weight))#class_weight/no predict_proba\n",
    "    classifiers_list.append(SGDClassifier(class_weight=class_weight))#class_weight/no predict_proba\n",
    "    classifiers_list.append(SVC(probability=True, class_weight=class_weight))#class_weight/ no predict_proba\n",
    "    classifiers_list.append(AdaBoostClassifier(algorithm='SAMME', n_estimators=100))\n",
    "    classifiers_list.append(BaggingClassifier(estimator=SVC(), n_estimators=100, random_state=0))\n",
    "    return classifiers_list"
   ],
   "id": "3901d2db19faa141",
   "outputs": [],
   "execution_count": 134
  },
  {
   "metadata": {
    "ExecuteTime": {
     "end_time": "2024-10-07T23:56:20.808250Z",
     "start_time": "2024-10-07T23:56:18.873676Z"
    }
   },
   "cell_type": "code",
   "source": [
    "from sklearn.ensemble import AdaBoostClassifier\n",
    "\n",
    "X_new_, _, _, y_close_new_, returns = load_fx(data_start=0, data_end=6000, shift=shift, window_size=window_size, pair=pair)\n",
    "X_new = X_new_[5000:6000, :]\n",
    "y_new = y_close_new_[5000:6000]\n",
    "return_new = returns[5000:6000]\n",
    "\n",
    "indices = [anova_top_n_indices, model_top_n_indices, mrmr_top_n_indices, chi2_top_n_indices]\n",
    "\n",
    "weights = {0: 1, 1: 1} \n",
    "models = get_models(weights)\n",
    "\n",
    "pred_list = []\n",
    "Len = len(y_close)\n",
    "arr_idx = np.arange(Len)\n",
    "for idx in range(len(indices)):\n",
    "    # print(indices[idx])\n",
    "    for model in models:\n",
    "        np.random.shuffle(arr_idx)\n",
    "        part_idx = arr_idx[0:int(Len*0.75)]\n",
    "        \n",
    "        model.fit(X[part_idx, indices[idx]], y_close[part_idx])\n",
    "        pred = model.predict(X_new[:, indices[idx]])\n",
    "        pred_list.append(pred)\n",
    "pred_list = np.array(pred_list).T"
   ],
   "id": "7a8048add83c11a1",
   "outputs": [
    {
     "name": "stdout",
     "output_type": "stream",
     "text": [
      "(9, 4)\n"
     ]
    },
    {
     "ename": "IndexError",
     "evalue": "shape mismatch: indexing arrays could not be broadcast together with shapes (3742,) (4,) ",
     "output_type": "error",
     "traceback": [
      "\u001B[0;31m---------------------------------------------------------------------------\u001B[0m",
      "\u001B[0;31mIndexError\u001B[0m                                Traceback (most recent call last)",
      "Cell \u001B[0;32mIn[140], line 22\u001B[0m\n\u001B[1;32m     20\u001B[0m part_idx \u001B[38;5;241m=\u001B[39m arr_idx[\u001B[38;5;241m0\u001B[39m:\u001B[38;5;28mint\u001B[39m(Len\u001B[38;5;241m*\u001B[39m\u001B[38;5;241m0.75\u001B[39m)]\n\u001B[1;32m     21\u001B[0m \u001B[38;5;28mprint\u001B[39m(X[\u001B[38;5;241m1\u001B[39m:\u001B[38;5;241m10\u001B[39m, indices[idx]]\u001B[38;5;241m.\u001B[39mshape)\n\u001B[0;32m---> 22\u001B[0m model\u001B[38;5;241m.\u001B[39mfit(\u001B[43mX\u001B[49m\u001B[43m[\u001B[49m\u001B[43mpart_idx\u001B[49m\u001B[43m,\u001B[49m\u001B[43m \u001B[49m\u001B[43mindices\u001B[49m\u001B[43m[\u001B[49m\u001B[43midx\u001B[49m\u001B[43m]\u001B[49m\u001B[43m]\u001B[49m, y_close[part_idx])\n\u001B[1;32m     23\u001B[0m pred \u001B[38;5;241m=\u001B[39m model\u001B[38;5;241m.\u001B[39mpredict(X_new[:, indices[idx]])\n\u001B[1;32m     24\u001B[0m pred_list\u001B[38;5;241m.\u001B[39mappend(pred)\n",
      "\u001B[0;31mIndexError\u001B[0m: shape mismatch: indexing arrays could not be broadcast together with shapes (3742,) (4,) "
     ]
    }
   ],
   "execution_count": 140
  },
  {
   "metadata": {
    "ExecuteTime": {
     "end_time": "2024-10-07T23:51:47.347359Z",
     "start_time": "2024-10-07T23:51:47.347279Z"
    }
   },
   "cell_type": "code",
   "source": [
    "# Calculate pairwise disagreement between models\n",
    "def disagreement_rate(pred_list):\n",
    "    n_models = pred_list.shape[1]\n",
    "    disagreement_matrix = np.zeros((n_models, n_models))\n",
    "\n",
    "    for i in range(n_models):\n",
    "        for j in range(i + 1, n_models):\n",
    "            disagreement = np.mean(pred_list[:, i] != pred_list[:, j])\n",
    "            disagreement_matrix[i, j] = disagreement\n",
    "            disagreement_matrix[j, i] = disagreement  # Symmetric matrix\n",
    "\n",
    "    return disagreement_matrix"
   ],
   "id": "1025255a667eba5d",
   "outputs": [],
   "execution_count": null
  },
  {
   "metadata": {},
   "cell_type": "markdown",
   "source": [
    "\t2.\tDiversity of Models:\n",
    "\t•\tA moderate disagreement rate (in the 30-40% range) suggests that the models are reasonably diverse, meaning they are capturing slightly different patterns in the data based on the different feature selection methods.\n",
    "\t•\tThe disagreement rates are not extremely low (close to 0), which means the models are not making identical predictions.\n",
    "\t•\tSimilarly, they are not extremely high (close to 1), which would indicate that the models are completely contradictory, which would not be ideal in an ensemble."
   ],
   "id": "b60075d6ff5617e8"
  },
  {
   "metadata": {},
   "cell_type": "code",
   "source": [
    "# Calculate the disagreement matrix\n",
    "disagreement_matrix = disagreement_rate(pred_list)\n",
    "print(\"Disagreement matrix between models:\")\n",
    "for row in disagreement_matrix:\n",
    "    formatted_row = \",\".join([f\"{value:.4f}\" for value in row])\n",
    "    print(formatted_row)"
   ],
   "id": "2451800f96c7ae21",
   "outputs": [],
   "execution_count": null
  },
  {
   "metadata": {},
   "cell_type": "code",
   "source": [
    "# Majority Voting: Aggregate the predictions\n",
    "majority_vote = np.mean(pred_list, axis=1) > 0.5\n",
    "accuracy = np.mean(majority_vote == y_new)\n",
    "\n",
    "print(f\"Majority voting accuracy: {accuracy:.4f}\")\n",
    "\n",
    "# Individual model accuracies\n",
    "for idx, pred in enumerate(pred_list.T):\n",
    "    model_accuracy = np.mean(pred == y_new)\n",
    "    print(f\"Model {idx + 1} accuracy: {model_accuracy:.4f}\")"
   ],
   "id": "593dfc0aee71ac3d",
   "outputs": [],
   "execution_count": null
  },
  {
   "metadata": {},
   "cell_type": "code",
   "source": [
    "profit = []\n",
    "for idx in range(len(return_new)):\n",
    "    if not majority_vote[idx]:\n",
    "        profit.append(return_new[idx])\n",
    "    else:\n",
    "        profit.append(-return_new[idx])\n",
    "profit = np.array(profit)\n",
    "import matplotlib.pyplot as plt\n",
    "fig, ax = plt.subplots()\n",
    "ax.plot(np.cumsum(profit))\n",
    "ax.set_title('Profit')\n",
    "plt.show()"
   ],
   "id": "a1b7efc52f51d562",
   "outputs": [],
   "execution_count": null
  },
  {
   "metadata": {},
   "cell_type": "code",
   "source": [
    "import pickle\n",
    "with open('probs.pickle', 'rb') as f:\n",
    "    # The protocol version used is detected automatically, so we do not\n",
    "    # have to specify it.\n",
    "    struct = pickle.load(f)\n",
    "probs_zero = struct[\"probs_zero\"]\n",
    "probs_one = struct[\"probs_one\"] \n",
    "class_data_eval = struct[\"class_data_eval\"] \n",
    "return_data_eval = struct[\"return_data_eval\"] \n",
    "symbols = struct[\"symbols\"]"
   ],
   "id": "9c76fcfb42dca220",
   "outputs": [],
   "execution_count": null
  },
  {
   "metadata": {},
   "cell_type": "code",
   "source": [
    "for x_idx in range(probs_one.shape[0]):\n",
    "    print('---------')\n",
    "    for y_idx in range(probs_one.shape[1]):\n",
    "        formatted_a = \",\".join([f\"{x:.2f}\" for x in probs_one[x_idx, y_idx, :]])\n",
    "        formatted_b = \",\".join([f\"{x:.2f}\" for x in probs_zero[x_idx, y_idx, :]])\n",
    "        print(f\"{symbols[y_idx]} p_one: [{formatted_a}], p_zero: [{formatted_b}] class: {class_data_eval[x_idx, y_idx]}\")"
   ],
   "id": "68c808fdffa8065c",
   "outputs": [],
   "execution_count": null
  }
 ],
 "metadata": {
  "kernelspec": {
   "display_name": "Python 3",
   "language": "python",
   "name": "python3"
  },
  "language_info": {
   "codemirror_mode": {
    "name": "ipython",
    "version": 2
   },
   "file_extension": ".py",
   "mimetype": "text/x-python",
   "name": "python",
   "nbconvert_exporter": "python",
   "pygments_lexer": "ipython2",
   "version": "2.7.6"
  }
 },
 "nbformat": 4,
 "nbformat_minor": 5
}
